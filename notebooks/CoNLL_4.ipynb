{
 "cells": [
  {
   "cell_type": "markdown",
   "metadata": {},
   "source": [
    "## CoNLL-2003 Example for Text Extensions for Pandas\n",
    "### Part 4\n",
    "\n",
    "To run this notebook, you will need to obtain a copy of the CoNLL-2003 data set's corpus.\n",
    "Drop the corpus's files into the following locations:\n",
    "* conll_03/eng.testa\n",
    "* conll_03/eng.testb\n",
    "* conll_03/eng.train\n",
    "\n",
    "If you are unfamiliar with the basics of Text Extensions for Pandas, we recommend you \n",
    "start with Part 1 of this example.\n",
    "\n",
    "### Introduction\n",
    "\n",
    "At the end of part 3 of the demo, we've shown that we can train multiple synthetic models with different levels of deliberate imprecision. We used the ensemble of models to pinpoint incorrect labels in the validation set, using \n",
    "the same methods that we employed in [`CoNLL_2.ipynb`](./CoNLL_2.ipynb).\n",
    "\n",
    "Now we need to pinpoint incorrect labels across the entire data set, including train, test, and validation sets.\n",
    "\n"
   ]
  },
  {
   "cell_type": "markdown",
   "metadata": {},
   "source": [
    "# Libraries and constants"
   ]
  },
  {
   "cell_type": "code",
   "execution_count": 1,
   "metadata": {},
   "outputs": [],
   "source": [
    "# The Jupyter kernel for this notebook usually starts up inside the notebooks\n",
    "# directory, but the text_extensions_for_pandas package code is in the parent\n",
    "# directory. Add that parent directory to the front of the Python include path.\n",
    "import sys\n",
    "if (sys.path[0] != \"..\"):\n",
    "    sys.path[0] = \"..\"\n",
    "    \n",
    "# Libraries\n",
    "import numpy as np\n",
    "import pandas as pd\n",
    "import os\n",
    "import time\n",
    "import torch\n",
    "import transformers\n",
    "from typing import *\n",
    "import sklearn.model_selection\n",
    "import sklearn.pipeline\n",
    "import matplotlib.pyplot as plt\n",
    "\n",
    "# And of course we need the text_extensions_for_pandas library itself.\n",
    "import text_extensions_for_pandas as tp\n",
    "\n",
    "# Common code shared across notebooks comes from util.py\n",
    "import util\n",
    "\n",
    "# BERT Configuration\n",
    "# Keep this in sync with `CoNLL_3.ipynb`.\n",
    "#bert_model_name = \"bert-base-uncased\"\n",
    "#bert_model_name = \"bert-large-uncased\"\n",
    "bert_model_name = \"dslim/bert-base-NER\"\n",
    "tokenizer = transformers.BertTokenizerFast.from_pretrained(bert_model_name, \n",
    "                                                           add_special_tokens=True)\n",
    "bert = transformers.BertModel.from_pretrained(bert_model_name)\n",
    "\n",
    "# If False, use cached values, provided those values are present on disk\n",
    "_REGENERATE_EMBEDDINGS = False\n",
    "_REGENERATE_MODELS = False\n",
    "\n",
    "# Number of dimensions that we reduce the BERT embeddings down to when\n",
    "# training reduced-quality models.\n",
    "#_REDUCED_DIMS = [8, 16, 32, 64, 128, 256]\n",
    "_REDUCED_DIMS = [32, 64, 128, 256]\n",
    "\n",
    "# How many models we train at each level of dimensionality reduction\n",
    "_MODELS_AT_DIM = [4] * len(_REDUCED_DIMS)\n",
    "\n",
    "# Consistent set of random seeds to use when generating dimension-reduced\n",
    "# models. Index is [index into _REDUCED_DIMS, model number], and there are\n",
    "# lots of extra entries so we don't need to resize this matrix.\n",
    "from numpy.random import default_rng\n",
    "_MASTER_SEED = 42\n",
    "rng = default_rng(_MASTER_SEED)\n",
    "_MODEL_RANDOM_SEEDS = rng.integers(0, 1e6, size=(8, 8))\n",
    "\n",
    "# Create a Pandas categorical type for consistent encoding of categories\n",
    "# across all documents.\n",
    "_ENTITY_TYPES = [\"LOC\", \"MISC\", \"ORG\", \"PER\"]\n",
    "token_class_dtype, int_to_label, label_to_int = tp.make_iob_tag_categories(_ENTITY_TYPES)\n",
    "\n",
    "# Parameters for splitting the corpus into folds\n",
    "_KFOLD_RANDOM_SEED = _MASTER_SEED\n",
    "_KFOLD_NUM_FOLDS = 10\n"
   ]
  },
  {
   "cell_type": "markdown",
   "metadata": {},
   "source": [
    "# Read inputs\n",
    "\n",
    "Read in the corpus, retokenize it with the BERT tokenizer, add BERT embeddings, and convert\n",
    "to a single dataframe."
   ]
  },
  {
   "cell_type": "code",
   "execution_count": 2,
   "metadata": {},
   "outputs": [],
   "source": [
    "# The raw dataset in its original tokenization\n",
    "raw_data = {\n",
    "    \"validation\": tp.conll_2003_to_dataframes(\"../conll_03/eng.testa\"),\n",
    "    \"test\": tp.conll_2003_to_dataframes(\"../conll_03/eng.testb\"),\n",
    "    \"train\": tp.conll_2003_to_dataframes(\"../conll_03/eng.train\"),\n",
    "}"
   ]
  },
  {
   "cell_type": "code",
   "execution_count": 3,
   "metadata": {},
   "outputs": [
    {
     "data": {
      "application/vnd.jupyter.widget-view+json": {
       "model_id": "43aef7ed29e84b5a8e41c43d7223117b",
       "version_major": 2,
       "version_minor": 0
      },
      "text/plain": [
       "IntProgress(value=0, description='Starting...', layout=Layout(width='100%'), max=231, style=ProgressStyle(desc…"
      ]
     },
     "metadata": {},
     "output_type": "display_data"
    },
    {
     "data": {
      "application/vnd.jupyter.widget-view+json": {
       "model_id": "8656f45cf62842d69e2aac6c63f7497b",
       "version_major": 2,
       "version_minor": 0
      },
      "text/plain": [
       "IntProgress(value=0, description='Starting...', layout=Layout(width='100%'), max=216, style=ProgressStyle(desc…"
      ]
     },
     "metadata": {},
     "output_type": "display_data"
    },
    {
     "data": {
      "application/vnd.jupyter.widget-view+json": {
       "model_id": "dbd4d124c5354a0e81e70c74146e2cb7",
       "version_major": 2,
       "version_minor": 0
      },
      "text/plain": [
       "IntProgress(value=0, description='Starting...', layout=Layout(width='100%'), max=946, style=ProgressStyle(desc…"
      ]
     },
     "metadata": {},
     "output_type": "display_data"
    }
   ],
   "source": [
    "# Retokenize with the BERT tokenizer\n",
    "\n",
    "bert_data = {\n",
    "    key: util.run_with_progress_bar(\n",
    "        len(val), \n",
    "        lambda i: util.conll_to_bert(val[i], tokenizer, bert, token_class_dtype,\n",
    "                                     compute_embeddings=_REGENERATE_EMBEDDINGS))\n",
    "    for key, val in raw_data.items()\n",
    "}"
   ]
  },
  {
   "cell_type": "code",
   "execution_count": 4,
   "metadata": {},
   "outputs": [
    {
     "data": {
      "text/html": [
       "<div>\n",
       "<style scoped>\n",
       "    .dataframe tbody tr th:only-of-type {\n",
       "        vertical-align: middle;\n",
       "    }\n",
       "\n",
       "    .dataframe tbody tr th {\n",
       "        vertical-align: top;\n",
       "    }\n",
       "\n",
       "    .dataframe thead th {\n",
       "        text-align: right;\n",
       "    }\n",
       "</style>\n",
       "<table border=\"1\" class=\"dataframe\">\n",
       "  <thead>\n",
       "    <tr style=\"text-align: right;\">\n",
       "      <th></th>\n",
       "      <th>fold</th>\n",
       "      <th>doc_num</th>\n",
       "      <th>token_id</th>\n",
       "      <th>ent_iob</th>\n",
       "      <th>ent_type</th>\n",
       "      <th>token_class</th>\n",
       "      <th>token_class_id</th>\n",
       "      <th>embedding</th>\n",
       "    </tr>\n",
       "  </thead>\n",
       "  <tbody>\n",
       "    <tr>\n",
       "      <th>0</th>\n",
       "      <td>train</td>\n",
       "      <td>0</td>\n",
       "      <td>0</td>\n",
       "      <td>O</td>\n",
       "      <td>&lt;NA&gt;</td>\n",
       "      <td>O</td>\n",
       "      <td>0</td>\n",
       "      <td>[-9.85052735e-02 -4.05019164e-01  7.42888451e-0...</td>\n",
       "    </tr>\n",
       "    <tr>\n",
       "      <th>1</th>\n",
       "      <td>train</td>\n",
       "      <td>0</td>\n",
       "      <td>1</td>\n",
       "      <td>O</td>\n",
       "      <td>&lt;NA&gt;</td>\n",
       "      <td>O</td>\n",
       "      <td>0</td>\n",
       "      <td>[-5.70214391e-02 -4.81120974e-01  9.89868581e-0...</td>\n",
       "    </tr>\n",
       "    <tr>\n",
       "      <th>2</th>\n",
       "      <td>train</td>\n",
       "      <td>0</td>\n",
       "      <td>2</td>\n",
       "      <td>O</td>\n",
       "      <td>&lt;NA&gt;</td>\n",
       "      <td>O</td>\n",
       "      <td>0</td>\n",
       "      <td>[-4.82423156e-02 -2.53299564e-01  1.16719258e+0...</td>\n",
       "    </tr>\n",
       "    <tr>\n",
       "      <th>3</th>\n",
       "      <td>train</td>\n",
       "      <td>0</td>\n",
       "      <td>3</td>\n",
       "      <td>O</td>\n",
       "      <td>&lt;NA&gt;</td>\n",
       "      <td>O</td>\n",
       "      <td>0</td>\n",
       "      <td>[-2.66829729e-01 -3.10087800e-01  1.00747323e+0...</td>\n",
       "    </tr>\n",
       "    <tr>\n",
       "      <th>4</th>\n",
       "      <td>train</td>\n",
       "      <td>0</td>\n",
       "      <td>4</td>\n",
       "      <td>O</td>\n",
       "      <td>&lt;NA&gt;</td>\n",
       "      <td>O</td>\n",
       "      <td>0</td>\n",
       "      <td>[-0.22296865 -0.21308494  0.93310195 -0.2613592...</td>\n",
       "    </tr>\n",
       "  </tbody>\n",
       "</table>\n",
       "</div>"
      ],
      "text/plain": [
       "    fold  doc_num  token_id ent_iob ent_type token_class  token_class_id  \\\n",
       "0  train        0         0       O     <NA>           O               0   \n",
       "1  train        0         1       O     <NA>           O               0   \n",
       "2  train        0         2       O     <NA>           O               0   \n",
       "3  train        0         3       O     <NA>           O               0   \n",
       "4  train        0         4       O     <NA>           O               0   \n",
       "\n",
       "                                           embedding  \n",
       "0 [-9.85052735e-02 -4.05019164e-01  7.42888451e-0...  \n",
       "1 [-5.70214391e-02 -4.81120974e-01  9.89868581e-0...  \n",
       "2 [-4.82423156e-02 -2.53299564e-01  1.16719258e+0...  \n",
       "3 [-2.66829729e-01 -3.10087800e-01  1.00747323e+0...  \n",
       "4 [-0.22296865 -0.21308494  0.93310195 -0.2613592...  "
      ]
     },
     "execution_count": 4,
     "metadata": {},
     "output_type": "execute_result"
    }
   ],
   "source": [
    "# Create a single dataframe of annotated tokens for the entire corpus\n",
    "if _REGENERATE_EMBEDDINGS:\n",
    "    corpus_df = util.combine_folds(bert_data)\n",
    "else:\n",
    "    # Use embeddings computed in CoNLL_3.ipynb\n",
    "    _EMBEDDINGS_FILE = \"outputs/corpus.feather\"\n",
    "    if not os.path.exists(_EMBEDDINGS_FILE):\n",
    "        raise ValueError(f\"Precomputed embeddings not found at {_EMBEDDINGS_FILE}. \"\n",
    "                         f\"Please rerun CoNLL_3.ipynb to regenerate this file, or \"\n",
    "                         f\"set _REGENERATE_EMBEDDINGS to True in the previous cell.\")\n",
    "    corpus_df = pd.read_feather(\"outputs/corpus.feather\")\n",
    "\n",
    "corpus_df.head()"
   ]
  },
  {
   "cell_type": "markdown",
   "metadata": {},
   "source": [
    "# Prepare folds for a 10-fold cross-validation\n",
    "\n",
    "We divide the documents of the corpus into 10 random samples."
   ]
  },
  {
   "cell_type": "code",
   "execution_count": 5,
   "metadata": {},
   "outputs": [
    {
     "data": {
      "text/html": [
       "<div>\n",
       "<style scoped>\n",
       "    .dataframe tbody tr th:only-of-type {\n",
       "        vertical-align: middle;\n",
       "    }\n",
       "\n",
       "    .dataframe tbody tr th {\n",
       "        vertical-align: top;\n",
       "    }\n",
       "\n",
       "    .dataframe thead th {\n",
       "        text-align: right;\n",
       "    }\n",
       "</style>\n",
       "<table border=\"1\" class=\"dataframe\">\n",
       "  <thead>\n",
       "    <tr style=\"text-align: right;\">\n",
       "      <th></th>\n",
       "      <th>fold</th>\n",
       "      <th>doc_num</th>\n",
       "    </tr>\n",
       "  </thead>\n",
       "  <tbody>\n",
       "    <tr>\n",
       "      <th>0</th>\n",
       "      <td>train</td>\n",
       "      <td>0</td>\n",
       "    </tr>\n",
       "    <tr>\n",
       "      <th>1</th>\n",
       "      <td>train</td>\n",
       "      <td>1</td>\n",
       "    </tr>\n",
       "    <tr>\n",
       "      <th>2</th>\n",
       "      <td>train</td>\n",
       "      <td>2</td>\n",
       "    </tr>\n",
       "    <tr>\n",
       "      <th>3</th>\n",
       "      <td>train</td>\n",
       "      <td>3</td>\n",
       "    </tr>\n",
       "    <tr>\n",
       "      <th>4</th>\n",
       "      <td>train</td>\n",
       "      <td>4</td>\n",
       "    </tr>\n",
       "    <tr>\n",
       "      <th>...</th>\n",
       "      <td>...</td>\n",
       "      <td>...</td>\n",
       "    </tr>\n",
       "    <tr>\n",
       "      <th>1388</th>\n",
       "      <td>validation</td>\n",
       "      <td>226</td>\n",
       "    </tr>\n",
       "    <tr>\n",
       "      <th>1389</th>\n",
       "      <td>validation</td>\n",
       "      <td>227</td>\n",
       "    </tr>\n",
       "    <tr>\n",
       "      <th>1390</th>\n",
       "      <td>validation</td>\n",
       "      <td>228</td>\n",
       "    </tr>\n",
       "    <tr>\n",
       "      <th>1391</th>\n",
       "      <td>validation</td>\n",
       "      <td>229</td>\n",
       "    </tr>\n",
       "    <tr>\n",
       "      <th>1392</th>\n",
       "      <td>validation</td>\n",
       "      <td>230</td>\n",
       "    </tr>\n",
       "  </tbody>\n",
       "</table>\n",
       "<p>1393 rows × 2 columns</p>\n",
       "</div>"
      ],
      "text/plain": [
       "            fold  doc_num\n",
       "0          train        0\n",
       "1          train        1\n",
       "2          train        2\n",
       "3          train        3\n",
       "4          train        4\n",
       "...          ...      ...\n",
       "1388  validation      226\n",
       "1389  validation      227\n",
       "1390  validation      228\n",
       "1391  validation      229\n",
       "1392  validation      230\n",
       "\n",
       "[1393 rows x 2 columns]"
      ]
     },
     "execution_count": 5,
     "metadata": {},
     "output_type": "execute_result"
    }
   ],
   "source": [
    "# IDs for each of the keys\n",
    "doc_keys = corpus_df[[\"fold\", \"doc_num\"]].drop_duplicates().reset_index(drop=True)\n",
    "doc_keys"
   ]
  },
  {
   "cell_type": "code",
   "execution_count": 6,
   "metadata": {},
   "outputs": [
    {
     "data": {
      "text/html": [
       "<div>\n",
       "<style scoped>\n",
       "    .dataframe tbody tr th:only-of-type {\n",
       "        vertical-align: middle;\n",
       "    }\n",
       "\n",
       "    .dataframe tbody tr th {\n",
       "        vertical-align: top;\n",
       "    }\n",
       "\n",
       "    .dataframe thead th {\n",
       "        text-align: right;\n",
       "    }\n",
       "</style>\n",
       "<table border=\"1\" class=\"dataframe\">\n",
       "  <thead>\n",
       "    <tr style=\"text-align: right;\">\n",
       "      <th></th>\n",
       "      <th>fold</th>\n",
       "      <th>doc_num</th>\n",
       "    </tr>\n",
       "  </thead>\n",
       "  <tbody>\n",
       "    <tr>\n",
       "      <th>146</th>\n",
       "      <td>train</td>\n",
       "      <td>146</td>\n",
       "    </tr>\n",
       "    <tr>\n",
       "      <th>1164</th>\n",
       "      <td>validation</td>\n",
       "      <td>2</td>\n",
       "    </tr>\n",
       "    <tr>\n",
       "      <th>483</th>\n",
       "      <td>train</td>\n",
       "      <td>483</td>\n",
       "    </tr>\n",
       "    <tr>\n",
       "      <th>1190</th>\n",
       "      <td>validation</td>\n",
       "      <td>28</td>\n",
       "    </tr>\n",
       "    <tr>\n",
       "      <th>20</th>\n",
       "      <td>train</td>\n",
       "      <td>20</td>\n",
       "    </tr>\n",
       "    <tr>\n",
       "      <th>237</th>\n",
       "      <td>train</td>\n",
       "      <td>237</td>\n",
       "    </tr>\n",
       "    <tr>\n",
       "      <th>86</th>\n",
       "      <td>train</td>\n",
       "      <td>86</td>\n",
       "    </tr>\n",
       "    <tr>\n",
       "      <th>408</th>\n",
       "      <td>train</td>\n",
       "      <td>408</td>\n",
       "    </tr>\n",
       "    <tr>\n",
       "      <th>1252</th>\n",
       "      <td>validation</td>\n",
       "      <td>90</td>\n",
       "    </tr>\n",
       "    <tr>\n",
       "      <th>1213</th>\n",
       "      <td>validation</td>\n",
       "      <td>51</td>\n",
       "    </tr>\n",
       "  </tbody>\n",
       "</table>\n",
       "</div>"
      ],
      "text/plain": [
       "            fold  doc_num\n",
       "146        train      146\n",
       "1164  validation        2\n",
       "483        train      483\n",
       "1190  validation       28\n",
       "20         train       20\n",
       "237        train      237\n",
       "86         train       86\n",
       "408        train      408\n",
       "1252  validation       90\n",
       "1213  validation       51"
      ]
     },
     "execution_count": 6,
     "metadata": {},
     "output_type": "execute_result"
    }
   ],
   "source": [
    "# We want to split the documents randomly into _NUM_FOLDS sets, then\n",
    "# for each stage of cross-validation train a model on the union of\n",
    "# (_NUM_FOLDS - 1) of them while testing on the remaining fold.\n",
    "# sklearn.model_selection doesn't implement this approach directly,\n",
    "# but we can piece it together with some help from Numpy.\n",
    "#from numpy.random import default_rng\n",
    "rng = np.random.default_rng(seed=_KFOLD_RANDOM_SEED)\n",
    "iloc_order = rng.permutation(len(doc_keys.index))\n",
    "kf = sklearn.model_selection.KFold(n_splits=_KFOLD_NUM_FOLDS)\n",
    "\n",
    "train_keys = []\n",
    "test_keys = []\n",
    "for train_ix, test_ix in kf.split(iloc_order):\n",
    "    # sklearn.model_selection.KFold gives us a partitioning of the\n",
    "    # numbers from 0 to len(iloc_order). Use that partitioning to \n",
    "    # choose elements from iloc_order, then use those elements to \n",
    "    # index into doc_keys.\n",
    "    train_iloc = iloc_order[train_ix]\n",
    "    test_iloc = iloc_order[test_ix]\n",
    "    train_keys.append(doc_keys.iloc[train_iloc])\n",
    "    test_keys.append(doc_keys.iloc[test_iloc])\n",
    "\n",
    "train_keys[1].head(10)"
   ]
  },
  {
   "cell_type": "markdown",
   "metadata": {},
   "source": [
    "# Dry run: Train and evaluate models on the first fold\n",
    "\n",
    "Train models on the first of our 10 folds and manually examine some of the \n",
    "model outputs."
   ]
  },
  {
   "cell_type": "code",
   "execution_count": 7,
   "metadata": {},
   "outputs": [
    {
     "data": {
      "text/html": [
       "<div>\n",
       "<style scoped>\n",
       "    .dataframe tbody tr th:only-of-type {\n",
       "        vertical-align: middle;\n",
       "    }\n",
       "\n",
       "    .dataframe tbody tr th {\n",
       "        vertical-align: top;\n",
       "    }\n",
       "\n",
       "    .dataframe thead th {\n",
       "        text-align: right;\n",
       "    }\n",
       "</style>\n",
       "<table border=\"1\" class=\"dataframe\">\n",
       "  <thead>\n",
       "    <tr style=\"text-align: right;\">\n",
       "      <th></th>\n",
       "      <th>fold</th>\n",
       "      <th>doc_num</th>\n",
       "      <th>token_id</th>\n",
       "      <th>ent_iob</th>\n",
       "      <th>ent_type</th>\n",
       "      <th>token_class</th>\n",
       "      <th>token_class_id</th>\n",
       "      <th>embedding</th>\n",
       "    </tr>\n",
       "  </thead>\n",
       "  <tbody>\n",
       "    <tr>\n",
       "      <th>0</th>\n",
       "      <td>train</td>\n",
       "      <td>0</td>\n",
       "      <td>0</td>\n",
       "      <td>O</td>\n",
       "      <td>&lt;NA&gt;</td>\n",
       "      <td>O</td>\n",
       "      <td>0</td>\n",
       "      <td>[-9.85052735e-02 -4.05019164e-01  7.42888451e-0...</td>\n",
       "    </tr>\n",
       "    <tr>\n",
       "      <th>1</th>\n",
       "      <td>train</td>\n",
       "      <td>0</td>\n",
       "      <td>1</td>\n",
       "      <td>O</td>\n",
       "      <td>&lt;NA&gt;</td>\n",
       "      <td>O</td>\n",
       "      <td>0</td>\n",
       "      <td>[-5.70214391e-02 -4.81120974e-01  9.89868581e-0...</td>\n",
       "    </tr>\n",
       "    <tr>\n",
       "      <th>2</th>\n",
       "      <td>train</td>\n",
       "      <td>0</td>\n",
       "      <td>2</td>\n",
       "      <td>O</td>\n",
       "      <td>&lt;NA&gt;</td>\n",
       "      <td>O</td>\n",
       "      <td>0</td>\n",
       "      <td>[-4.82423156e-02 -2.53299564e-01  1.16719258e+0...</td>\n",
       "    </tr>\n",
       "    <tr>\n",
       "      <th>3</th>\n",
       "      <td>train</td>\n",
       "      <td>0</td>\n",
       "      <td>3</td>\n",
       "      <td>O</td>\n",
       "      <td>&lt;NA&gt;</td>\n",
       "      <td>O</td>\n",
       "      <td>0</td>\n",
       "      <td>[-2.66829729e-01 -3.10087800e-01  1.00747323e+0...</td>\n",
       "    </tr>\n",
       "    <tr>\n",
       "      <th>4</th>\n",
       "      <td>train</td>\n",
       "      <td>0</td>\n",
       "      <td>4</td>\n",
       "      <td>O</td>\n",
       "      <td>&lt;NA&gt;</td>\n",
       "      <td>O</td>\n",
       "      <td>0</td>\n",
       "      <td>[-0.22296865 -0.21308494  0.93310195 -0.2613592...</td>\n",
       "    </tr>\n",
       "    <tr>\n",
       "      <th>...</th>\n",
       "      <td>...</td>\n",
       "      <td>...</td>\n",
       "      <td>...</td>\n",
       "      <td>...</td>\n",
       "      <td>...</td>\n",
       "      <td>...</td>\n",
       "      <td>...</td>\n",
       "      <td>...</td>\n",
       "    </tr>\n",
       "    <tr>\n",
       "      <th>371472</th>\n",
       "      <td>validation</td>\n",
       "      <td>230</td>\n",
       "      <td>314</td>\n",
       "      <td>O</td>\n",
       "      <td>&lt;NA&gt;</td>\n",
       "      <td>O</td>\n",
       "      <td>0</td>\n",
       "      <td>[-2.81731989e-02 -8.06229934e-02  9.80488837e-0...</td>\n",
       "    </tr>\n",
       "    <tr>\n",
       "      <th>371473</th>\n",
       "      <td>validation</td>\n",
       "      <td>230</td>\n",
       "      <td>315</td>\n",
       "      <td>O</td>\n",
       "      <td>&lt;NA&gt;</td>\n",
       "      <td>O</td>\n",
       "      <td>0</td>\n",
       "      <td>[ 1.18173525e-01 -7.00841174e-02  8.65484536e-0...</td>\n",
       "    </tr>\n",
       "    <tr>\n",
       "      <th>371474</th>\n",
       "      <td>validation</td>\n",
       "      <td>230</td>\n",
       "      <td>316</td>\n",
       "      <td>B</td>\n",
       "      <td>PER</td>\n",
       "      <td>B-PER</td>\n",
       "      <td>4</td>\n",
       "      <td>[-3.56894195e-01  3.14004213e-01  1.57385373e+0...</td>\n",
       "    </tr>\n",
       "    <tr>\n",
       "      <th>371475</th>\n",
       "      <td>validation</td>\n",
       "      <td>230</td>\n",
       "      <td>317</td>\n",
       "      <td>O</td>\n",
       "      <td>&lt;NA&gt;</td>\n",
       "      <td>O</td>\n",
       "      <td>0</td>\n",
       "      <td>[-1.89571261e-01 -2.45811537e-01  6.62573814e-0...</td>\n",
       "    </tr>\n",
       "    <tr>\n",
       "      <th>371476</th>\n",
       "      <td>validation</td>\n",
       "      <td>230</td>\n",
       "      <td>318</td>\n",
       "      <td>O</td>\n",
       "      <td>&lt;NA&gt;</td>\n",
       "      <td>O</td>\n",
       "      <td>0</td>\n",
       "      <td>[-0.446891   -0.31665263  0.7796889   0.369954 ...</td>\n",
       "    </tr>\n",
       "  </tbody>\n",
       "</table>\n",
       "<p>371477 rows × 8 columns</p>\n",
       "</div>"
      ],
      "text/plain": [
       "              fold  doc_num  token_id ent_iob ent_type token_class  \\\n",
       "0            train        0         0       O     <NA>           O   \n",
       "1            train        0         1       O     <NA>           O   \n",
       "2            train        0         2       O     <NA>           O   \n",
       "3            train        0         3       O     <NA>           O   \n",
       "4            train        0         4       O     <NA>           O   \n",
       "...            ...      ...       ...     ...      ...         ...   \n",
       "371472  validation      230       314       O     <NA>           O   \n",
       "371473  validation      230       315       O     <NA>           O   \n",
       "371474  validation      230       316       B      PER       B-PER   \n",
       "371475  validation      230       317       O     <NA>           O   \n",
       "371476  validation      230       318       O     <NA>           O   \n",
       "\n",
       "        token_class_id                                          embedding  \n",
       "0                    0 [-9.85052735e-02 -4.05019164e-01  7.42888451e-0...  \n",
       "1                    0 [-5.70214391e-02 -4.81120974e-01  9.89868581e-0...  \n",
       "2                    0 [-4.82423156e-02 -2.53299564e-01  1.16719258e+0...  \n",
       "3                    0 [-2.66829729e-01 -3.10087800e-01  1.00747323e+0...  \n",
       "4                    0 [-0.22296865 -0.21308494  0.93310195 -0.2613592...  \n",
       "...                ...                                                ...  \n",
       "371472               0 [-2.81731989e-02 -8.06229934e-02  9.80488837e-0...  \n",
       "371473               0 [ 1.18173525e-01 -7.00841174e-02  8.65484536e-0...  \n",
       "371474               4 [-3.56894195e-01  3.14004213e-01  1.57385373e+0...  \n",
       "371475               0 [-1.89571261e-01 -2.45811537e-01  6.62573814e-0...  \n",
       "371476               0 [-0.446891   -0.31665263  0.7796889   0.369954 ...  \n",
       "\n",
       "[371477 rows x 8 columns]"
      ]
     },
     "execution_count": 7,
     "metadata": {},
     "output_type": "execute_result"
    }
   ],
   "source": [
    "# Gather the training set together by joining our list of documents\n",
    "# with the entire corpus on the composite key <fold, doc_num>\n",
    "train_inputs_df = corpus_df.merge(train_keys[0])\n",
    "train_inputs_df"
   ]
  },
  {
   "cell_type": "code",
   "execution_count": 8,
   "metadata": {},
   "outputs": [
    {
     "data": {
      "text/html": [
       "<div>\n",
       "<style scoped>\n",
       "    .dataframe tbody tr th:only-of-type {\n",
       "        vertical-align: middle;\n",
       "    }\n",
       "\n",
       "    .dataframe tbody tr th {\n",
       "        vertical-align: top;\n",
       "    }\n",
       "\n",
       "    .dataframe thead th {\n",
       "        text-align: right;\n",
       "    }\n",
       "</style>\n",
       "<table border=\"1\" class=\"dataframe\">\n",
       "  <thead>\n",
       "    <tr style=\"text-align: right;\">\n",
       "      <th></th>\n",
       "      <th>fold</th>\n",
       "      <th>doc_num</th>\n",
       "      <th>token_id</th>\n",
       "      <th>ent_iob</th>\n",
       "      <th>ent_type</th>\n",
       "      <th>token_class</th>\n",
       "      <th>token_class_id</th>\n",
       "      <th>embedding</th>\n",
       "    </tr>\n",
       "  </thead>\n",
       "  <tbody>\n",
       "    <tr>\n",
       "      <th>0</th>\n",
       "      <td>train</td>\n",
       "      <td>12</td>\n",
       "      <td>0</td>\n",
       "      <td>O</td>\n",
       "      <td>&lt;NA&gt;</td>\n",
       "      <td>O</td>\n",
       "      <td>0</td>\n",
       "      <td>[-1.01978004e-01 -4.24425751e-01  8.44016969e-0...</td>\n",
       "    </tr>\n",
       "    <tr>\n",
       "      <th>1</th>\n",
       "      <td>train</td>\n",
       "      <td>12</td>\n",
       "      <td>1</td>\n",
       "      <td>O</td>\n",
       "      <td>&lt;NA&gt;</td>\n",
       "      <td>O</td>\n",
       "      <td>0</td>\n",
       "      <td>[-9.12464187e-02 -4.77107286e-01  1.12029290e+0...</td>\n",
       "    </tr>\n",
       "    <tr>\n",
       "      <th>2</th>\n",
       "      <td>train</td>\n",
       "      <td>12</td>\n",
       "      <td>2</td>\n",
       "      <td>O</td>\n",
       "      <td>&lt;NA&gt;</td>\n",
       "      <td>O</td>\n",
       "      <td>0</td>\n",
       "      <td>[-1.69527739e-01 -2.70634800e-01  1.20956659e+0...</td>\n",
       "    </tr>\n",
       "    <tr>\n",
       "      <th>3</th>\n",
       "      <td>train</td>\n",
       "      <td>12</td>\n",
       "      <td>3</td>\n",
       "      <td>O</td>\n",
       "      <td>&lt;NA&gt;</td>\n",
       "      <td>O</td>\n",
       "      <td>0</td>\n",
       "      <td>[-2.76481658e-01 -3.67584765e-01  1.09202504e+0...</td>\n",
       "    </tr>\n",
       "    <tr>\n",
       "      <th>4</th>\n",
       "      <td>train</td>\n",
       "      <td>12</td>\n",
       "      <td>4</td>\n",
       "      <td>O</td>\n",
       "      <td>&lt;NA&gt;</td>\n",
       "      <td>O</td>\n",
       "      <td>0</td>\n",
       "      <td>[-2.40506083e-01 -2.42475241e-01  1.07511532e+0...</td>\n",
       "    </tr>\n",
       "    <tr>\n",
       "      <th>...</th>\n",
       "      <td>...</td>\n",
       "      <td>...</td>\n",
       "      <td>...</td>\n",
       "      <td>...</td>\n",
       "      <td>...</td>\n",
       "      <td>...</td>\n",
       "      <td>...</td>\n",
       "      <td>...</td>\n",
       "    </tr>\n",
       "    <tr>\n",
       "      <th>45059</th>\n",
       "      <td>validation</td>\n",
       "      <td>225</td>\n",
       "      <td>75</td>\n",
       "      <td>O</td>\n",
       "      <td>&lt;NA&gt;</td>\n",
       "      <td>O</td>\n",
       "      <td>0</td>\n",
       "      <td>[-9.62142125e-02 -4.80168909e-01  5.10937929e-0...</td>\n",
       "    </tr>\n",
       "    <tr>\n",
       "      <th>45060</th>\n",
       "      <td>validation</td>\n",
       "      <td>225</td>\n",
       "      <td>76</td>\n",
       "      <td>O</td>\n",
       "      <td>&lt;NA&gt;</td>\n",
       "      <td>O</td>\n",
       "      <td>0</td>\n",
       "      <td>[-8.58625025e-02 -2.34172851e-01  8.32927167e-0...</td>\n",
       "    </tr>\n",
       "    <tr>\n",
       "      <th>45061</th>\n",
       "      <td>validation</td>\n",
       "      <td>225</td>\n",
       "      <td>77</td>\n",
       "      <td>O</td>\n",
       "      <td>&lt;NA&gt;</td>\n",
       "      <td>O</td>\n",
       "      <td>0</td>\n",
       "      <td>[-1.22388881e-02 -4.28266555e-01  6.19482934e-0...</td>\n",
       "    </tr>\n",
       "    <tr>\n",
       "      <th>45062</th>\n",
       "      <td>validation</td>\n",
       "      <td>225</td>\n",
       "      <td>78</td>\n",
       "      <td>O</td>\n",
       "      <td>&lt;NA&gt;</td>\n",
       "      <td>O</td>\n",
       "      <td>0</td>\n",
       "      <td>[-4.29561362e-02 -3.63153756e-01  6.60203218e-0...</td>\n",
       "    </tr>\n",
       "    <tr>\n",
       "      <th>45063</th>\n",
       "      <td>validation</td>\n",
       "      <td>225</td>\n",
       "      <td>79</td>\n",
       "      <td>O</td>\n",
       "      <td>&lt;NA&gt;</td>\n",
       "      <td>O</td>\n",
       "      <td>0</td>\n",
       "      <td>[-9.50418890e-01  1.29836444e-02  7.37498105e-0...</td>\n",
       "    </tr>\n",
       "  </tbody>\n",
       "</table>\n",
       "<p>45064 rows × 8 columns</p>\n",
       "</div>"
      ],
      "text/plain": [
       "             fold  doc_num  token_id ent_iob ent_type token_class  \\\n",
       "0           train       12         0       O     <NA>           O   \n",
       "1           train       12         1       O     <NA>           O   \n",
       "2           train       12         2       O     <NA>           O   \n",
       "3           train       12         3       O     <NA>           O   \n",
       "4           train       12         4       O     <NA>           O   \n",
       "...           ...      ...       ...     ...      ...         ...   \n",
       "45059  validation      225        75       O     <NA>           O   \n",
       "45060  validation      225        76       O     <NA>           O   \n",
       "45061  validation      225        77       O     <NA>           O   \n",
       "45062  validation      225        78       O     <NA>           O   \n",
       "45063  validation      225        79       O     <NA>           O   \n",
       "\n",
       "       token_class_id                                          embedding  \n",
       "0                   0 [-1.01978004e-01 -4.24425751e-01  8.44016969e-0...  \n",
       "1                   0 [-9.12464187e-02 -4.77107286e-01  1.12029290e+0...  \n",
       "2                   0 [-1.69527739e-01 -2.70634800e-01  1.20956659e+0...  \n",
       "3                   0 [-2.76481658e-01 -3.67584765e-01  1.09202504e+0...  \n",
       "4                   0 [-2.40506083e-01 -2.42475241e-01  1.07511532e+0...  \n",
       "...               ...                                                ...  \n",
       "45059               0 [-9.62142125e-02 -4.80168909e-01  5.10937929e-0...  \n",
       "45060               0 [-8.58625025e-02 -2.34172851e-01  8.32927167e-0...  \n",
       "45061               0 [-1.22388881e-02 -4.28266555e-01  6.19482934e-0...  \n",
       "45062               0 [-4.29561362e-02 -3.63153756e-01  6.60203218e-0...  \n",
       "45063               0 [-9.50418890e-01  1.29836444e-02  7.37498105e-0...  \n",
       "\n",
       "[45064 rows x 8 columns]"
      ]
     },
     "execution_count": 8,
     "metadata": {},
     "output_type": "execute_result"
    }
   ],
   "source": [
    "# Repeat the same process for the test set\n",
    "test_inputs_df = corpus_df.merge(test_keys[0])\n",
    "test_inputs_df"
   ]
  },
  {
   "cell_type": "markdown",
   "metadata": {},
   "source": [
    "## Train an ensemble of models"
   ]
  },
  {
   "cell_type": "code",
   "execution_count": 9,
   "metadata": {},
   "outputs": [
    {
     "name": "stdout",
     "output_type": "stream",
     "text": [
      "Loaded 17 models from outputs/fold_0_models.pickle.\n",
      "Model names after loading or training: 32_1, 32_2, 32_3, 32_4, 64_1, 64_2, 64_3, 64_4, 128_1, 128_2, 128_3, 128_4, 256_1, 256_2, 256_3, 256_4, 768_1\n"
     ]
    }
   ],
   "source": [
    "import importlib\n",
    "util = importlib.reload(util)\n",
    "import sklearn.linear_model\n",
    "\n",
    "def train_models(train_df: pd.DataFrame) \\\n",
    "        -> Dict[str, sklearn.base.BaseEstimator]:\n",
    "    \"\"\"\n",
    "    Train an ensemble of models with different levels of noise.\n",
    "    \n",
    "    :param train_df: DataFrame of labeled training documents, with one\n",
    "     row per token. Must contain the columns \"embedding\" (precomputed \n",
    "     BERT embeddings) and \"token_class_id\" (integer ID of token type)\n",
    "     \n",
    "    :returns: A mapping from mnemonic model name to trained model\n",
    "    \"\"\"\n",
    "    X = train_df[\"embedding\"].values\n",
    "    Y = train_df[\"token_class_id\"]\n",
    "    models = {}  # Type: Dict[str, sklearn.base.BaseEstimator]\n",
    "\n",
    "    \n",
    "    for i in range(len(_REDUCED_DIMS)):\n",
    "        num_dims = _REDUCED_DIMS[i]\n",
    "        num_models = _MODELS_AT_DIM[i]\n",
    "        for j in range(num_models):\n",
    "            model_name = f\"{num_dims}_{j + 1}\"\n",
    "            seed = _MODEL_RANDOM_SEEDS[i, j]\n",
    "            print(f\"Training model '{model_name}' (#{j + 1} \"\n",
    "                  f\"at {num_dims} dimensions) with seed {seed}\")\n",
    "            models[model_name] = util.train_reduced_model(X, Y, num_dims, seed)\n",
    "    \n",
    "    print(f\"Training model using all of \"\n",
    "          f\"{X._tensor.shape[1]}-dimension embeddings.\")\n",
    "    models[f\"{X._tensor.shape[1]}_1\"] = (\n",
    "        sklearn.linear_model.LogisticRegression(\n",
    "            multi_class=\"multinomial\",\n",
    "            verbose=10,\n",
    "            max_iter=10000\n",
    "        )\n",
    "        .fit(X, Y)\n",
    "    )\n",
    "    return models\n",
    "\n",
    "def maybe_train_models(train_df: pd.DataFrame, fold_num: int):\n",
    "    import pickle\n",
    "    _CACHED_MODELS_FILE = f\"outputs/fold_{fold_num}_models.pickle\"\n",
    "    if _REGENERATE_MODELS or not os.path.exists(_CACHED_MODELS_FILE):\n",
    "        m = train_models(train_df)\n",
    "        print(f\"Trained {len(m)} models.\")\n",
    "        with open(_CACHED_MODELS_FILE, \"wb\") as f:\n",
    "            pickle.dump(m, f)\n",
    "    else:\n",
    "        # Use a cached model when using cached embeddings\n",
    "        with open(_CACHED_MODELS_FILE, \"rb\") as f:\n",
    "            m = pickle.load(f)\n",
    "            print(f\"Loaded {len(m)} models from {_CACHED_MODELS_FILE}.\")\n",
    "    return m\n",
    "\n",
    "models = maybe_train_models(train_inputs_df, 0)\n",
    "print(f\"Model names after loading or training: {', '.join(models.keys())}\")"
   ]
  },
  {
   "cell_type": "code",
   "execution_count": 10,
   "metadata": {},
   "outputs": [],
   "source": [
    "# Uncomment this code if you need to have the cells that follow ignore\n",
    "# some of the models saved to disk.\n",
    "# _MODEL_SIZES_TO_KEEP = [32, 64, 128, 256]\n",
    "# _RUNS_TO_KEEP = [4] * len(_MODEL_SIZES_TO_KEEP)\n",
    "# _OTHER_MODELS_TO_KEEP = [\"768_1\"]\n",
    "\n",
    "# to_keep = _OTHER_MODELS_TO_KEEP.copy()\n",
    "# for size in _MODEL_SIZES_TO_KEEP:\n",
    "#     for num_runs in _RUNS_TO_KEEP:\n",
    "#         for i in range(num_runs):\n",
    "#             to_keep.append(f\"{size}_{i+1}\")\n",
    "\n",
    "# models = {k: v for k, v in models.items() if k in to_keep}\n",
    "\n",
    "# print(f\"Model names after filtering: {', '.join(models.keys())}\")"
   ]
  },
  {
   "cell_type": "markdown",
   "metadata": {},
   "source": [
    "## Evaluate the models on this fold's test set"
   ]
  },
  {
   "cell_type": "code",
   "execution_count": 11,
   "metadata": {},
   "outputs": [
    {
     "data": {
      "application/vnd.jupyter.widget-view+json": {
       "model_id": "d2953ae20a1c4c1aa3180c978e71c676",
       "version_major": 2,
       "version_minor": 0
      },
      "text/plain": [
       "IntProgress(value=0, description='Starting...', layout=Layout(width='100%'), max=17, style=ProgressStyle(descr…"
      ]
     },
     "metadata": {},
     "output_type": "display_data"
    }
   ],
   "source": [
    "import importlib\n",
    "util = importlib.reload(util)\n",
    "\n",
    "def eval_models(models: Dict[str, sklearn.base.BaseEstimator],\n",
    "                test_df: pd.DataFrame):\n",
    "    \"\"\"\n",
    "    Bulk-evaluate an ensemble of models generated by :func:`train_models`.\n",
    "    \n",
    "    :param models: Output of :func:`train_models`\n",
    "    :param test_df:  DataFrame of labeled test documents, with one\n",
    "     row per token. Must contain the columns \"embedding\" (precomputed \n",
    "     BERT embeddings) and \"token_class_id\" (integer ID of token type)\n",
    "    \n",
    "    :returns: A dictionary from model name to results of \n",
    "     :func:`util.analyze_model`\n",
    "    \"\"\"\n",
    "    todo = [(name, model) for name, model in models.items()]\n",
    "    results = util.run_with_progress_bar(\n",
    "        len(todo),\n",
    "        lambda i: util.analyze_model(test_df, int_to_label, todo[i][1], \n",
    "                                     bert_data, raw_data, expand_matches=True),\n",
    "        \"model\"\n",
    "    )\n",
    "    return {t[0]: result for t, result in zip(todo, results)}\n",
    "\n",
    "evals = eval_models(models, test_inputs_df)"
   ]
  },
  {
   "cell_type": "code",
   "execution_count": 12,
   "metadata": {},
   "outputs": [],
   "source": [
    "# Summarize how each of the models does on the test set.\n",
    "def make_summary_df(evals_df: pd.DataFrame) -> pd.DataFrame:\n",
    "    global_scores = [r[\"global_scores\"] for r in evals_df.values()]\n",
    "    return pd.DataFrame({\n",
    "        \"name\": list(evals_df.keys()),\n",
    "        \"dims\": [n.split(\"_\")[0] for n in evals_df.keys()],\n",
    "        \"num_true_positives\": [r[\"num_true_positives\"] for r in global_scores],\n",
    "        \"num_entities\": [r[\"num_entities\"] for r in global_scores],\n",
    "        \"num_extracted\": [r[\"num_extracted\"] for r in global_scores],\n",
    "        \"precision\": [r[\"precision\"] for r in global_scores],\n",
    "        \"recall\": [r[\"recall\"] for r in global_scores],\n",
    "        \"F1\": [r[\"F1\"] for r in global_scores]\n",
    "    })\n",
    "\n",
    "summary_df = make_summary_df(evals)"
   ]
  },
  {
   "cell_type": "code",
   "execution_count": 13,
   "metadata": {},
   "outputs": [
    {
     "data": {
      "image/png": "[encoded data removed]",
      "text/plain": [
       "<Figure size 432x288 with 1 Axes>"
      ]
     },
     "metadata": {
      "needs_background": "light"
     },
     "output_type": "display_data"
    }
   ],
   "source": [
    "# Plot the tradeoff between dimensionality and F1 score\n",
    "x = summary_df[\"dims\"]\n",
    "y = summary_df[\"F1\"]\n",
    "plt.scatter(x, y)\n",
    "#plt.yscale(\"log\")\n",
    "#plt.xscale(\"log\")\n",
    "plt.xlabel(\"Number of Dimensions\")\n",
    "plt.ylabel(\"F1 Score\")\n",
    "plt.show()"
   ]
  },
  {
   "cell_type": "markdown",
   "metadata": {},
   "source": [
    "## Aggregate the model results and compare with the gold standard"
   ]
  },
  {
   "cell_type": "code",
   "execution_count": 14,
   "metadata": {},
   "outputs": [
    {
     "data": {
      "application/vnd.jupyter.widget-view+json": {
       "model_id": "90b5b654666a49a8875e9401acd352e6",
       "version_major": 2,
       "version_minor": 0
      },
      "text/plain": [
       "IntProgress(value=0, description='Starting...', layout=Layout(width='100%'), max=140, style=ProgressStyle(desc…"
      ]
     },
     "metadata": {},
     "output_type": "display_data"
    },
    {
     "data": {
      "text/html": [
       "<div>\n",
       "<style scoped>\n",
       "    .dataframe tbody tr th:only-of-type {\n",
       "        vertical-align: middle;\n",
       "    }\n",
       "\n",
       "    .dataframe tbody tr th {\n",
       "        vertical-align: top;\n",
       "    }\n",
       "\n",
       "    .dataframe thead th {\n",
       "        text-align: right;\n",
       "    }\n",
       "</style>\n",
       "<table border=\"1\" class=\"dataframe\">\n",
       "  <thead>\n",
       "    <tr style=\"text-align: right;\">\n",
       "      <th></th>\n",
       "      <th>doc_num</th>\n",
       "      <th>fold</th>\n",
       "      <th>doc_offset</th>\n",
       "      <th>token_span</th>\n",
       "      <th>ent_type</th>\n",
       "      <th>gold</th>\n",
       "      <th>32_1</th>\n",
       "      <th>32_2</th>\n",
       "      <th>32_3</th>\n",
       "      <th>32_4</th>\n",
       "      <th>...</th>\n",
       "      <th>128_1</th>\n",
       "      <th>128_2</th>\n",
       "      <th>128_3</th>\n",
       "      <th>128_4</th>\n",
       "      <th>256_1</th>\n",
       "      <th>256_2</th>\n",
       "      <th>256_3</th>\n",
       "      <th>256_4</th>\n",
       "      <th>768_1</th>\n",
       "      <th>num_models</th>\n",
       "    </tr>\n",
       "  </thead>\n",
       "  <tbody>\n",
       "    <tr>\n",
       "      <th>0</th>\n",
       "      <td>0</td>\n",
       "      <td>train</td>\n",
       "      <td>12</td>\n",
       "      <td>[11, 16): 'Saudi'</td>\n",
       "      <td>MISC</td>\n",
       "      <td>True</td>\n",
       "      <td>True</td>\n",
       "      <td>True</td>\n",
       "      <td>True</td>\n",
       "      <td>True</td>\n",
       "      <td>...</td>\n",
       "      <td>True</td>\n",
       "      <td>True</td>\n",
       "      <td>True</td>\n",
       "      <td>True</td>\n",
       "      <td>True</td>\n",
       "      <td>True</td>\n",
       "      <td>True</td>\n",
       "      <td>True</td>\n",
       "      <td>True</td>\n",
       "      <td>17</td>\n",
       "    </tr>\n",
       "    <tr>\n",
       "      <th>1</th>\n",
       "      <td>0</td>\n",
       "      <td>train</td>\n",
       "      <td>12</td>\n",
       "      <td>[59, 65): 'MANAMA'</td>\n",
       "      <td>LOC</td>\n",
       "      <td>True</td>\n",
       "      <td>True</td>\n",
       "      <td>True</td>\n",
       "      <td>True</td>\n",
       "      <td>True</td>\n",
       "      <td>...</td>\n",
       "      <td>True</td>\n",
       "      <td>True</td>\n",
       "      <td>True</td>\n",
       "      <td>True</td>\n",
       "      <td>True</td>\n",
       "      <td>True</td>\n",
       "      <td>True</td>\n",
       "      <td>True</td>\n",
       "      <td>True</td>\n",
       "      <td>17</td>\n",
       "    </tr>\n",
       "    <tr>\n",
       "      <th>2</th>\n",
       "      <td>0</td>\n",
       "      <td>train</td>\n",
       "      <td>12</td>\n",
       "      <td>[86, 91): 'Saudi'</td>\n",
       "      <td>MISC</td>\n",
       "      <td>True</td>\n",
       "      <td>True</td>\n",
       "      <td>True</td>\n",
       "      <td>False</td>\n",
       "      <td>False</td>\n",
       "      <td>...</td>\n",
       "      <td>True</td>\n",
       "      <td>True</td>\n",
       "      <td>True</td>\n",
       "      <td>True</td>\n",
       "      <td>True</td>\n",
       "      <td>True</td>\n",
       "      <td>True</td>\n",
       "      <td>True</td>\n",
       "      <td>True</td>\n",
       "      <td>14</td>\n",
       "    </tr>\n",
       "    <tr>\n",
       "      <th>3</th>\n",
       "      <td>0</td>\n",
       "      <td>train</td>\n",
       "      <td>12</td>\n",
       "      <td>[259, 264): 'Saudi'</td>\n",
       "      <td>MISC</td>\n",
       "      <td>True</td>\n",
       "      <td>True</td>\n",
       "      <td>False</td>\n",
       "      <td>False</td>\n",
       "      <td>False</td>\n",
       "      <td>...</td>\n",
       "      <td>True</td>\n",
       "      <td>True</td>\n",
       "      <td>True</td>\n",
       "      <td>True</td>\n",
       "      <td>True</td>\n",
       "      <td>True</td>\n",
       "      <td>True</td>\n",
       "      <td>True</td>\n",
       "      <td>True</td>\n",
       "      <td>13</td>\n",
       "    </tr>\n",
       "    <tr>\n",
       "      <th>4</th>\n",
       "      <td>0</td>\n",
       "      <td>train</td>\n",
       "      <td>12</td>\n",
       "      <td>[402, 411): 'One-month'</td>\n",
       "      <td>MISC</td>\n",
       "      <td>True</td>\n",
       "      <td>True</td>\n",
       "      <td>False</td>\n",
       "      <td>True</td>\n",
       "      <td>True</td>\n",
       "      <td>...</td>\n",
       "      <td>True</td>\n",
       "      <td>True</td>\n",
       "      <td>False</td>\n",
       "      <td>False</td>\n",
       "      <td>False</td>\n",
       "      <td>True</td>\n",
       "      <td>False</td>\n",
       "      <td>False</td>\n",
       "      <td>False</td>\n",
       "      <td>9</td>\n",
       "    </tr>\n",
       "    <tr>\n",
       "      <th>...</th>\n",
       "      <td>...</td>\n",
       "      <td>...</td>\n",
       "      <td>...</td>\n",
       "      <td>...</td>\n",
       "      <td>...</td>\n",
       "      <td>...</td>\n",
       "      <td>...</td>\n",
       "      <td>...</td>\n",
       "      <td>...</td>\n",
       "      <td>...</td>\n",
       "      <td>...</td>\n",
       "      <td>...</td>\n",
       "      <td>...</td>\n",
       "      <td>...</td>\n",
       "      <td>...</td>\n",
       "      <td>...</td>\n",
       "      <td>...</td>\n",
       "      <td>...</td>\n",
       "      <td>...</td>\n",
       "      <td>...</td>\n",
       "      <td>...</td>\n",
       "    </tr>\n",
       "    <tr>\n",
       "      <th>13</th>\n",
       "      <td>139</td>\n",
       "      <td>validation</td>\n",
       "      <td>225</td>\n",
       "      <td>[11, 17): 'BOXING'</td>\n",
       "      <td>LOC</td>\n",
       "      <td>False</td>\n",
       "      <td>False</td>\n",
       "      <td>False</td>\n",
       "      <td>True</td>\n",
       "      <td>False</td>\n",
       "      <td>...</td>\n",
       "      <td>False</td>\n",
       "      <td>False</td>\n",
       "      <td>False</td>\n",
       "      <td>False</td>\n",
       "      <td>False</td>\n",
       "      <td>False</td>\n",
       "      <td>False</td>\n",
       "      <td>False</td>\n",
       "      <td>False</td>\n",
       "      <td>1</td>\n",
       "    </tr>\n",
       "    <tr>\n",
       "      <th>14</th>\n",
       "      <td>139</td>\n",
       "      <td>validation</td>\n",
       "      <td>225</td>\n",
       "      <td>[86, 104): 'German Axel Schulz'</td>\n",
       "      <td>MISC</td>\n",
       "      <td>False</td>\n",
       "      <td>False</td>\n",
       "      <td>False</td>\n",
       "      <td>False</td>\n",
       "      <td>True</td>\n",
       "      <td>...</td>\n",
       "      <td>False</td>\n",
       "      <td>False</td>\n",
       "      <td>False</td>\n",
       "      <td>False</td>\n",
       "      <td>False</td>\n",
       "      <td>False</td>\n",
       "      <td>False</td>\n",
       "      <td>False</td>\n",
       "      <td>False</td>\n",
       "      <td>1</td>\n",
       "    </tr>\n",
       "    <tr>\n",
       "      <th>15</th>\n",
       "      <td>139</td>\n",
       "      <td>validation</td>\n",
       "      <td>225</td>\n",
       "      <td>[45, 60): 'IBF HEAVYWEIGHT'</td>\n",
       "      <td>MISC</td>\n",
       "      <td>False</td>\n",
       "      <td>False</td>\n",
       "      <td>False</td>\n",
       "      <td>False</td>\n",
       "      <td>False</td>\n",
       "      <td>...</td>\n",
       "      <td>False</td>\n",
       "      <td>True</td>\n",
       "      <td>True</td>\n",
       "      <td>False</td>\n",
       "      <td>False</td>\n",
       "      <td>False</td>\n",
       "      <td>True</td>\n",
       "      <td>False</td>\n",
       "      <td>True</td>\n",
       "      <td>5</td>\n",
       "    </tr>\n",
       "    <tr>\n",
       "      <th>16</th>\n",
       "      <td>139</td>\n",
       "      <td>validation</td>\n",
       "      <td>225</td>\n",
       "      <td>[19, 25): 'SCHULZ'</td>\n",
       "      <td>LOC</td>\n",
       "      <td>False</td>\n",
       "      <td>False</td>\n",
       "      <td>False</td>\n",
       "      <td>False</td>\n",
       "      <td>False</td>\n",
       "      <td>...</td>\n",
       "      <td>False</td>\n",
       "      <td>False</td>\n",
       "      <td>False</td>\n",
       "      <td>False</td>\n",
       "      <td>False</td>\n",
       "      <td>False</td>\n",
       "      <td>False</td>\n",
       "      <td>True</td>\n",
       "      <td>False</td>\n",
       "      <td>1</td>\n",
       "    </tr>\n",
       "    <tr>\n",
       "      <th>17</th>\n",
       "      <td>139</td>\n",
       "      <td>validation</td>\n",
       "      <td>225</td>\n",
       "      <td>[146, 159): 'International'</td>\n",
       "      <td>ORG</td>\n",
       "      <td>False</td>\n",
       "      <td>False</td>\n",
       "      <td>False</td>\n",
       "      <td>False</td>\n",
       "      <td>False</td>\n",
       "      <td>...</td>\n",
       "      <td>False</td>\n",
       "      <td>False</td>\n",
       "      <td>False</td>\n",
       "      <td>False</td>\n",
       "      <td>False</td>\n",
       "      <td>False</td>\n",
       "      <td>False</td>\n",
       "      <td>True</td>\n",
       "      <td>False</td>\n",
       "      <td>1</td>\n",
       "    </tr>\n",
       "  </tbody>\n",
       "</table>\n",
       "<p>4927 rows × 24 columns</p>\n",
       "</div>"
      ],
      "text/plain": [
       "    doc_num        fold  doc_offset                       token_span ent_type  \\\n",
       "0         0       train          12                [11, 16): 'Saudi'     MISC   \n",
       "1         0       train          12               [59, 65): 'MANAMA'      LOC   \n",
       "2         0       train          12                [86, 91): 'Saudi'     MISC   \n",
       "3         0       train          12              [259, 264): 'Saudi'     MISC   \n",
       "4         0       train          12          [402, 411): 'One-month'     MISC   \n",
       "..      ...         ...         ...                              ...      ...   \n",
       "13      139  validation         225               [11, 17): 'BOXING'      LOC   \n",
       "14      139  validation         225  [86, 104): 'German Axel Schulz'     MISC   \n",
       "15      139  validation         225      [45, 60): 'IBF HEAVYWEIGHT'     MISC   \n",
       "16      139  validation         225               [19, 25): 'SCHULZ'      LOC   \n",
       "17      139  validation         225      [146, 159): 'International'      ORG   \n",
       "\n",
       "     gold   32_1   32_2   32_3   32_4  ...  128_1  128_2  128_3  128_4  256_1  \\\n",
       "0    True   True   True   True   True  ...   True   True   True   True   True   \n",
       "1    True   True   True   True   True  ...   True   True   True   True   True   \n",
       "2    True   True   True  False  False  ...   True   True   True   True   True   \n",
       "3    True   True  False  False  False  ...   True   True   True   True   True   \n",
       "4    True   True  False   True   True  ...   True   True  False  False  False   \n",
       "..    ...    ...    ...    ...    ...  ...    ...    ...    ...    ...    ...   \n",
       "13  False  False  False   True  False  ...  False  False  False  False  False   \n",
       "14  False  False  False  False   True  ...  False  False  False  False  False   \n",
       "15  False  False  False  False  False  ...  False   True   True  False  False   \n",
       "16  False  False  False  False  False  ...  False  False  False  False  False   \n",
       "17  False  False  False  False  False  ...  False  False  False  False  False   \n",
       "\n",
       "    256_2  256_3  256_4  768_1  num_models  \n",
       "0    True   True   True   True          17  \n",
       "1    True   True   True   True          17  \n",
       "2    True   True   True   True          14  \n",
       "3    True   True   True   True          13  \n",
       "4    True  False  False  False           9  \n",
       "..    ...    ...    ...    ...         ...  \n",
       "13  False  False  False  False           1  \n",
       "14  False  False  False  False           1  \n",
       "15  False   True  False   True           5  \n",
       "16  False  False   True  False           1  \n",
       "17  False  False   True  False           1  \n",
       "\n",
       "[4927 rows x 24 columns]"
      ]
     },
     "execution_count": 14,
     "metadata": {},
     "output_type": "execute_result"
    }
   ],
   "source": [
    "full_results = util.merge_model_results(evals)\n",
    "full_results"
   ]
  },
  {
   "cell_type": "code",
   "execution_count": 15,
   "metadata": {},
   "outputs": [
    {
     "data": {
      "text/html": [
       "<div>\n",
       "<style scoped>\n",
       "    .dataframe tbody tr th:only-of-type {\n",
       "        vertical-align: middle;\n",
       "    }\n",
       "\n",
       "    .dataframe tbody tr th {\n",
       "        vertical-align: top;\n",
       "    }\n",
       "\n",
       "    .dataframe thead th {\n",
       "        text-align: right;\n",
       "    }\n",
       "</style>\n",
       "<table border=\"1\" class=\"dataframe\">\n",
       "  <thead>\n",
       "    <tr style=\"text-align: right;\">\n",
       "      <th></th>\n",
       "      <th>fold</th>\n",
       "      <th>doc_offset</th>\n",
       "      <th>token_span</th>\n",
       "      <th>ent_type</th>\n",
       "      <th>gold</th>\n",
       "      <th>num_models</th>\n",
       "    </tr>\n",
       "  </thead>\n",
       "  <tbody>\n",
       "    <tr>\n",
       "      <th>0</th>\n",
       "      <td>train</td>\n",
       "      <td>12</td>\n",
       "      <td>[11, 16): 'Saudi'</td>\n",
       "      <td>MISC</td>\n",
       "      <td>True</td>\n",
       "      <td>17</td>\n",
       "    </tr>\n",
       "    <tr>\n",
       "      <th>1</th>\n",
       "      <td>train</td>\n",
       "      <td>12</td>\n",
       "      <td>[59, 65): 'MANAMA'</td>\n",
       "      <td>LOC</td>\n",
       "      <td>True</td>\n",
       "      <td>17</td>\n",
       "    </tr>\n",
       "    <tr>\n",
       "      <th>2</th>\n",
       "      <td>train</td>\n",
       "      <td>12</td>\n",
       "      <td>[86, 91): 'Saudi'</td>\n",
       "      <td>MISC</td>\n",
       "      <td>True</td>\n",
       "      <td>14</td>\n",
       "    </tr>\n",
       "    <tr>\n",
       "      <th>3</th>\n",
       "      <td>train</td>\n",
       "      <td>12</td>\n",
       "      <td>[259, 264): 'Saudi'</td>\n",
       "      <td>MISC</td>\n",
       "      <td>True</td>\n",
       "      <td>13</td>\n",
       "    </tr>\n",
       "    <tr>\n",
       "      <th>4</th>\n",
       "      <td>train</td>\n",
       "      <td>12</td>\n",
       "      <td>[402, 411): 'One-month'</td>\n",
       "      <td>MISC</td>\n",
       "      <td>True</td>\n",
       "      <td>9</td>\n",
       "    </tr>\n",
       "    <tr>\n",
       "      <th>...</th>\n",
       "      <td>...</td>\n",
       "      <td>...</td>\n",
       "      <td>...</td>\n",
       "      <td>...</td>\n",
       "      <td>...</td>\n",
       "      <td>...</td>\n",
       "    </tr>\n",
       "    <tr>\n",
       "      <th>13</th>\n",
       "      <td>validation</td>\n",
       "      <td>225</td>\n",
       "      <td>[11, 17): 'BOXING'</td>\n",
       "      <td>LOC</td>\n",
       "      <td>False</td>\n",
       "      <td>1</td>\n",
       "    </tr>\n",
       "    <tr>\n",
       "      <th>14</th>\n",
       "      <td>validation</td>\n",
       "      <td>225</td>\n",
       "      <td>[86, 104): 'German Axel Schulz'</td>\n",
       "      <td>MISC</td>\n",
       "      <td>False</td>\n",
       "      <td>1</td>\n",
       "    </tr>\n",
       "    <tr>\n",
       "      <th>15</th>\n",
       "      <td>validation</td>\n",
       "      <td>225</td>\n",
       "      <td>[45, 60): 'IBF HEAVYWEIGHT'</td>\n",
       "      <td>MISC</td>\n",
       "      <td>False</td>\n",
       "      <td>5</td>\n",
       "    </tr>\n",
       "    <tr>\n",
       "      <th>16</th>\n",
       "      <td>validation</td>\n",
       "      <td>225</td>\n",
       "      <td>[19, 25): 'SCHULZ'</td>\n",
       "      <td>LOC</td>\n",
       "      <td>False</td>\n",
       "      <td>1</td>\n",
       "    </tr>\n",
       "    <tr>\n",
       "      <th>17</th>\n",
       "      <td>validation</td>\n",
       "      <td>225</td>\n",
       "      <td>[146, 159): 'International'</td>\n",
       "      <td>ORG</td>\n",
       "      <td>False</td>\n",
       "      <td>1</td>\n",
       "    </tr>\n",
       "  </tbody>\n",
       "</table>\n",
       "<p>4927 rows × 6 columns</p>\n",
       "</div>"
      ],
      "text/plain": [
       "          fold  doc_offset                       token_span ent_type   gold  \\\n",
       "0        train          12                [11, 16): 'Saudi'     MISC   True   \n",
       "1        train          12               [59, 65): 'MANAMA'      LOC   True   \n",
       "2        train          12                [86, 91): 'Saudi'     MISC   True   \n",
       "3        train          12              [259, 264): 'Saudi'     MISC   True   \n",
       "4        train          12          [402, 411): 'One-month'     MISC   True   \n",
       "..         ...         ...                              ...      ...    ...   \n",
       "13  validation         225               [11, 17): 'BOXING'      LOC  False   \n",
       "14  validation         225  [86, 104): 'German Axel Schulz'     MISC  False   \n",
       "15  validation         225      [45, 60): 'IBF HEAVYWEIGHT'     MISC  False   \n",
       "16  validation         225               [19, 25): 'SCHULZ'      LOC  False   \n",
       "17  validation         225      [146, 159): 'International'      ORG  False   \n",
       "\n",
       "    num_models  \n",
       "0           17  \n",
       "1           17  \n",
       "2           14  \n",
       "3           13  \n",
       "4            9  \n",
       "..         ...  \n",
       "13           1  \n",
       "14           1  \n",
       "15           5  \n",
       "16           1  \n",
       "17           1  \n",
       "\n",
       "[4927 rows x 6 columns]"
      ]
     },
     "execution_count": 15,
     "metadata": {},
     "output_type": "execute_result"
    }
   ],
   "source": [
    "# Drop Boolean columns for now\n",
    "results = full_results[[\"fold\", \"doc_offset\", \"token_span\", \"ent_type\", \"gold\", \"num_models\"]]\n",
    "results"
   ]
  },
  {
   "cell_type": "code",
   "execution_count": 16,
   "metadata": {},
   "outputs": [
    {
     "data": {
      "text/html": [
       "<div>\n",
       "<style scoped>\n",
       "    .dataframe tbody tr th:only-of-type {\n",
       "        vertical-align: middle;\n",
       "    }\n",
       "\n",
       "    .dataframe tbody tr th {\n",
       "        vertical-align: top;\n",
       "    }\n",
       "\n",
       "    .dataframe thead th {\n",
       "        text-align: right;\n",
       "    }\n",
       "</style>\n",
       "<table border=\"1\" class=\"dataframe\">\n",
       "  <thead>\n",
       "    <tr style=\"text-align: right;\">\n",
       "      <th></th>\n",
       "      <th>count</th>\n",
       "    </tr>\n",
       "    <tr>\n",
       "      <th>num_models</th>\n",
       "      <th></th>\n",
       "    </tr>\n",
       "  </thead>\n",
       "  <tbody>\n",
       "    <tr>\n",
       "      <th>0</th>\n",
       "      <td>115</td>\n",
       "    </tr>\n",
       "    <tr>\n",
       "      <th>1</th>\n",
       "      <td>31</td>\n",
       "    </tr>\n",
       "    <tr>\n",
       "      <th>2</th>\n",
       "      <td>23</td>\n",
       "    </tr>\n",
       "    <tr>\n",
       "      <th>3</th>\n",
       "      <td>20</td>\n",
       "    </tr>\n",
       "    <tr>\n",
       "      <th>4</th>\n",
       "      <td>17</td>\n",
       "    </tr>\n",
       "    <tr>\n",
       "      <th>5</th>\n",
       "      <td>18</td>\n",
       "    </tr>\n",
       "    <tr>\n",
       "      <th>6</th>\n",
       "      <td>23</td>\n",
       "    </tr>\n",
       "    <tr>\n",
       "      <th>7</th>\n",
       "      <td>23</td>\n",
       "    </tr>\n",
       "    <tr>\n",
       "      <th>8</th>\n",
       "      <td>19</td>\n",
       "    </tr>\n",
       "    <tr>\n",
       "      <th>9</th>\n",
       "      <td>29</td>\n",
       "    </tr>\n",
       "    <tr>\n",
       "      <th>10</th>\n",
       "      <td>27</td>\n",
       "    </tr>\n",
       "    <tr>\n",
       "      <th>11</th>\n",
       "      <td>42</td>\n",
       "    </tr>\n",
       "    <tr>\n",
       "      <th>12</th>\n",
       "      <td>48</td>\n",
       "    </tr>\n",
       "    <tr>\n",
       "      <th>13</th>\n",
       "      <td>62</td>\n",
       "    </tr>\n",
       "    <tr>\n",
       "      <th>14</th>\n",
       "      <td>76</td>\n",
       "    </tr>\n",
       "    <tr>\n",
       "      <th>15</th>\n",
       "      <td>113</td>\n",
       "    </tr>\n",
       "    <tr>\n",
       "      <th>16</th>\n",
       "      <td>249</td>\n",
       "    </tr>\n",
       "    <tr>\n",
       "      <th>17</th>\n",
       "      <td>2940</td>\n",
       "    </tr>\n",
       "  </tbody>\n",
       "</table>\n",
       "</div>"
      ],
      "text/plain": [
       "            count\n",
       "num_models       \n",
       "0             115\n",
       "1              31\n",
       "2              23\n",
       "3              20\n",
       "4              17\n",
       "5              18\n",
       "6              23\n",
       "7              23\n",
       "8              19\n",
       "9              29\n",
       "10             27\n",
       "11             42\n",
       "12             48\n",
       "13             62\n",
       "14             76\n",
       "15            113\n",
       "16            249\n",
       "17           2940"
      ]
     },
     "execution_count": 16,
     "metadata": {},
     "output_type": "execute_result"
    }
   ],
   "source": [
    "(results[results[\"gold\"] == True][[\"num_models\", \"token_span\"]]\n",
    " .groupby(\"num_models\").count()\n",
    " .rename(columns={\"token_span\": \"count\"}))"
   ]
  },
  {
   "cell_type": "code",
   "execution_count": 17,
   "metadata": {},
   "outputs": [
    {
     "data": {
      "text/html": [
       "<div>\n",
       "<style scoped>\n",
       "    .dataframe tbody tr th:only-of-type {\n",
       "        vertical-align: middle;\n",
       "    }\n",
       "\n",
       "    .dataframe tbody tr th {\n",
       "        vertical-align: top;\n",
       "    }\n",
       "\n",
       "    .dataframe thead th {\n",
       "        text-align: right;\n",
       "    }\n",
       "</style>\n",
       "<table border=\"1\" class=\"dataframe\">\n",
       "  <thead>\n",
       "    <tr style=\"text-align: right;\">\n",
       "      <th></th>\n",
       "      <th>count</th>\n",
       "    </tr>\n",
       "    <tr>\n",
       "      <th>num_models</th>\n",
       "      <th></th>\n",
       "    </tr>\n",
       "  </thead>\n",
       "  <tbody>\n",
       "    <tr>\n",
       "      <th>1</th>\n",
       "      <td>468</td>\n",
       "    </tr>\n",
       "    <tr>\n",
       "      <th>2</th>\n",
       "      <td>173</td>\n",
       "    </tr>\n",
       "    <tr>\n",
       "      <th>3</th>\n",
       "      <td>93</td>\n",
       "    </tr>\n",
       "    <tr>\n",
       "      <th>4</th>\n",
       "      <td>63</td>\n",
       "    </tr>\n",
       "    <tr>\n",
       "      <th>5</th>\n",
       "      <td>50</td>\n",
       "    </tr>\n",
       "    <tr>\n",
       "      <th>6</th>\n",
       "      <td>27</td>\n",
       "    </tr>\n",
       "    <tr>\n",
       "      <th>7</th>\n",
       "      <td>36</td>\n",
       "    </tr>\n",
       "    <tr>\n",
       "      <th>8</th>\n",
       "      <td>16</td>\n",
       "    </tr>\n",
       "    <tr>\n",
       "      <th>9</th>\n",
       "      <td>18</td>\n",
       "    </tr>\n",
       "    <tr>\n",
       "      <th>10</th>\n",
       "      <td>11</td>\n",
       "    </tr>\n",
       "    <tr>\n",
       "      <th>11</th>\n",
       "      <td>9</td>\n",
       "    </tr>\n",
       "    <tr>\n",
       "      <th>12</th>\n",
       "      <td>9</td>\n",
       "    </tr>\n",
       "    <tr>\n",
       "      <th>13</th>\n",
       "      <td>8</td>\n",
       "    </tr>\n",
       "    <tr>\n",
       "      <th>14</th>\n",
       "      <td>11</td>\n",
       "    </tr>\n",
       "    <tr>\n",
       "      <th>15</th>\n",
       "      <td>14</td>\n",
       "    </tr>\n",
       "    <tr>\n",
       "      <th>16</th>\n",
       "      <td>15</td>\n",
       "    </tr>\n",
       "    <tr>\n",
       "      <th>17</th>\n",
       "      <td>31</td>\n",
       "    </tr>\n",
       "  </tbody>\n",
       "</table>\n",
       "</div>"
      ],
      "text/plain": [
       "            count\n",
       "num_models       \n",
       "1             468\n",
       "2             173\n",
       "3              93\n",
       "4              63\n",
       "5              50\n",
       "6              27\n",
       "7              36\n",
       "8              16\n",
       "9              18\n",
       "10             11\n",
       "11              9\n",
       "12              9\n",
       "13              8\n",
       "14             11\n",
       "15             14\n",
       "16             15\n",
       "17             31"
      ]
     },
     "execution_count": 17,
     "metadata": {},
     "output_type": "execute_result"
    }
   ],
   "source": [
    "(results[results[\"gold\"] == False][[\"num_models\", \"token_span\"]]\n",
    " .groupby(\"num_models\").count()\n",
    " .rename(columns={\"token_span\": \"count\"}))"
   ]
  },
  {
   "cell_type": "code",
   "execution_count": 18,
   "metadata": {},
   "outputs": [
    {
     "data": {
      "text/html": [
       "<div>\n",
       "<style scoped>\n",
       "    .dataframe tbody tr th:only-of-type {\n",
       "        vertical-align: middle;\n",
       "    }\n",
       "\n",
       "    .dataframe tbody tr th {\n",
       "        vertical-align: top;\n",
       "    }\n",
       "\n",
       "    .dataframe thead th {\n",
       "        text-align: right;\n",
       "    }\n",
       "</style>\n",
       "<table border=\"1\" class=\"dataframe\">\n",
       "  <thead>\n",
       "    <tr style=\"text-align: right;\">\n",
       "      <th></th>\n",
       "      <th>fold</th>\n",
       "      <th>doc_offset</th>\n",
       "      <th>token_span</th>\n",
       "      <th>ent_type</th>\n",
       "      <th>gold</th>\n",
       "      <th>num_models</th>\n",
       "    </tr>\n",
       "  </thead>\n",
       "  <tbody>\n",
       "    <tr>\n",
       "      <th>0</th>\n",
       "      <td>test</td>\n",
       "      <td>21</td>\n",
       "      <td>[25, 39): 'STANDARD LIEGE'</td>\n",
       "      <td>ORG</td>\n",
       "      <td>True</td>\n",
       "      <td>0</td>\n",
       "    </tr>\n",
       "    <tr>\n",
       "      <th>2</th>\n",
       "      <td>test</td>\n",
       "      <td>21</td>\n",
       "      <td>[86, 90): 'UEFA'</td>\n",
       "      <td>ORG</td>\n",
       "      <td>True</td>\n",
       "      <td>0</td>\n",
       "    </tr>\n",
       "    <tr>\n",
       "      <th>18</th>\n",
       "      <td>test</td>\n",
       "      <td>64</td>\n",
       "      <td>[2568, 2572): 'AIDS'</td>\n",
       "      <td>MISC</td>\n",
       "      <td>True</td>\n",
       "      <td>0</td>\n",
       "    </tr>\n",
       "    <tr>\n",
       "      <th>2</th>\n",
       "      <td>test</td>\n",
       "      <td>120</td>\n",
       "      <td>[63, 70): 'English'</td>\n",
       "      <td>MISC</td>\n",
       "      <td>True</td>\n",
       "      <td>0</td>\n",
       "    </tr>\n",
       "    <tr>\n",
       "      <th>2</th>\n",
       "      <td>test</td>\n",
       "      <td>149</td>\n",
       "      <td>[81, 93): 'Major League'</td>\n",
       "      <td>MISC</td>\n",
       "      <td>True</td>\n",
       "      <td>0</td>\n",
       "    </tr>\n",
       "    <tr>\n",
       "      <th>19</th>\n",
       "      <td>test</td>\n",
       "      <td>182</td>\n",
       "      <td>[664, 672): 'division'</td>\n",
       "      <td>MISC</td>\n",
       "      <td>True</td>\n",
       "      <td>0</td>\n",
       "    </tr>\n",
       "    <tr>\n",
       "      <th>46</th>\n",
       "      <td>test</td>\n",
       "      <td>182</td>\n",
       "      <td>[2173, 2177): 'Ruch'</td>\n",
       "      <td>ORG</td>\n",
       "      <td>True</td>\n",
       "      <td>0</td>\n",
       "    </tr>\n",
       "    <tr>\n",
       "      <th>6</th>\n",
       "      <td>test</td>\n",
       "      <td>203</td>\n",
       "      <td>[881, 883): '90'</td>\n",
       "      <td>LOC</td>\n",
       "      <td>True</td>\n",
       "      <td>0</td>\n",
       "    </tr>\n",
       "    <tr>\n",
       "      <th>5</th>\n",
       "      <td>test</td>\n",
       "      <td>214</td>\n",
       "      <td>[186, 201): 'Michael Collins'</td>\n",
       "      <td>MISC</td>\n",
       "      <td>True</td>\n",
       "      <td>0</td>\n",
       "    </tr>\n",
       "    <tr>\n",
       "      <th>7</th>\n",
       "      <td>test</td>\n",
       "      <td>214</td>\n",
       "      <td>[283, 303): 'Venice Film Festival'</td>\n",
       "      <td>MISC</td>\n",
       "      <td>True</td>\n",
       "      <td>0</td>\n",
       "    </tr>\n",
       "    <tr>\n",
       "      <th>33</th>\n",
       "      <td>test</td>\n",
       "      <td>214</td>\n",
       "      <td>[1633, 1638): 'Oscar'</td>\n",
       "      <td>PER</td>\n",
       "      <td>True</td>\n",
       "      <td>0</td>\n",
       "    </tr>\n",
       "    <tr>\n",
       "      <th>34</th>\n",
       "      <td>test</td>\n",
       "      <td>214</td>\n",
       "      <td>[1678, 1695): 'Schindler 's List'</td>\n",
       "      <td>MISC</td>\n",
       "      <td>True</td>\n",
       "      <td>0</td>\n",
       "    </tr>\n",
       "    <tr>\n",
       "      <th>3</th>\n",
       "      <td>train</td>\n",
       "      <td>48</td>\n",
       "      <td>[158, 161): 'U.S'</td>\n",
       "      <td>LOC</td>\n",
       "      <td>True</td>\n",
       "      <td>0</td>\n",
       "    </tr>\n",
       "    <tr>\n",
       "      <th>4</th>\n",
       "      <td>train</td>\n",
       "      <td>48</td>\n",
       "      <td>[163, 185): 'National Tennis Centre'</td>\n",
       "      <td>LOC</td>\n",
       "      <td>True</td>\n",
       "      <td>0</td>\n",
       "    </tr>\n",
       "    <tr>\n",
       "      <th>47</th>\n",
       "      <td>train</td>\n",
       "      <td>48</td>\n",
       "      <td>[887, 901): 'Sjeng Schalken'</td>\n",
       "      <td>PER</td>\n",
       "      <td>True</td>\n",
       "      <td>0</td>\n",
       "    </tr>\n",
       "    <tr>\n",
       "      <th>57</th>\n",
       "      <td>train</td>\n",
       "      <td>48</td>\n",
       "      <td>[1035, 1053): 'Yevgeny Kafelnikov'</td>\n",
       "      <td>PER</td>\n",
       "      <td>True</td>\n",
       "      <td>0</td>\n",
       "    </tr>\n",
       "    <tr>\n",
       "      <th>2</th>\n",
       "      <td>train</td>\n",
       "      <td>51</td>\n",
       "      <td>[84, 96): 'Major League'</td>\n",
       "      <td>MISC</td>\n",
       "      <td>True</td>\n",
       "      <td>0</td>\n",
       "    </tr>\n",
       "    <tr>\n",
       "      <th>4</th>\n",
       "      <td>train</td>\n",
       "      <td>51</td>\n",
       "      <td>[169, 179): 'California'</td>\n",
       "      <td>ORG</td>\n",
       "      <td>True</td>\n",
       "      <td>0</td>\n",
       "    </tr>\n",
       "    <tr>\n",
       "      <th>0</th>\n",
       "      <td>train</td>\n",
       "      <td>60</td>\n",
       "      <td>[49, 60): 'AUSTRALIANS'</td>\n",
       "      <td>MISC</td>\n",
       "      <td>True</td>\n",
       "      <td>0</td>\n",
       "    </tr>\n",
       "    <tr>\n",
       "      <th>1</th>\n",
       "      <td>train</td>\n",
       "      <td>125</td>\n",
       "      <td>[64, 80): 'Rostislav Khotin'</td>\n",
       "      <td>PER</td>\n",
       "      <td>True</td>\n",
       "      <td>0</td>\n",
       "    </tr>\n",
       "  </tbody>\n",
       "</table>\n",
       "</div>"
      ],
      "text/plain": [
       "     fold  doc_offset                            token_span ent_type  gold  \\\n",
       "0    test          21            [25, 39): 'STANDARD LIEGE'      ORG  True   \n",
       "2    test          21                      [86, 90): 'UEFA'      ORG  True   \n",
       "18   test          64                  [2568, 2572): 'AIDS'     MISC  True   \n",
       "2    test         120                   [63, 70): 'English'     MISC  True   \n",
       "2    test         149              [81, 93): 'Major League'     MISC  True   \n",
       "19   test         182                [664, 672): 'division'     MISC  True   \n",
       "46   test         182                  [2173, 2177): 'Ruch'      ORG  True   \n",
       "6    test         203                      [881, 883): '90'      LOC  True   \n",
       "5    test         214         [186, 201): 'Michael Collins'     MISC  True   \n",
       "7    test         214    [283, 303): 'Venice Film Festival'     MISC  True   \n",
       "33   test         214                 [1633, 1638): 'Oscar'      PER  True   \n",
       "34   test         214     [1678, 1695): 'Schindler 's List'     MISC  True   \n",
       "3   train          48                     [158, 161): 'U.S'      LOC  True   \n",
       "4   train          48  [163, 185): 'National Tennis Centre'      LOC  True   \n",
       "47  train          48          [887, 901): 'Sjeng Schalken'      PER  True   \n",
       "57  train          48    [1035, 1053): 'Yevgeny Kafelnikov'      PER  True   \n",
       "2   train          51              [84, 96): 'Major League'     MISC  True   \n",
       "4   train          51              [169, 179): 'California'      ORG  True   \n",
       "0   train          60               [49, 60): 'AUSTRALIANS'     MISC  True   \n",
       "1   train         125          [64, 80): 'Rostislav Khotin'      PER  True   \n",
       "\n",
       "    num_models  \n",
       "0            0  \n",
       "2            0  \n",
       "18           0  \n",
       "2            0  \n",
       "2            0  \n",
       "19           0  \n",
       "46           0  \n",
       "6            0  \n",
       "5            0  \n",
       "7            0  \n",
       "33           0  \n",
       "34           0  \n",
       "3            0  \n",
       "4            0  \n",
       "47           0  \n",
       "57           0  \n",
       "2            0  \n",
       "4            0  \n",
       "0            0  \n",
       "1            0  "
      ]
     },
     "execution_count": 18,
     "metadata": {},
     "output_type": "execute_result"
    }
   ],
   "source": [
    "# Pull out some hard-to-find examples, sorting by document to make labeling easier\n",
    "hard_to_get = results[results[\"gold\"]].sort_values([\"num_models\", \"fold\", \"doc_offset\"]).head(20)\n",
    "hard_to_get"
   ]
  },
  {
   "cell_type": "markdown",
   "metadata": {},
   "source": [
    "### TODO: Relabel the above 20 examples with a Markdown table (copy from CSV)\n"
   ]
  },
  {
   "cell_type": "code",
   "execution_count": 19,
   "metadata": {},
   "outputs": [],
   "source": [
    "# Scratchpad for looking at individual docs\n",
    "# fold = \"test\"\n",
    "# doc_offset = 21\n",
    "\n",
    "# first_model_name = list(evals.keys())[0]\n",
    "# gold_standard_by_doc = evals[first_model_name][\"actual_spans_by_doc\"]\n",
    "# doc_results = gold_standard_by_doc[(fold, doc_offset)]\n",
    "# doc_results"
   ]
  },
  {
   "cell_type": "code",
   "execution_count": 20,
   "metadata": {},
   "outputs": [],
   "source": [
    "# Part 2 of scratchpad\n",
    "# doc_results[\"token_span\"].values"
   ]
  },
  {
   "cell_type": "code",
   "execution_count": 21,
   "metadata": {},
   "outputs": [
    {
     "data": {
      "text/html": [
       "<div>\n",
       "<style scoped>\n",
       "    .dataframe tbody tr th:only-of-type {\n",
       "        vertical-align: middle;\n",
       "    }\n",
       "\n",
       "    .dataframe tbody tr th {\n",
       "        vertical-align: top;\n",
       "    }\n",
       "\n",
       "    .dataframe thead th {\n",
       "        text-align: right;\n",
       "    }\n",
       "</style>\n",
       "<table border=\"1\" class=\"dataframe\">\n",
       "  <thead>\n",
       "    <tr style=\"text-align: right;\">\n",
       "      <th></th>\n",
       "      <th>fold</th>\n",
       "      <th>doc_offset</th>\n",
       "      <th>token_span</th>\n",
       "      <th>ent_type</th>\n",
       "      <th>gold</th>\n",
       "      <th>num_models</th>\n",
       "    </tr>\n",
       "  </thead>\n",
       "  <tbody>\n",
       "    <tr>\n",
       "      <th>35</th>\n",
       "      <td>test</td>\n",
       "      <td>149</td>\n",
       "      <td>[81, 102): 'Major League Baseball'</td>\n",
       "      <td>MISC</td>\n",
       "      <td>False</td>\n",
       "      <td>17</td>\n",
       "    </tr>\n",
       "    <tr>\n",
       "      <th>51</th>\n",
       "      <td>test</td>\n",
       "      <td>214</td>\n",
       "      <td>[186, 201): 'Michael Collins'</td>\n",
       "      <td>PER</td>\n",
       "      <td>False</td>\n",
       "      <td>17</td>\n",
       "    </tr>\n",
       "    <tr>\n",
       "      <th>231</th>\n",
       "      <td>train</td>\n",
       "      <td>48</td>\n",
       "      <td>[887, 901): 'Sjeng Schalken'</td>\n",
       "      <td>ORG</td>\n",
       "      <td>False</td>\n",
       "      <td>17</td>\n",
       "    </tr>\n",
       "    <tr>\n",
       "      <th>33</th>\n",
       "      <td>train</td>\n",
       "      <td>51</td>\n",
       "      <td>[84, 105): 'Major League Baseball'</td>\n",
       "      <td>MISC</td>\n",
       "      <td>False</td>\n",
       "      <td>17</td>\n",
       "    </tr>\n",
       "    <tr>\n",
       "      <th>24</th>\n",
       "      <td>train</td>\n",
       "      <td>80</td>\n",
       "      <td>[44, 59): 'rebels-Interfax'</td>\n",
       "      <td>ORG</td>\n",
       "      <td>False</td>\n",
       "      <td>17</td>\n",
       "    </tr>\n",
       "    <tr>\n",
       "      <th>40</th>\n",
       "      <td>train</td>\n",
       "      <td>130</td>\n",
       "      <td>[25, 43): 'BELGIAN GRAND PRIX'</td>\n",
       "      <td>MISC</td>\n",
       "      <td>False</td>\n",
       "      <td>17</td>\n",
       "    </tr>\n",
       "    <tr>\n",
       "      <th>36</th>\n",
       "      <td>train</td>\n",
       "      <td>140</td>\n",
       "      <td>[560, 574): 'Czech Republic'</td>\n",
       "      <td>LOC</td>\n",
       "      <td>False</td>\n",
       "      <td>17</td>\n",
       "    </tr>\n",
       "    <tr>\n",
       "      <th>35</th>\n",
       "      <td>train</td>\n",
       "      <td>263</td>\n",
       "      <td>[81, 102): 'Major League Baseball'</td>\n",
       "      <td>MISC</td>\n",
       "      <td>False</td>\n",
       "      <td>17</td>\n",
       "    </tr>\n",
       "    <tr>\n",
       "      <th>18</th>\n",
       "      <td>train</td>\n",
       "      <td>283</td>\n",
       "      <td>[862, 879): 'Florence Chitauro'</td>\n",
       "      <td>PER</td>\n",
       "      <td>False</td>\n",
       "      <td>17</td>\n",
       "    </tr>\n",
       "    <tr>\n",
       "      <th>207</th>\n",
       "      <td>train</td>\n",
       "      <td>436</td>\n",
       "      <td>[3091, 3105): 'Flora Perfetti'</td>\n",
       "      <td>PER</td>\n",
       "      <td>False</td>\n",
       "      <td>17</td>\n",
       "    </tr>\n",
       "    <tr>\n",
       "      <th>15</th>\n",
       "      <td>train</td>\n",
       "      <td>463</td>\n",
       "      <td>[49, 61): 'U.S. MANAGUA'</td>\n",
       "      <td>LOC</td>\n",
       "      <td>False</td>\n",
       "      <td>17</td>\n",
       "    </tr>\n",
       "    <tr>\n",
       "      <th>65</th>\n",
       "      <td>train</td>\n",
       "      <td>483</td>\n",
       "      <td>[55, 77): 'Michael Posner CHICAGO'</td>\n",
       "      <td>PER</td>\n",
       "      <td>False</td>\n",
       "      <td>17</td>\n",
       "    </tr>\n",
       "    <tr>\n",
       "      <th>82</th>\n",
       "      <td>train</td>\n",
       "      <td>651</td>\n",
       "      <td>[1795, 1818): 'Willie Blair Tony Gwynn'</td>\n",
       "      <td>PER</td>\n",
       "      <td>False</td>\n",
       "      <td>17</td>\n",
       "    </tr>\n",
       "    <tr>\n",
       "      <th>29</th>\n",
       "      <td>train</td>\n",
       "      <td>738</td>\n",
       "      <td>[581, 601): 'Shabwa Block No. S-1'</td>\n",
       "      <td>MISC</td>\n",
       "      <td>False</td>\n",
       "      <td>17</td>\n",
       "    </tr>\n",
       "    <tr>\n",
       "      <th>48</th>\n",
       "      <td>validation</td>\n",
       "      <td>23</td>\n",
       "      <td>[95, 117): 'National Hockey League'</td>\n",
       "      <td>MISC</td>\n",
       "      <td>False</td>\n",
       "      <td>17</td>\n",
       "    </tr>\n",
       "    <tr>\n",
       "      <th>44</th>\n",
       "      <td>validation</td>\n",
       "      <td>25</td>\n",
       "      <td>[824, 836): 'Philadelphia'</td>\n",
       "      <td>ORG</td>\n",
       "      <td>False</td>\n",
       "      <td>17</td>\n",
       "    </tr>\n",
       "    <tr>\n",
       "      <th>45</th>\n",
       "      <td>validation</td>\n",
       "      <td>25</td>\n",
       "      <td>[857, 865): 'NFC East'</td>\n",
       "      <td>MISC</td>\n",
       "      <td>False</td>\n",
       "      <td>17</td>\n",
       "    </tr>\n",
       "    <tr>\n",
       "      <th>26</th>\n",
       "      <td>validation</td>\n",
       "      <td>41</td>\n",
       "      <td>[676, 690): 'Sporting Gijon'</td>\n",
       "      <td>ORG</td>\n",
       "      <td>False</td>\n",
       "      <td>17</td>\n",
       "    </tr>\n",
       "    <tr>\n",
       "      <th>6</th>\n",
       "      <td>validation</td>\n",
       "      <td>114</td>\n",
       "      <td>[51, 61): 'sales-USDA'</td>\n",
       "      <td>ORG</td>\n",
       "      <td>False</td>\n",
       "      <td>17</td>\n",
       "    </tr>\n",
       "    <tr>\n",
       "      <th>13</th>\n",
       "      <td>validation</td>\n",
       "      <td>118</td>\n",
       "      <td>[535, 550): 'mid-Mississippi'</td>\n",
       "      <td>LOC</td>\n",
       "      <td>False</td>\n",
       "      <td>17</td>\n",
       "    </tr>\n",
       "  </tbody>\n",
       "</table>\n",
       "</div>"
      ],
      "text/plain": [
       "           fold  doc_offset                               token_span ent_type  \\\n",
       "35         test         149       [81, 102): 'Major League Baseball'     MISC   \n",
       "51         test         214            [186, 201): 'Michael Collins'      PER   \n",
       "231       train          48             [887, 901): 'Sjeng Schalken'      ORG   \n",
       "33        train          51       [84, 105): 'Major League Baseball'     MISC   \n",
       "24        train          80              [44, 59): 'rebels-Interfax'      ORG   \n",
       "40        train         130           [25, 43): 'BELGIAN GRAND PRIX'     MISC   \n",
       "36        train         140             [560, 574): 'Czech Republic'      LOC   \n",
       "35        train         263       [81, 102): 'Major League Baseball'     MISC   \n",
       "18        train         283          [862, 879): 'Florence Chitauro'      PER   \n",
       "207       train         436           [3091, 3105): 'Flora Perfetti'      PER   \n",
       "15        train         463                 [49, 61): 'U.S. MANAGUA'      LOC   \n",
       "65        train         483       [55, 77): 'Michael Posner CHICAGO'      PER   \n",
       "82        train         651  [1795, 1818): 'Willie Blair Tony Gwynn'      PER   \n",
       "29        train         738       [581, 601): 'Shabwa Block No. S-1'     MISC   \n",
       "48   validation          23      [95, 117): 'National Hockey League'     MISC   \n",
       "44   validation          25               [824, 836): 'Philadelphia'      ORG   \n",
       "45   validation          25                   [857, 865): 'NFC East'     MISC   \n",
       "26   validation          41             [676, 690): 'Sporting Gijon'      ORG   \n",
       "6    validation         114                   [51, 61): 'sales-USDA'      ORG   \n",
       "13   validation         118            [535, 550): 'mid-Mississippi'      LOC   \n",
       "\n",
       "      gold  num_models  \n",
       "35   False          17  \n",
       "51   False          17  \n",
       "231  False          17  \n",
       "33   False          17  \n",
       "24   False          17  \n",
       "40   False          17  \n",
       "36   False          17  \n",
       "35   False          17  \n",
       "18   False          17  \n",
       "207  False          17  \n",
       "15   False          17  \n",
       "65   False          17  \n",
       "82   False          17  \n",
       "29   False          17  \n",
       "48   False          17  \n",
       "44   False          17  \n",
       "45   False          17  \n",
       "26   False          17  \n",
       "6    False          17  \n",
       "13   False          17  "
      ]
     },
     "execution_count": 21,
     "metadata": {},
     "output_type": "execute_result"
    }
   ],
   "source": [
    "# Hardest results not in the gold standard for models to avoid\n",
    "hard_to_avoid = results[~results[\"gold\"]].sort_values([\"num_models\", \"fold\", \"doc_offset\"], ascending=[False, True, True]).head(20)\n",
    "hard_to_avoid"
   ]
  },
  {
   "cell_type": "markdown",
   "metadata": {},
   "source": [
    "### TODO: Relabel the above 20 examples (copy from CSV)\n"
   ]
  },
  {
   "cell_type": "code",
   "execution_count": 22,
   "metadata": {},
   "outputs": [],
   "source": [
    "# Scratchpad for looking at individual docs\n",
    "# fold = \"test\"\n",
    "# doc_offset = 149\n",
    "\n",
    "# first_model_name = list(evals.keys())[0]\n",
    "# gold_standard_by_doc = evals[first_model_name][\"actual_spans_by_doc\"]\n",
    "# doc_results = gold_standard_by_doc[(fold, doc_offset)]\n",
    "# doc_results"
   ]
  },
  {
   "cell_type": "code",
   "execution_count": 23,
   "metadata": {},
   "outputs": [],
   "source": [
    "# Part 2 of scratchpad\n",
    "# doc_results[\"token_span\"].values"
   ]
  },
  {
   "cell_type": "markdown",
   "metadata": {},
   "source": [
    "# Remainder of Experiment\n",
    "\n",
    "For each of the 10 folds, train a model on the fold's training set and run\n",
    "analysis on the fold's test set."
   ]
  },
  {
   "cell_type": "code",
   "execution_count": 24,
   "metadata": {},
   "outputs": [
    {
     "name": "stdout",
     "output_type": "stream",
     "text": [
      "Starting fold 1.\n",
      "Training model '32_1' (#1 at 32 dimensions) with seed 89250\n",
      "Training model with n_components=32 and seed=89250.\n"
     ]
    },
    {
     "name": "stderr",
     "output_type": "stream",
     "text": [
      "[Parallel(n_jobs=1)]: Using backend SequentialBackend with 1 concurrent workers.\n",
      "[Parallel(n_jobs=1)]: Done   1 out of   1 | elapsed:  2.1min remaining:    0.0s\n",
      "[Parallel(n_jobs=1)]: Done   1 out of   1 | elapsed:  2.1min finished\n"
     ]
    },
    {
     "name": "stdout",
     "output_type": "stream",
     "text": [
      "Training model '32_2' (#2 at 32 dimensions) with seed 773956\n",
      "Training model with n_components=32 and seed=773956.\n"
     ]
    },
    {
     "name": "stderr",
     "output_type": "stream",
     "text": [
      "[Parallel(n_jobs=1)]: Using backend SequentialBackend with 1 concurrent workers.\n",
      "[Parallel(n_jobs=1)]: Done   1 out of   1 | elapsed:  2.4min remaining:    0.0s\n",
      "[Parallel(n_jobs=1)]: Done   1 out of   1 | elapsed:  2.4min finished\n"
     ]
    },
    {
     "name": "stdout",
     "output_type": "stream",
     "text": [
      "Training model '32_3' (#3 at 32 dimensions) with seed 654571\n",
      "Training model with n_components=32 and seed=654571.\n"
     ]
    },
    {
     "name": "stderr",
     "output_type": "stream",
     "text": [
      "[Parallel(n_jobs=1)]: Using backend SequentialBackend with 1 concurrent workers.\n",
      "[Parallel(n_jobs=1)]: Done   1 out of   1 | elapsed:  2.2min remaining:    0.0s\n",
      "[Parallel(n_jobs=1)]: Done   1 out of   1 | elapsed:  2.2min finished\n"
     ]
    },
    {
     "name": "stdout",
     "output_type": "stream",
     "text": [
      "Training model '32_4' (#4 at 32 dimensions) with seed 438878\n",
      "Training model with n_components=32 and seed=438878.\n"
     ]
    },
    {
     "name": "stderr",
     "output_type": "stream",
     "text": [
      "[Parallel(n_jobs=1)]: Using backend SequentialBackend with 1 concurrent workers.\n",
      "[Parallel(n_jobs=1)]: Done   1 out of   1 | elapsed:  2.5min remaining:    0.0s\n",
      "[Parallel(n_jobs=1)]: Done   1 out of   1 | elapsed:  2.5min finished\n"
     ]
    },
    {
     "name": "stdout",
     "output_type": "stream",
     "text": [
      "Training model '64_1' (#1 at 64 dimensions) with seed 201469\n",
      "Training model with n_components=64 and seed=201469.\n"
     ]
    },
    {
     "name": "stderr",
     "output_type": "stream",
     "text": [
      "[Parallel(n_jobs=1)]: Using backend SequentialBackend with 1 concurrent workers.\n",
      "[Parallel(n_jobs=1)]: Done   1 out of   1 | elapsed:  3.8min remaining:    0.0s\n",
      "[Parallel(n_jobs=1)]: Done   1 out of   1 | elapsed:  3.8min finished\n"
     ]
    },
    {
     "name": "stdout",
     "output_type": "stream",
     "text": [
      "Training model '64_2' (#2 at 64 dimensions) with seed 94177\n",
      "Training model with n_components=64 and seed=94177.\n"
     ]
    },
    {
     "name": "stderr",
     "output_type": "stream",
     "text": [
      "[Parallel(n_jobs=1)]: Using backend SequentialBackend with 1 concurrent workers.\n",
      "[Parallel(n_jobs=1)]: Done   1 out of   1 | elapsed:  4.1min remaining:    0.0s\n",
      "[Parallel(n_jobs=1)]: Done   1 out of   1 | elapsed:  4.1min finished\n"
     ]
    },
    {
     "name": "stdout",
     "output_type": "stream",
     "text": [
      "Training model '64_3' (#3 at 64 dimensions) with seed 526478\n",
      "Training model with n_components=64 and seed=526478.\n"
     ]
    },
    {
     "name": "stderr",
     "output_type": "stream",
     "text": [
      "[Parallel(n_jobs=1)]: Using backend SequentialBackend with 1 concurrent workers.\n",
      "[Parallel(n_jobs=1)]: Done   1 out of   1 | elapsed:  3.3min remaining:    0.0s\n",
      "[Parallel(n_jobs=1)]: Done   1 out of   1 | elapsed:  3.3min finished\n"
     ]
    },
    {
     "name": "stdout",
     "output_type": "stream",
     "text": [
      "Training model '64_4' (#4 at 64 dimensions) with seed 975622\n",
      "Training model with n_components=64 and seed=975622.\n"
     ]
    },
    {
     "name": "stderr",
     "output_type": "stream",
     "text": [
      "[Parallel(n_jobs=1)]: Using backend SequentialBackend with 1 concurrent workers.\n",
      "[Parallel(n_jobs=1)]: Done   1 out of   1 | elapsed:  3.3min remaining:    0.0s\n",
      "[Parallel(n_jobs=1)]: Done   1 out of   1 | elapsed:  3.3min finished\n"
     ]
    },
    {
     "name": "stdout",
     "output_type": "stream",
     "text": [
      "Training model '128_1' (#1 at 128 dimensions) with seed 513226\n",
      "Training model with n_components=128 and seed=513226.\n"
     ]
    },
    {
     "name": "stderr",
     "output_type": "stream",
     "text": [
      "[Parallel(n_jobs=1)]: Using backend SequentialBackend with 1 concurrent workers.\n",
      "[Parallel(n_jobs=1)]: Done   1 out of   1 | elapsed:  6.5min remaining:    0.0s\n",
      "[Parallel(n_jobs=1)]: Done   1 out of   1 | elapsed:  6.5min finished\n"
     ]
    },
    {
     "name": "stdout",
     "output_type": "stream",
     "text": [
      "Training model '128_2' (#2 at 128 dimensions) with seed 128113\n",
      "Training model with n_components=128 and seed=128113.\n"
     ]
    },
    {
     "name": "stderr",
     "output_type": "stream",
     "text": [
      "[Parallel(n_jobs=1)]: Using backend SequentialBackend with 1 concurrent workers.\n",
      "[Parallel(n_jobs=1)]: Done   1 out of   1 | elapsed:  8.9min remaining:    0.0s\n",
      "[Parallel(n_jobs=1)]: Done   1 out of   1 | elapsed:  8.9min finished\n"
     ]
    },
    {
     "name": "stdout",
     "output_type": "stream",
     "text": [
      "Training model '128_3' (#3 at 128 dimensions) with seed 839748\n",
      "Training model with n_components=128 and seed=839748.\n"
     ]
    },
    {
     "name": "stderr",
     "output_type": "stream",
     "text": [
      "[Parallel(n_jobs=1)]: Using backend SequentialBackend with 1 concurrent workers.\n",
      "[Parallel(n_jobs=1)]: Done   1 out of   1 | elapsed:  8.2min remaining:    0.0s\n",
      "[Parallel(n_jobs=1)]: Done   1 out of   1 | elapsed:  8.2min finished\n"
     ]
    },
    {
     "name": "stdout",
     "output_type": "stream",
     "text": [
      "Training model '128_4' (#4 at 128 dimensions) with seed 450385\n",
      "Training model with n_components=128 and seed=450385.\n"
     ]
    },
    {
     "name": "stderr",
     "output_type": "stream",
     "text": [
      "[Parallel(n_jobs=1)]: Using backend SequentialBackend with 1 concurrent workers.\n",
      "[Parallel(n_jobs=1)]: Done   1 out of   1 | elapsed:  8.0min remaining:    0.0s\n",
      "[Parallel(n_jobs=1)]: Done   1 out of   1 | elapsed:  8.0min finished\n"
     ]
    },
    {
     "name": "stdout",
     "output_type": "stream",
     "text": [
      "Training model '256_1' (#1 at 256 dimensions) with seed 781567\n",
      "Training model with n_components=256 and seed=781567.\n"
     ]
    },
    {
     "name": "stderr",
     "output_type": "stream",
     "text": [
      "[Parallel(n_jobs=1)]: Using backend SequentialBackend with 1 concurrent workers.\n",
      "[Parallel(n_jobs=1)]: Done   1 out of   1 | elapsed: 12.0min remaining:    0.0s\n",
      "[Parallel(n_jobs=1)]: Done   1 out of   1 | elapsed: 12.0min finished\n"
     ]
    },
    {
     "name": "stdout",
     "output_type": "stream",
     "text": [
      "Training model '256_2' (#2 at 256 dimensions) with seed 643865\n",
      "Training model with n_components=256 and seed=643865.\n"
     ]
    },
    {
     "name": "stderr",
     "output_type": "stream",
     "text": [
      "[Parallel(n_jobs=1)]: Using backend SequentialBackend with 1 concurrent workers.\n",
      "[Parallel(n_jobs=1)]: Done   1 out of   1 | elapsed: 12.2min remaining:    0.0s\n",
      "[Parallel(n_jobs=1)]: Done   1 out of   1 | elapsed: 12.2min finished\n"
     ]
    },
    {
     "name": "stdout",
     "output_type": "stream",
     "text": [
      "Training model '256_3' (#3 at 256 dimensions) with seed 402414\n",
      "Training model with n_components=256 and seed=402414.\n"
     ]
    },
    {
     "name": "stderr",
     "output_type": "stream",
     "text": [
      "[Parallel(n_jobs=1)]: Using backend SequentialBackend with 1 concurrent workers.\n",
      "[Parallel(n_jobs=1)]: Done   1 out of   1 | elapsed: 13.2min remaining:    0.0s\n",
      "[Parallel(n_jobs=1)]: Done   1 out of   1 | elapsed: 13.2min finished\n"
     ]
    },
    {
     "name": "stdout",
     "output_type": "stream",
     "text": [
      "Training model '256_4' (#4 at 256 dimensions) with seed 822761\n",
      "Training model with n_components=256 and seed=822761.\n"
     ]
    },
    {
     "name": "stderr",
     "output_type": "stream",
     "text": [
      "[Parallel(n_jobs=1)]: Using backend SequentialBackend with 1 concurrent workers.\n",
      "[Parallel(n_jobs=1)]: Done   1 out of   1 | elapsed: 10.4min remaining:    0.0s\n",
      "[Parallel(n_jobs=1)]: Done   1 out of   1 | elapsed: 10.4min finished\n"
     ]
    },
    {
     "name": "stdout",
     "output_type": "stream",
     "text": [
      "Training model using all of 768-dimension embeddings.\n"
     ]
    },
    {
     "name": "stderr",
     "output_type": "stream",
     "text": [
      "[Parallel(n_jobs=1)]: Using backend SequentialBackend with 1 concurrent workers.\n",
      "[Parallel(n_jobs=1)]: Done   1 out of   1 | elapsed: 36.3min remaining:    0.0s\n",
      "[Parallel(n_jobs=1)]: Done   1 out of   1 | elapsed: 36.3min finished\n"
     ]
    },
    {
     "name": "stdout",
     "output_type": "stream",
     "text": [
      "Trained 17 models.\n"
     ]
    },
    {
     "data": {
      "application/vnd.jupyter.widget-view+json": {
       "model_id": "e844ae2708ee4d98a4fdd50f5ac79c61",
       "version_major": 2,
       "version_minor": 0
      },
      "text/plain": [
       "IntProgress(value=0, description='Starting...', layout=Layout(width='100%'), max=17, style=ProgressStyle(descr…"
      ]
     },
     "metadata": {},
     "output_type": "display_data"
    },
    {
     "data": {
      "application/vnd.jupyter.widget-view+json": {
       "model_id": "b003f4803c2e46d097b9d00a96f063b2",
       "version_major": 2,
       "version_minor": 0
      },
      "text/plain": [
       "IntProgress(value=0, description='Starting...', layout=Layout(width='100%'), max=140, style=ProgressStyle(desc…"
      ]
     },
     "metadata": {},
     "output_type": "display_data"
    },
    {
     "name": "stdout",
     "output_type": "stream",
     "text": [
      "Done with fold 1.\n",
      "Starting fold 2.\n",
      "Training model '32_1' (#1 at 32 dimensions) with seed 89250\n",
      "Training model with n_components=32 and seed=89250.\n"
     ]
    },
    {
     "name": "stderr",
     "output_type": "stream",
     "text": [
      "[Parallel(n_jobs=1)]: Using backend SequentialBackend with 1 concurrent workers.\n",
      "[Parallel(n_jobs=1)]: Done   1 out of   1 | elapsed:  2.4min remaining:    0.0s\n",
      "[Parallel(n_jobs=1)]: Done   1 out of   1 | elapsed:  2.4min finished\n"
     ]
    },
    {
     "name": "stdout",
     "output_type": "stream",
     "text": [
      "Training model '32_2' (#2 at 32 dimensions) with seed 773956\n",
      "Training model with n_components=32 and seed=773956.\n"
     ]
    },
    {
     "name": "stderr",
     "output_type": "stream",
     "text": [
      "[Parallel(n_jobs=1)]: Using backend SequentialBackend with 1 concurrent workers.\n",
      "[Parallel(n_jobs=1)]: Done   1 out of   1 | elapsed:  3.5min remaining:    0.0s\n",
      "[Parallel(n_jobs=1)]: Done   1 out of   1 | elapsed:  3.5min finished\n"
     ]
    },
    {
     "name": "stdout",
     "output_type": "stream",
     "text": [
      "Training model '32_3' (#3 at 32 dimensions) with seed 654571\n",
      "Training model with n_components=32 and seed=654571.\n"
     ]
    },
    {
     "name": "stderr",
     "output_type": "stream",
     "text": [
      "[Parallel(n_jobs=1)]: Using backend SequentialBackend with 1 concurrent workers.\n",
      "[Parallel(n_jobs=1)]: Done   1 out of   1 | elapsed:  3.4min remaining:    0.0s\n",
      "[Parallel(n_jobs=1)]: Done   1 out of   1 | elapsed:  3.4min finished\n"
     ]
    },
    {
     "name": "stdout",
     "output_type": "stream",
     "text": [
      "Training model '32_4' (#4 at 32 dimensions) with seed 438878\n",
      "Training model with n_components=32 and seed=438878.\n"
     ]
    },
    {
     "name": "stderr",
     "output_type": "stream",
     "text": [
      "[Parallel(n_jobs=1)]: Using backend SequentialBackend with 1 concurrent workers.\n",
      "[Parallel(n_jobs=1)]: Done   1 out of   1 | elapsed:  3.3min remaining:    0.0s\n",
      "[Parallel(n_jobs=1)]: Done   1 out of   1 | elapsed:  3.3min finished\n"
     ]
    },
    {
     "name": "stdout",
     "output_type": "stream",
     "text": [
      "Training model '64_1' (#1 at 64 dimensions) with seed 201469\n",
      "Training model with n_components=64 and seed=201469.\n"
     ]
    },
    {
     "name": "stderr",
     "output_type": "stream",
     "text": [
      "[Parallel(n_jobs=1)]: Using backend SequentialBackend with 1 concurrent workers.\n",
      "[Parallel(n_jobs=1)]: Done   1 out of   1 | elapsed:  4.8min remaining:    0.0s\n",
      "[Parallel(n_jobs=1)]: Done   1 out of   1 | elapsed:  4.8min finished\n"
     ]
    },
    {
     "name": "stdout",
     "output_type": "stream",
     "text": [
      "Training model '64_2' (#2 at 64 dimensions) with seed 94177\n",
      "Training model with n_components=64 and seed=94177.\n"
     ]
    },
    {
     "name": "stderr",
     "output_type": "stream",
     "text": [
      "[Parallel(n_jobs=1)]: Using backend SequentialBackend with 1 concurrent workers.\n",
      "[Parallel(n_jobs=1)]: Done   1 out of   1 | elapsed:  5.1min remaining:    0.0s\n",
      "[Parallel(n_jobs=1)]: Done   1 out of   1 | elapsed:  5.1min finished\n"
     ]
    },
    {
     "name": "stdout",
     "output_type": "stream",
     "text": [
      "Training model '64_3' (#3 at 64 dimensions) with seed 526478\n",
      "Training model with n_components=64 and seed=526478.\n"
     ]
    },
    {
     "name": "stderr",
     "output_type": "stream",
     "text": [
      "[Parallel(n_jobs=1)]: Using backend SequentialBackend with 1 concurrent workers.\n",
      "[Parallel(n_jobs=1)]: Done   1 out of   1 | elapsed:  4.0min remaining:    0.0s\n",
      "[Parallel(n_jobs=1)]: Done   1 out of   1 | elapsed:  4.0min finished\n"
     ]
    },
    {
     "name": "stdout",
     "output_type": "stream",
     "text": [
      "Training model '64_4' (#4 at 64 dimensions) with seed 975622\n",
      "Training model with n_components=64 and seed=975622.\n"
     ]
    },
    {
     "name": "stderr",
     "output_type": "stream",
     "text": [
      "[Parallel(n_jobs=1)]: Using backend SequentialBackend with 1 concurrent workers.\n",
      "[Parallel(n_jobs=1)]: Done   1 out of   1 | elapsed:  4.3min remaining:    0.0s\n",
      "[Parallel(n_jobs=1)]: Done   1 out of   1 | elapsed:  4.3min finished\n"
     ]
    },
    {
     "name": "stdout",
     "output_type": "stream",
     "text": [
      "Training model '128_1' (#1 at 128 dimensions) with seed 513226\n",
      "Training model with n_components=128 and seed=513226.\n"
     ]
    },
    {
     "name": "stderr",
     "output_type": "stream",
     "text": [
      "[Parallel(n_jobs=1)]: Using backend SequentialBackend with 1 concurrent workers.\n",
      "[Parallel(n_jobs=1)]: Done   1 out of   1 | elapsed:  7.5min remaining:    0.0s\n",
      "[Parallel(n_jobs=1)]: Done   1 out of   1 | elapsed:  7.5min finished\n"
     ]
    },
    {
     "name": "stdout",
     "output_type": "stream",
     "text": [
      "Training model '128_2' (#2 at 128 dimensions) with seed 128113\n",
      "Training model with n_components=128 and seed=128113.\n"
     ]
    },
    {
     "name": "stderr",
     "output_type": "stream",
     "text": [
      "[Parallel(n_jobs=1)]: Using backend SequentialBackend with 1 concurrent workers.\n",
      "[Parallel(n_jobs=1)]: Done   1 out of   1 | elapsed:  7.3min remaining:    0.0s\n",
      "[Parallel(n_jobs=1)]: Done   1 out of   1 | elapsed:  7.3min finished\n"
     ]
    },
    {
     "name": "stdout",
     "output_type": "stream",
     "text": [
      "Training model '128_3' (#3 at 128 dimensions) with seed 839748\n",
      "Training model with n_components=128 and seed=839748.\n"
     ]
    },
    {
     "name": "stderr",
     "output_type": "stream",
     "text": [
      "[Parallel(n_jobs=1)]: Using backend SequentialBackend with 1 concurrent workers.\n",
      "[Parallel(n_jobs=1)]: Done   1 out of   1 | elapsed:  5.9min remaining:    0.0s\n",
      "[Parallel(n_jobs=1)]: Done   1 out of   1 | elapsed:  5.9min finished\n"
     ]
    },
    {
     "name": "stdout",
     "output_type": "stream",
     "text": [
      "Training model '128_4' (#4 at 128 dimensions) with seed 450385\n",
      "Training model with n_components=128 and seed=450385.\n"
     ]
    },
    {
     "name": "stderr",
     "output_type": "stream",
     "text": [
      "[Parallel(n_jobs=1)]: Using backend SequentialBackend with 1 concurrent workers.\n",
      "[Parallel(n_jobs=1)]: Done   1 out of   1 | elapsed:  7.2min remaining:    0.0s\n",
      "[Parallel(n_jobs=1)]: Done   1 out of   1 | elapsed:  7.2min finished\n"
     ]
    },
    {
     "name": "stdout",
     "output_type": "stream",
     "text": [
      "Training model '256_1' (#1 at 256 dimensions) with seed 781567\n",
      "Training model with n_components=256 and seed=781567.\n"
     ]
    },
    {
     "name": "stderr",
     "output_type": "stream",
     "text": [
      "[Parallel(n_jobs=1)]: Using backend SequentialBackend with 1 concurrent workers.\n",
      "[Parallel(n_jobs=1)]: Done   1 out of   1 | elapsed: 10.8min remaining:    0.0s\n",
      "[Parallel(n_jobs=1)]: Done   1 out of   1 | elapsed: 10.8min finished\n"
     ]
    },
    {
     "name": "stdout",
     "output_type": "stream",
     "text": [
      "Training model '256_2' (#2 at 256 dimensions) with seed 643865\n",
      "Training model with n_components=256 and seed=643865.\n"
     ]
    },
    {
     "name": "stderr",
     "output_type": "stream",
     "text": [
      "[Parallel(n_jobs=1)]: Using backend SequentialBackend with 1 concurrent workers.\n",
      "[Parallel(n_jobs=1)]: Done   1 out of   1 | elapsed:  9.2min remaining:    0.0s\n",
      "[Parallel(n_jobs=1)]: Done   1 out of   1 | elapsed:  9.2min finished\n"
     ]
    },
    {
     "name": "stdout",
     "output_type": "stream",
     "text": [
      "Training model '256_3' (#3 at 256 dimensions) with seed 402414\n",
      "Training model with n_components=256 and seed=402414.\n"
     ]
    },
    {
     "name": "stderr",
     "output_type": "stream",
     "text": [
      "[Parallel(n_jobs=1)]: Using backend SequentialBackend with 1 concurrent workers.\n",
      "[Parallel(n_jobs=1)]: Done   1 out of   1 | elapsed:  8.7min remaining:    0.0s\n",
      "[Parallel(n_jobs=1)]: Done   1 out of   1 | elapsed:  8.7min finished\n"
     ]
    },
    {
     "name": "stdout",
     "output_type": "stream",
     "text": [
      "Training model '256_4' (#4 at 256 dimensions) with seed 822761\n",
      "Training model with n_components=256 and seed=822761.\n"
     ]
    },
    {
     "name": "stderr",
     "output_type": "stream",
     "text": [
      "[Parallel(n_jobs=1)]: Using backend SequentialBackend with 1 concurrent workers.\n",
      "[Parallel(n_jobs=1)]: Done   1 out of   1 | elapsed:  9.9min remaining:    0.0s\n",
      "[Parallel(n_jobs=1)]: Done   1 out of   1 | elapsed:  9.9min finished\n"
     ]
    },
    {
     "name": "stdout",
     "output_type": "stream",
     "text": [
      "Training model using all of 768-dimension embeddings.\n"
     ]
    },
    {
     "name": "stderr",
     "output_type": "stream",
     "text": [
      "[Parallel(n_jobs=1)]: Using backend SequentialBackend with 1 concurrent workers.\n"
     ]
    },
    {
     "name": "stdout",
     "output_type": "stream",
     "text": [
      "Trained 17 models.\n"
     ]
    },
    {
     "name": "stderr",
     "output_type": "stream",
     "text": [
      "[Parallel(n_jobs=1)]: Done   1 out of   1 | elapsed: 30.3min remaining:    0.0s\n",
      "[Parallel(n_jobs=1)]: Done   1 out of   1 | elapsed: 30.3min finished\n"
     ]
    },
    {
     "data": {
      "application/vnd.jupyter.widget-view+json": {
       "model_id": "6073db69be6d4f0eb0dc763af398acc7",
       "version_major": 2,
       "version_minor": 0
      },
      "text/plain": [
       "IntProgress(value=0, description='Starting...', layout=Layout(width='100%'), max=17, style=ProgressStyle(descr…"
      ]
     },
     "metadata": {},
     "output_type": "display_data"
    },
    {
     "data": {
      "application/vnd.jupyter.widget-view+json": {
       "model_id": "7c5ac1ea94b74a30979ac84d683253ed",
       "version_major": 2,
       "version_minor": 0
      },
      "text/plain": [
       "IntProgress(value=0, description='Starting...', layout=Layout(width='100%'), max=140, style=ProgressStyle(desc…"
      ]
     },
     "metadata": {},
     "output_type": "display_data"
    },
    {
     "name": "stdout",
     "output_type": "stream",
     "text": [
      "Done with fold 2.\n",
      "Starting fold 3.\n",
      "Training model '32_1' (#1 at 32 dimensions) with seed 89250\n",
      "Training model with n_components=32 and seed=89250.\n"
     ]
    },
    {
     "name": "stderr",
     "output_type": "stream",
     "text": [
      "[Parallel(n_jobs=1)]: Using backend SequentialBackend with 1 concurrent workers.\n",
      "[Parallel(n_jobs=1)]: Done   1 out of   1 | elapsed:  2.4min remaining:    0.0s\n",
      "[Parallel(n_jobs=1)]: Done   1 out of   1 | elapsed:  2.4min finished\n"
     ]
    },
    {
     "name": "stdout",
     "output_type": "stream",
     "text": [
      "Training model '32_2' (#2 at 32 dimensions) with seed 773956\n",
      "Training model with n_components=32 and seed=773956.\n"
     ]
    },
    {
     "name": "stderr",
     "output_type": "stream",
     "text": [
      "[Parallel(n_jobs=1)]: Using backend SequentialBackend with 1 concurrent workers.\n",
      "[Parallel(n_jobs=1)]: Done   1 out of   1 | elapsed:  2.3min remaining:    0.0s\n",
      "[Parallel(n_jobs=1)]: Done   1 out of   1 | elapsed:  2.3min finished\n"
     ]
    },
    {
     "name": "stdout",
     "output_type": "stream",
     "text": [
      "Training model '32_3' (#3 at 32 dimensions) with seed 654571\n",
      "Training model with n_components=32 and seed=654571.\n"
     ]
    },
    {
     "name": "stderr",
     "output_type": "stream",
     "text": [
      "[Parallel(n_jobs=1)]: Using backend SequentialBackend with 1 concurrent workers.\n",
      "[Parallel(n_jobs=1)]: Done   1 out of   1 | elapsed:  2.3min remaining:    0.0s\n",
      "[Parallel(n_jobs=1)]: Done   1 out of   1 | elapsed:  2.3min finished\n"
     ]
    },
    {
     "name": "stdout",
     "output_type": "stream",
     "text": [
      "Training model '32_4' (#4 at 32 dimensions) with seed 438878\n",
      "Training model with n_components=32 and seed=438878.\n"
     ]
    },
    {
     "name": "stderr",
     "output_type": "stream",
     "text": [
      "[Parallel(n_jobs=1)]: Using backend SequentialBackend with 1 concurrent workers.\n",
      "[Parallel(n_jobs=1)]: Done   1 out of   1 | elapsed:  2.4min remaining:    0.0s\n",
      "[Parallel(n_jobs=1)]: Done   1 out of   1 | elapsed:  2.4min finished\n"
     ]
    },
    {
     "name": "stdout",
     "output_type": "stream",
     "text": [
      "Training model '64_1' (#1 at 64 dimensions) with seed 201469\n",
      "Training model with n_components=64 and seed=201469.\n"
     ]
    },
    {
     "name": "stderr",
     "output_type": "stream",
     "text": [
      "[Parallel(n_jobs=1)]: Using backend SequentialBackend with 1 concurrent workers.\n",
      "[Parallel(n_jobs=1)]: Done   1 out of   1 | elapsed:  3.4min remaining:    0.0s\n",
      "[Parallel(n_jobs=1)]: Done   1 out of   1 | elapsed:  3.4min finished\n"
     ]
    },
    {
     "name": "stdout",
     "output_type": "stream",
     "text": [
      "Training model '64_2' (#2 at 64 dimensions) with seed 94177\n",
      "Training model with n_components=64 and seed=94177.\n"
     ]
    },
    {
     "name": "stderr",
     "output_type": "stream",
     "text": [
      "[Parallel(n_jobs=1)]: Using backend SequentialBackend with 1 concurrent workers.\n",
      "[Parallel(n_jobs=1)]: Done   1 out of   1 | elapsed:  3.5min remaining:    0.0s\n",
      "[Parallel(n_jobs=1)]: Done   1 out of   1 | elapsed:  3.5min finished\n"
     ]
    },
    {
     "name": "stdout",
     "output_type": "stream",
     "text": [
      "Training model '64_3' (#3 at 64 dimensions) with seed 526478\n",
      "Training model with n_components=64 and seed=526478.\n"
     ]
    },
    {
     "name": "stderr",
     "output_type": "stream",
     "text": [
      "[Parallel(n_jobs=1)]: Using backend SequentialBackend with 1 concurrent workers.\n",
      "[Parallel(n_jobs=1)]: Done   1 out of   1 | elapsed:  3.0min remaining:    0.0s\n",
      "[Parallel(n_jobs=1)]: Done   1 out of   1 | elapsed:  3.0min finished\n"
     ]
    },
    {
     "name": "stdout",
     "output_type": "stream",
     "text": [
      "Training model '64_4' (#4 at 64 dimensions) with seed 975622\n",
      "Training model with n_components=64 and seed=975622.\n"
     ]
    },
    {
     "name": "stderr",
     "output_type": "stream",
     "text": [
      "[Parallel(n_jobs=1)]: Using backend SequentialBackend with 1 concurrent workers.\n",
      "[Parallel(n_jobs=1)]: Done   1 out of   1 | elapsed:  3.0min remaining:    0.0s\n",
      "[Parallel(n_jobs=1)]: Done   1 out of   1 | elapsed:  3.0min finished\n"
     ]
    },
    {
     "name": "stdout",
     "output_type": "stream",
     "text": [
      "Training model '128_1' (#1 at 128 dimensions) with seed 513226\n",
      "Training model with n_components=128 and seed=513226.\n"
     ]
    },
    {
     "name": "stderr",
     "output_type": "stream",
     "text": [
      "[Parallel(n_jobs=1)]: Using backend SequentialBackend with 1 concurrent workers.\n",
      "[Parallel(n_jobs=1)]: Done   1 out of   1 | elapsed:  5.8min remaining:    0.0s\n",
      "[Parallel(n_jobs=1)]: Done   1 out of   1 | elapsed:  5.8min finished\n"
     ]
    },
    {
     "name": "stdout",
     "output_type": "stream",
     "text": [
      "Training model '128_2' (#2 at 128 dimensions) with seed 128113\n",
      "Training model with n_components=128 and seed=128113.\n"
     ]
    },
    {
     "name": "stderr",
     "output_type": "stream",
     "text": [
      "[Parallel(n_jobs=1)]: Using backend SequentialBackend with 1 concurrent workers.\n",
      "[Parallel(n_jobs=1)]: Done   1 out of   1 | elapsed:  5.9min remaining:    0.0s\n",
      "[Parallel(n_jobs=1)]: Done   1 out of   1 | elapsed:  5.9min finished\n"
     ]
    },
    {
     "name": "stdout",
     "output_type": "stream",
     "text": [
      "Training model '128_3' (#3 at 128 dimensions) with seed 839748\n",
      "Training model with n_components=128 and seed=839748.\n"
     ]
    },
    {
     "name": "stderr",
     "output_type": "stream",
     "text": [
      "[Parallel(n_jobs=1)]: Using backend SequentialBackend with 1 concurrent workers.\n",
      "[Parallel(n_jobs=1)]: Done   1 out of   1 | elapsed:  5.2min remaining:    0.0s\n",
      "[Parallel(n_jobs=1)]: Done   1 out of   1 | elapsed:  5.2min finished\n"
     ]
    },
    {
     "name": "stdout",
     "output_type": "stream",
     "text": [
      "Training model '128_4' (#4 at 128 dimensions) with seed 450385\n",
      "Training model with n_components=128 and seed=450385.\n"
     ]
    },
    {
     "name": "stderr",
     "output_type": "stream",
     "text": [
      "[Parallel(n_jobs=1)]: Using backend SequentialBackend with 1 concurrent workers.\n",
      "[Parallel(n_jobs=1)]: Done   1 out of   1 | elapsed:  5.3min remaining:    0.0s\n",
      "[Parallel(n_jobs=1)]: Done   1 out of   1 | elapsed:  5.3min finished\n"
     ]
    },
    {
     "name": "stdout",
     "output_type": "stream",
     "text": [
      "Training model '256_1' (#1 at 256 dimensions) with seed 781567\n",
      "Training model with n_components=256 and seed=781567.\n"
     ]
    },
    {
     "name": "stderr",
     "output_type": "stream",
     "text": [
      "[Parallel(n_jobs=1)]: Using backend SequentialBackend with 1 concurrent workers.\n",
      "[Parallel(n_jobs=1)]: Done   1 out of   1 | elapsed:  8.2min remaining:    0.0s\n",
      "[Parallel(n_jobs=1)]: Done   1 out of   1 | elapsed:  8.2min finished\n"
     ]
    },
    {
     "name": "stdout",
     "output_type": "stream",
     "text": [
      "Training model '256_2' (#2 at 256 dimensions) with seed 643865\n",
      "Training model with n_components=256 and seed=643865.\n"
     ]
    },
    {
     "name": "stderr",
     "output_type": "stream",
     "text": [
      "[Parallel(n_jobs=1)]: Using backend SequentialBackend with 1 concurrent workers.\n",
      "[Parallel(n_jobs=1)]: Done   1 out of   1 | elapsed:  8.1min remaining:    0.0s\n",
      "[Parallel(n_jobs=1)]: Done   1 out of   1 | elapsed:  8.1min finished\n"
     ]
    },
    {
     "name": "stdout",
     "output_type": "stream",
     "text": [
      "Training model '256_3' (#3 at 256 dimensions) with seed 402414\n",
      "Training model with n_components=256 and seed=402414.\n"
     ]
    },
    {
     "name": "stderr",
     "output_type": "stream",
     "text": [
      "[Parallel(n_jobs=1)]: Using backend SequentialBackend with 1 concurrent workers.\n",
      "[Parallel(n_jobs=1)]: Done   1 out of   1 | elapsed:  6.8min remaining:    0.0s\n",
      "[Parallel(n_jobs=1)]: Done   1 out of   1 | elapsed:  6.8min finished\n"
     ]
    },
    {
     "name": "stdout",
     "output_type": "stream",
     "text": [
      "Training model '256_4' (#4 at 256 dimensions) with seed 822761\n",
      "Training model with n_components=256 and seed=822761.\n"
     ]
    },
    {
     "name": "stderr",
     "output_type": "stream",
     "text": [
      "[Parallel(n_jobs=1)]: Using backend SequentialBackend with 1 concurrent workers.\n",
      "[Parallel(n_jobs=1)]: Done   1 out of   1 | elapsed:  8.4min remaining:    0.0s\n",
      "[Parallel(n_jobs=1)]: Done   1 out of   1 | elapsed:  8.4min finished\n"
     ]
    },
    {
     "name": "stdout",
     "output_type": "stream",
     "text": [
      "Training model using all of 768-dimension embeddings.\n"
     ]
    },
    {
     "name": "stderr",
     "output_type": "stream",
     "text": [
      "[Parallel(n_jobs=1)]: Using backend SequentialBackend with 1 concurrent workers.\n"
     ]
    },
    {
     "name": "stdout",
     "output_type": "stream",
     "text": [
      "Trained 17 models.\n"
     ]
    },
    {
     "name": "stderr",
     "output_type": "stream",
     "text": [
      "[Parallel(n_jobs=1)]: Done   1 out of   1 | elapsed: 26.4min remaining:    0.0s\n",
      "[Parallel(n_jobs=1)]: Done   1 out of   1 | elapsed: 26.4min finished\n"
     ]
    },
    {
     "data": {
      "application/vnd.jupyter.widget-view+json": {
       "model_id": "9ffce1ca240b4578bd854b34d8a99440",
       "version_major": 2,
       "version_minor": 0
      },
      "text/plain": [
       "IntProgress(value=0, description='Starting...', layout=Layout(width='100%'), max=17, style=ProgressStyle(descr…"
      ]
     },
     "metadata": {},
     "output_type": "display_data"
    },
    {
     "data": {
      "application/vnd.jupyter.widget-view+json": {
       "model_id": "08ba8ed323ef40248361a3bcd7e0ab44",
       "version_major": 2,
       "version_minor": 0
      },
      "text/plain": [
       "IntProgress(value=0, description='Starting...', layout=Layout(width='100%'), max=139, style=ProgressStyle(desc…"
      ]
     },
     "metadata": {},
     "output_type": "display_data"
    },
    {
     "name": "stdout",
     "output_type": "stream",
     "text": [
      "Done with fold 3.\n",
      "Starting fold 4.\n",
      "Training model '32_1' (#1 at 32 dimensions) with seed 89250\n",
      "Training model with n_components=32 and seed=89250.\n"
     ]
    },
    {
     "name": "stderr",
     "output_type": "stream",
     "text": [
      "[Parallel(n_jobs=1)]: Using backend SequentialBackend with 1 concurrent workers.\n",
      "[Parallel(n_jobs=1)]: Done   1 out of   1 | elapsed:  2.2min remaining:    0.0s\n",
      "[Parallel(n_jobs=1)]: Done   1 out of   1 | elapsed:  2.2min finished\n"
     ]
    },
    {
     "name": "stdout",
     "output_type": "stream",
     "text": [
      "Training model '32_2' (#2 at 32 dimensions) with seed 773956\n",
      "Training model with n_components=32 and seed=773956.\n"
     ]
    },
    {
     "name": "stderr",
     "output_type": "stream",
     "text": [
      "[Parallel(n_jobs=1)]: Using backend SequentialBackend with 1 concurrent workers.\n",
      "[Parallel(n_jobs=1)]: Done   1 out of   1 | elapsed:  2.1min remaining:    0.0s\n",
      "[Parallel(n_jobs=1)]: Done   1 out of   1 | elapsed:  2.1min finished\n"
     ]
    },
    {
     "name": "stdout",
     "output_type": "stream",
     "text": [
      "Training model '32_3' (#3 at 32 dimensions) with seed 654571\n",
      "Training model with n_components=32 and seed=654571.\n"
     ]
    },
    {
     "name": "stderr",
     "output_type": "stream",
     "text": [
      "[Parallel(n_jobs=1)]: Using backend SequentialBackend with 1 concurrent workers.\n",
      "[Parallel(n_jobs=1)]: Done   1 out of   1 | elapsed:  1.8min remaining:    0.0s\n",
      "[Parallel(n_jobs=1)]: Done   1 out of   1 | elapsed:  1.8min finished\n"
     ]
    },
    {
     "name": "stdout",
     "output_type": "stream",
     "text": [
      "Training model '32_4' (#4 at 32 dimensions) with seed 438878\n",
      "Training model with n_components=32 and seed=438878.\n"
     ]
    },
    {
     "name": "stderr",
     "output_type": "stream",
     "text": [
      "[Parallel(n_jobs=1)]: Using backend SequentialBackend with 1 concurrent workers.\n",
      "[Parallel(n_jobs=1)]: Done   1 out of   1 | elapsed:  2.6min remaining:    0.0s\n",
      "[Parallel(n_jobs=1)]: Done   1 out of   1 | elapsed:  2.6min finished\n"
     ]
    },
    {
     "name": "stdout",
     "output_type": "stream",
     "text": [
      "Training model '64_1' (#1 at 64 dimensions) with seed 201469\n",
      "Training model with n_components=64 and seed=201469.\n"
     ]
    },
    {
     "name": "stderr",
     "output_type": "stream",
     "text": [
      "[Parallel(n_jobs=1)]: Using backend SequentialBackend with 1 concurrent workers.\n",
      "[Parallel(n_jobs=1)]: Done   1 out of   1 | elapsed:  3.0min remaining:    0.0s\n",
      "[Parallel(n_jobs=1)]: Done   1 out of   1 | elapsed:  3.0min finished\n"
     ]
    },
    {
     "name": "stdout",
     "output_type": "stream",
     "text": [
      "Training model '64_2' (#2 at 64 dimensions) with seed 94177\n",
      "Training model with n_components=64 and seed=94177.\n"
     ]
    },
    {
     "name": "stderr",
     "output_type": "stream",
     "text": [
      "[Parallel(n_jobs=1)]: Using backend SequentialBackend with 1 concurrent workers.\n",
      "[Parallel(n_jobs=1)]: Done   1 out of   1 | elapsed:  3.7min remaining:    0.0s\n",
      "[Parallel(n_jobs=1)]: Done   1 out of   1 | elapsed:  3.7min finished\n"
     ]
    },
    {
     "name": "stdout",
     "output_type": "stream",
     "text": [
      "Training model '64_3' (#3 at 64 dimensions) with seed 526478\n",
      "Training model with n_components=64 and seed=526478.\n"
     ]
    },
    {
     "name": "stderr",
     "output_type": "stream",
     "text": [
      "[Parallel(n_jobs=1)]: Using backend SequentialBackend with 1 concurrent workers.\n",
      "[Parallel(n_jobs=1)]: Done   1 out of   1 | elapsed:  3.3min remaining:    0.0s\n",
      "[Parallel(n_jobs=1)]: Done   1 out of   1 | elapsed:  3.3min finished\n"
     ]
    },
    {
     "name": "stdout",
     "output_type": "stream",
     "text": [
      "Training model '64_4' (#4 at 64 dimensions) with seed 975622\n",
      "Training model with n_components=64 and seed=975622.\n"
     ]
    },
    {
     "name": "stderr",
     "output_type": "stream",
     "text": [
      "[Parallel(n_jobs=1)]: Using backend SequentialBackend with 1 concurrent workers.\n",
      "[Parallel(n_jobs=1)]: Done   1 out of   1 | elapsed:  2.8min remaining:    0.0s\n",
      "[Parallel(n_jobs=1)]: Done   1 out of   1 | elapsed:  2.8min finished\n"
     ]
    },
    {
     "name": "stdout",
     "output_type": "stream",
     "text": [
      "Training model '128_1' (#1 at 128 dimensions) with seed 513226\n",
      "Training model with n_components=128 and seed=513226.\n"
     ]
    },
    {
     "name": "stderr",
     "output_type": "stream",
     "text": [
      "[Parallel(n_jobs=1)]: Using backend SequentialBackend with 1 concurrent workers.\n",
      "[Parallel(n_jobs=1)]: Done   1 out of   1 | elapsed:  5.2min remaining:    0.0s\n",
      "[Parallel(n_jobs=1)]: Done   1 out of   1 | elapsed:  5.2min finished\n"
     ]
    },
    {
     "name": "stdout",
     "output_type": "stream",
     "text": [
      "Training model '128_2' (#2 at 128 dimensions) with seed 128113\n",
      "Training model with n_components=128 and seed=128113.\n"
     ]
    },
    {
     "name": "stderr",
     "output_type": "stream",
     "text": [
      "[Parallel(n_jobs=1)]: Using backend SequentialBackend with 1 concurrent workers.\n",
      "[Parallel(n_jobs=1)]: Done   1 out of   1 | elapsed:  6.2min remaining:    0.0s\n",
      "[Parallel(n_jobs=1)]: Done   1 out of   1 | elapsed:  6.2min finished\n"
     ]
    },
    {
     "name": "stdout",
     "output_type": "stream",
     "text": [
      "Training model '128_3' (#3 at 128 dimensions) with seed 839748\n",
      "Training model with n_components=128 and seed=839748.\n"
     ]
    },
    {
     "name": "stderr",
     "output_type": "stream",
     "text": [
      "[Parallel(n_jobs=1)]: Using backend SequentialBackend with 1 concurrent workers.\n",
      "[Parallel(n_jobs=1)]: Done   1 out of   1 | elapsed:  5.3min remaining:    0.0s\n",
      "[Parallel(n_jobs=1)]: Done   1 out of   1 | elapsed:  5.3min finished\n"
     ]
    },
    {
     "name": "stdout",
     "output_type": "stream",
     "text": [
      "Training model '128_4' (#4 at 128 dimensions) with seed 450385\n",
      "Training model with n_components=128 and seed=450385.\n"
     ]
    },
    {
     "name": "stderr",
     "output_type": "stream",
     "text": [
      "[Parallel(n_jobs=1)]: Using backend SequentialBackend with 1 concurrent workers.\n",
      "[Parallel(n_jobs=1)]: Done   1 out of   1 | elapsed:  5.2min remaining:    0.0s\n",
      "[Parallel(n_jobs=1)]: Done   1 out of   1 | elapsed:  5.2min finished\n"
     ]
    },
    {
     "name": "stdout",
     "output_type": "stream",
     "text": [
      "Training model '256_1' (#1 at 256 dimensions) with seed 781567\n",
      "Training model with n_components=256 and seed=781567.\n"
     ]
    },
    {
     "name": "stderr",
     "output_type": "stream",
     "text": [
      "[Parallel(n_jobs=1)]: Using backend SequentialBackend with 1 concurrent workers.\n",
      "[Parallel(n_jobs=1)]: Done   1 out of   1 | elapsed:  8.0min remaining:    0.0s\n",
      "[Parallel(n_jobs=1)]: Done   1 out of   1 | elapsed:  8.0min finished\n"
     ]
    },
    {
     "name": "stdout",
     "output_type": "stream",
     "text": [
      "Training model '256_2' (#2 at 256 dimensions) with seed 643865\n",
      "Training model with n_components=256 and seed=643865.\n"
     ]
    },
    {
     "name": "stderr",
     "output_type": "stream",
     "text": [
      "[Parallel(n_jobs=1)]: Using backend SequentialBackend with 1 concurrent workers.\n",
      "[Parallel(n_jobs=1)]: Done   1 out of   1 | elapsed:  7.9min remaining:    0.0s\n",
      "[Parallel(n_jobs=1)]: Done   1 out of   1 | elapsed:  7.9min finished\n"
     ]
    },
    {
     "name": "stdout",
     "output_type": "stream",
     "text": [
      "Training model '256_3' (#3 at 256 dimensions) with seed 402414\n",
      "Training model with n_components=256 and seed=402414.\n"
     ]
    },
    {
     "name": "stderr",
     "output_type": "stream",
     "text": [
      "[Parallel(n_jobs=1)]: Using backend SequentialBackend with 1 concurrent workers.\n",
      "[Parallel(n_jobs=1)]: Done   1 out of   1 | elapsed:  7.4min remaining:    0.0s\n",
      "[Parallel(n_jobs=1)]: Done   1 out of   1 | elapsed:  7.4min finished\n"
     ]
    },
    {
     "name": "stdout",
     "output_type": "stream",
     "text": [
      "Training model '256_4' (#4 at 256 dimensions) with seed 822761\n",
      "Training model with n_components=256 and seed=822761.\n"
     ]
    },
    {
     "name": "stderr",
     "output_type": "stream",
     "text": [
      "[Parallel(n_jobs=1)]: Using backend SequentialBackend with 1 concurrent workers.\n",
      "[Parallel(n_jobs=1)]: Done   1 out of   1 | elapsed:  8.4min remaining:    0.0s\n",
      "[Parallel(n_jobs=1)]: Done   1 out of   1 | elapsed:  8.4min finished\n"
     ]
    },
    {
     "name": "stdout",
     "output_type": "stream",
     "text": [
      "Training model using all of 768-dimension embeddings.\n"
     ]
    },
    {
     "name": "stderr",
     "output_type": "stream",
     "text": [
      "[Parallel(n_jobs=1)]: Using backend SequentialBackend with 1 concurrent workers.\n"
     ]
    },
    {
     "name": "stdout",
     "output_type": "stream",
     "text": [
      "Trained 17 models.\n"
     ]
    },
    {
     "name": "stderr",
     "output_type": "stream",
     "text": [
      "[Parallel(n_jobs=1)]: Done   1 out of   1 | elapsed: 28.5min remaining:    0.0s\n",
      "[Parallel(n_jobs=1)]: Done   1 out of   1 | elapsed: 28.5min finished\n"
     ]
    },
    {
     "data": {
      "application/vnd.jupyter.widget-view+json": {
       "model_id": "e9910bb5841243c9854c3549d71bcb95",
       "version_major": 2,
       "version_minor": 0
      },
      "text/plain": [
       "IntProgress(value=0, description='Starting...', layout=Layout(width='100%'), max=17, style=ProgressStyle(descr…"
      ]
     },
     "metadata": {},
     "output_type": "display_data"
    },
    {
     "data": {
      "application/vnd.jupyter.widget-view+json": {
       "model_id": "48b0dc00be9f44618f930b0366dce9a4",
       "version_major": 2,
       "version_minor": 0
      },
      "text/plain": [
       "IntProgress(value=0, description='Starting...', layout=Layout(width='100%'), max=139, style=ProgressStyle(desc…"
      ]
     },
     "metadata": {},
     "output_type": "display_data"
    },
    {
     "name": "stdout",
     "output_type": "stream",
     "text": [
      "Done with fold 4.\n",
      "Starting fold 5.\n",
      "Training model '32_1' (#1 at 32 dimensions) with seed 89250\n",
      "Training model with n_components=32 and seed=89250.\n"
     ]
    },
    {
     "name": "stderr",
     "output_type": "stream",
     "text": [
      "[Parallel(n_jobs=1)]: Using backend SequentialBackend with 1 concurrent workers.\n",
      "[Parallel(n_jobs=1)]: Done   1 out of   1 | elapsed:  2.6min remaining:    0.0s\n",
      "[Parallel(n_jobs=1)]: Done   1 out of   1 | elapsed:  2.6min finished\n"
     ]
    },
    {
     "name": "stdout",
     "output_type": "stream",
     "text": [
      "Training model '32_2' (#2 at 32 dimensions) with seed 773956\n",
      "Training model with n_components=32 and seed=773956.\n"
     ]
    },
    {
     "name": "stderr",
     "output_type": "stream",
     "text": [
      "[Parallel(n_jobs=1)]: Using backend SequentialBackend with 1 concurrent workers.\n",
      "[Parallel(n_jobs=1)]: Done   1 out of   1 | elapsed:  2.3min remaining:    0.0s\n",
      "[Parallel(n_jobs=1)]: Done   1 out of   1 | elapsed:  2.3min finished\n"
     ]
    },
    {
     "name": "stdout",
     "output_type": "stream",
     "text": [
      "Training model '32_3' (#3 at 32 dimensions) with seed 654571\n",
      "Training model with n_components=32 and seed=654571.\n"
     ]
    },
    {
     "name": "stderr",
     "output_type": "stream",
     "text": [
      "[Parallel(n_jobs=1)]: Using backend SequentialBackend with 1 concurrent workers.\n",
      "[Parallel(n_jobs=1)]: Done   1 out of   1 | elapsed:  2.1min remaining:    0.0s\n",
      "[Parallel(n_jobs=1)]: Done   1 out of   1 | elapsed:  2.1min finished\n"
     ]
    },
    {
     "name": "stdout",
     "output_type": "stream",
     "text": [
      "Training model '32_4' (#4 at 32 dimensions) with seed 438878\n",
      "Training model with n_components=32 and seed=438878.\n"
     ]
    },
    {
     "name": "stderr",
     "output_type": "stream",
     "text": [
      "[Parallel(n_jobs=1)]: Using backend SequentialBackend with 1 concurrent workers.\n",
      "[Parallel(n_jobs=1)]: Done   1 out of   1 | elapsed:  2.2min remaining:    0.0s\n",
      "[Parallel(n_jobs=1)]: Done   1 out of   1 | elapsed:  2.2min finished\n"
     ]
    },
    {
     "name": "stdout",
     "output_type": "stream",
     "text": [
      "Training model '64_1' (#1 at 64 dimensions) with seed 201469\n",
      "Training model with n_components=64 and seed=201469.\n"
     ]
    },
    {
     "name": "stderr",
     "output_type": "stream",
     "text": [
      "[Parallel(n_jobs=1)]: Using backend SequentialBackend with 1 concurrent workers.\n",
      "[Parallel(n_jobs=1)]: Done   1 out of   1 | elapsed:  3.3min remaining:    0.0s\n",
      "[Parallel(n_jobs=1)]: Done   1 out of   1 | elapsed:  3.3min finished\n"
     ]
    },
    {
     "name": "stdout",
     "output_type": "stream",
     "text": [
      "Training model '64_2' (#2 at 64 dimensions) with seed 94177\n",
      "Training model with n_components=64 and seed=94177.\n"
     ]
    },
    {
     "name": "stderr",
     "output_type": "stream",
     "text": [
      "[Parallel(n_jobs=1)]: Using backend SequentialBackend with 1 concurrent workers.\n",
      "[Parallel(n_jobs=1)]: Done   1 out of   1 | elapsed:  3.8min remaining:    0.0s\n",
      "[Parallel(n_jobs=1)]: Done   1 out of   1 | elapsed:  3.8min finished\n"
     ]
    },
    {
     "name": "stdout",
     "output_type": "stream",
     "text": [
      "Training model '64_3' (#3 at 64 dimensions) with seed 526478\n",
      "Training model with n_components=64 and seed=526478.\n"
     ]
    },
    {
     "name": "stderr",
     "output_type": "stream",
     "text": [
      "[Parallel(n_jobs=1)]: Using backend SequentialBackend with 1 concurrent workers.\n",
      "[Parallel(n_jobs=1)]: Done   1 out of   1 | elapsed:  2.9min remaining:    0.0s\n",
      "[Parallel(n_jobs=1)]: Done   1 out of   1 | elapsed:  2.9min finished\n"
     ]
    },
    {
     "name": "stdout",
     "output_type": "stream",
     "text": [
      "Training model '64_4' (#4 at 64 dimensions) with seed 975622\n",
      "Training model with n_components=64 and seed=975622.\n"
     ]
    },
    {
     "name": "stderr",
     "output_type": "stream",
     "text": [
      "[Parallel(n_jobs=1)]: Using backend SequentialBackend with 1 concurrent workers.\n",
      "[Parallel(n_jobs=1)]: Done   1 out of   1 | elapsed:  3.3min remaining:    0.0s\n",
      "[Parallel(n_jobs=1)]: Done   1 out of   1 | elapsed:  3.3min finished\n"
     ]
    },
    {
     "name": "stdout",
     "output_type": "stream",
     "text": [
      "Training model '128_1' (#1 at 128 dimensions) with seed 513226\n",
      "Training model with n_components=128 and seed=513226.\n"
     ]
    },
    {
     "name": "stderr",
     "output_type": "stream",
     "text": [
      "[Parallel(n_jobs=1)]: Using backend SequentialBackend with 1 concurrent workers.\n",
      "[Parallel(n_jobs=1)]: Done   1 out of   1 | elapsed:  5.3min remaining:    0.0s\n",
      "[Parallel(n_jobs=1)]: Done   1 out of   1 | elapsed:  5.3min finished\n"
     ]
    },
    {
     "name": "stdout",
     "output_type": "stream",
     "text": [
      "Training model '128_2' (#2 at 128 dimensions) with seed 128113\n",
      "Training model with n_components=128 and seed=128113.\n"
     ]
    },
    {
     "name": "stderr",
     "output_type": "stream",
     "text": [
      "[Parallel(n_jobs=1)]: Using backend SequentialBackend with 1 concurrent workers.\n",
      "[Parallel(n_jobs=1)]: Done   1 out of   1 | elapsed:  6.3min remaining:    0.0s\n",
      "[Parallel(n_jobs=1)]: Done   1 out of   1 | elapsed:  6.3min finished\n"
     ]
    },
    {
     "name": "stdout",
     "output_type": "stream",
     "text": [
      "Training model '128_3' (#3 at 128 dimensions) with seed 839748\n",
      "Training model with n_components=128 and seed=839748.\n"
     ]
    },
    {
     "name": "stderr",
     "output_type": "stream",
     "text": [
      "[Parallel(n_jobs=1)]: Using backend SequentialBackend with 1 concurrent workers.\n",
      "[Parallel(n_jobs=1)]: Done   1 out of   1 | elapsed:  5.2min remaining:    0.0s\n",
      "[Parallel(n_jobs=1)]: Done   1 out of   1 | elapsed:  5.2min finished\n"
     ]
    },
    {
     "name": "stdout",
     "output_type": "stream",
     "text": [
      "Training model '128_4' (#4 at 128 dimensions) with seed 450385\n",
      "Training model with n_components=128 and seed=450385.\n"
     ]
    },
    {
     "name": "stderr",
     "output_type": "stream",
     "text": [
      "[Parallel(n_jobs=1)]: Using backend SequentialBackend with 1 concurrent workers.\n",
      "[Parallel(n_jobs=1)]: Done   1 out of   1 | elapsed:  5.6min remaining:    0.0s\n",
      "[Parallel(n_jobs=1)]: Done   1 out of   1 | elapsed:  5.6min finished\n"
     ]
    },
    {
     "name": "stdout",
     "output_type": "stream",
     "text": [
      "Training model '256_1' (#1 at 256 dimensions) with seed 781567\n",
      "Training model with n_components=256 and seed=781567.\n"
     ]
    },
    {
     "name": "stderr",
     "output_type": "stream",
     "text": [
      "[Parallel(n_jobs=1)]: Using backend SequentialBackend with 1 concurrent workers.\n",
      "[Parallel(n_jobs=1)]: Done   1 out of   1 | elapsed:  7.7min remaining:    0.0s\n",
      "[Parallel(n_jobs=1)]: Done   1 out of   1 | elapsed:  7.7min finished\n"
     ]
    },
    {
     "name": "stdout",
     "output_type": "stream",
     "text": [
      "Training model '256_2' (#2 at 256 dimensions) with seed 643865\n",
      "Training model with n_components=256 and seed=643865.\n"
     ]
    },
    {
     "name": "stderr",
     "output_type": "stream",
     "text": [
      "[Parallel(n_jobs=1)]: Using backend SequentialBackend with 1 concurrent workers.\n",
      "[Parallel(n_jobs=1)]: Done   1 out of   1 | elapsed:  8.5min remaining:    0.0s\n",
      "[Parallel(n_jobs=1)]: Done   1 out of   1 | elapsed:  8.5min finished\n"
     ]
    },
    {
     "name": "stdout",
     "output_type": "stream",
     "text": [
      "Training model '256_3' (#3 at 256 dimensions) with seed 402414\n",
      "Training model with n_components=256 and seed=402414.\n"
     ]
    },
    {
     "name": "stderr",
     "output_type": "stream",
     "text": [
      "[Parallel(n_jobs=1)]: Using backend SequentialBackend with 1 concurrent workers.\n",
      "[Parallel(n_jobs=1)]: Done   1 out of   1 | elapsed:  7.2min remaining:    0.0s\n",
      "[Parallel(n_jobs=1)]: Done   1 out of   1 | elapsed:  7.2min finished\n"
     ]
    },
    {
     "name": "stdout",
     "output_type": "stream",
     "text": [
      "Training model '256_4' (#4 at 256 dimensions) with seed 822761\n",
      "Training model with n_components=256 and seed=822761.\n"
     ]
    },
    {
     "name": "stderr",
     "output_type": "stream",
     "text": [
      "[Parallel(n_jobs=1)]: Using backend SequentialBackend with 1 concurrent workers.\n",
      "[Parallel(n_jobs=1)]: Done   1 out of   1 | elapsed:  7.8min remaining:    0.0s\n",
      "[Parallel(n_jobs=1)]: Done   1 out of   1 | elapsed:  7.8min finished\n"
     ]
    },
    {
     "name": "stdout",
     "output_type": "stream",
     "text": [
      "Training model using all of 768-dimension embeddings.\n"
     ]
    },
    {
     "name": "stderr",
     "output_type": "stream",
     "text": [
      "[Parallel(n_jobs=1)]: Using backend SequentialBackend with 1 concurrent workers.\n"
     ]
    },
    {
     "name": "stdout",
     "output_type": "stream",
     "text": [
      "Trained 17 models.\n"
     ]
    },
    {
     "name": "stderr",
     "output_type": "stream",
     "text": [
      "[Parallel(n_jobs=1)]: Done   1 out of   1 | elapsed: 26.0min remaining:    0.0s\n",
      "[Parallel(n_jobs=1)]: Done   1 out of   1 | elapsed: 26.0min finished\n"
     ]
    },
    {
     "data": {
      "application/vnd.jupyter.widget-view+json": {
       "model_id": "5efd5fa0543747a2aa4abc94c977248f",
       "version_major": 2,
       "version_minor": 0
      },
      "text/plain": [
       "IntProgress(value=0, description='Starting...', layout=Layout(width='100%'), max=17, style=ProgressStyle(descr…"
      ]
     },
     "metadata": {},
     "output_type": "display_data"
    },
    {
     "data": {
      "application/vnd.jupyter.widget-view+json": {
       "model_id": "86e2c7d0b59c4eed90924598734e70c2",
       "version_major": 2,
       "version_minor": 0
      },
      "text/plain": [
       "IntProgress(value=0, description='Starting...', layout=Layout(width='100%'), max=139, style=ProgressStyle(desc…"
      ]
     },
     "metadata": {},
     "output_type": "display_data"
    },
    {
     "name": "stdout",
     "output_type": "stream",
     "text": [
      "Done with fold 5.\n",
      "Starting fold 6.\n",
      "Training model '32_1' (#1 at 32 dimensions) with seed 89250\n",
      "Training model with n_components=32 and seed=89250.\n"
     ]
    },
    {
     "name": "stderr",
     "output_type": "stream",
     "text": [
      "[Parallel(n_jobs=1)]: Using backend SequentialBackend with 1 concurrent workers.\n",
      "[Parallel(n_jobs=1)]: Done   1 out of   1 | elapsed:  1.5min remaining:    0.0s\n",
      "[Parallel(n_jobs=1)]: Done   1 out of   1 | elapsed:  1.5min finished\n"
     ]
    },
    {
     "name": "stdout",
     "output_type": "stream",
     "text": [
      "Training model '32_2' (#2 at 32 dimensions) with seed 773956\n",
      "Training model with n_components=32 and seed=773956.\n"
     ]
    },
    {
     "name": "stderr",
     "output_type": "stream",
     "text": [
      "[Parallel(n_jobs=1)]: Using backend SequentialBackend with 1 concurrent workers.\n",
      "[Parallel(n_jobs=1)]: Done   1 out of   1 | elapsed:  2.0min remaining:    0.0s\n",
      "[Parallel(n_jobs=1)]: Done   1 out of   1 | elapsed:  2.0min finished\n"
     ]
    },
    {
     "name": "stdout",
     "output_type": "stream",
     "text": [
      "Training model '32_3' (#3 at 32 dimensions) with seed 654571\n",
      "Training model with n_components=32 and seed=654571.\n"
     ]
    },
    {
     "name": "stderr",
     "output_type": "stream",
     "text": [
      "[Parallel(n_jobs=1)]: Using backend SequentialBackend with 1 concurrent workers.\n",
      "[Parallel(n_jobs=1)]: Done   1 out of   1 | elapsed:  2.2min remaining:    0.0s\n",
      "[Parallel(n_jobs=1)]: Done   1 out of   1 | elapsed:  2.2min finished\n"
     ]
    },
    {
     "name": "stdout",
     "output_type": "stream",
     "text": [
      "Training model '32_4' (#4 at 32 dimensions) with seed 438878\n",
      "Training model with n_components=32 and seed=438878.\n"
     ]
    },
    {
     "name": "stderr",
     "output_type": "stream",
     "text": [
      "[Parallel(n_jobs=1)]: Using backend SequentialBackend with 1 concurrent workers.\n",
      "[Parallel(n_jobs=1)]: Done   1 out of   1 | elapsed:  2.3min remaining:    0.0s\n",
      "[Parallel(n_jobs=1)]: Done   1 out of   1 | elapsed:  2.3min finished\n"
     ]
    },
    {
     "name": "stdout",
     "output_type": "stream",
     "text": [
      "Training model '64_1' (#1 at 64 dimensions) with seed 201469\n",
      "Training model with n_components=64 and seed=201469.\n"
     ]
    },
    {
     "name": "stderr",
     "output_type": "stream",
     "text": [
      "[Parallel(n_jobs=1)]: Using backend SequentialBackend with 1 concurrent workers.\n",
      "[Parallel(n_jobs=1)]: Done   1 out of   1 | elapsed:  3.4min remaining:    0.0s\n",
      "[Parallel(n_jobs=1)]: Done   1 out of   1 | elapsed:  3.4min finished\n"
     ]
    },
    {
     "name": "stdout",
     "output_type": "stream",
     "text": [
      "Training model '64_2' (#2 at 64 dimensions) with seed 94177\n",
      "Training model with n_components=64 and seed=94177.\n"
     ]
    },
    {
     "name": "stderr",
     "output_type": "stream",
     "text": [
      "[Parallel(n_jobs=1)]: Using backend SequentialBackend with 1 concurrent workers.\n",
      "[Parallel(n_jobs=1)]: Done   1 out of   1 | elapsed:  3.7min remaining:    0.0s\n",
      "[Parallel(n_jobs=1)]: Done   1 out of   1 | elapsed:  3.7min finished\n"
     ]
    },
    {
     "name": "stdout",
     "output_type": "stream",
     "text": [
      "Training model '64_3' (#3 at 64 dimensions) with seed 526478\n",
      "Training model with n_components=64 and seed=526478.\n"
     ]
    },
    {
     "name": "stderr",
     "output_type": "stream",
     "text": [
      "[Parallel(n_jobs=1)]: Using backend SequentialBackend with 1 concurrent workers.\n",
      "[Parallel(n_jobs=1)]: Done   1 out of   1 | elapsed:  3.3min remaining:    0.0s\n",
      "[Parallel(n_jobs=1)]: Done   1 out of   1 | elapsed:  3.3min finished\n"
     ]
    },
    {
     "name": "stdout",
     "output_type": "stream",
     "text": [
      "Training model '64_4' (#4 at 64 dimensions) with seed 975622\n",
      "Training model with n_components=64 and seed=975622.\n"
     ]
    },
    {
     "name": "stderr",
     "output_type": "stream",
     "text": [
      "[Parallel(n_jobs=1)]: Using backend SequentialBackend with 1 concurrent workers.\n",
      "[Parallel(n_jobs=1)]: Done   1 out of   1 | elapsed:  3.0min remaining:    0.0s\n",
      "[Parallel(n_jobs=1)]: Done   1 out of   1 | elapsed:  3.0min finished\n"
     ]
    },
    {
     "name": "stdout",
     "output_type": "stream",
     "text": [
      "Training model '128_1' (#1 at 128 dimensions) with seed 513226\n",
      "Training model with n_components=128 and seed=513226.\n"
     ]
    },
    {
     "name": "stderr",
     "output_type": "stream",
     "text": [
      "[Parallel(n_jobs=1)]: Using backend SequentialBackend with 1 concurrent workers.\n",
      "[Parallel(n_jobs=1)]: Done   1 out of   1 | elapsed:  5.3min remaining:    0.0s\n",
      "[Parallel(n_jobs=1)]: Done   1 out of   1 | elapsed:  5.3min finished\n"
     ]
    },
    {
     "name": "stdout",
     "output_type": "stream",
     "text": [
      "Training model '128_2' (#2 at 128 dimensions) with seed 128113\n",
      "Training model with n_components=128 and seed=128113.\n"
     ]
    },
    {
     "name": "stderr",
     "output_type": "stream",
     "text": [
      "[Parallel(n_jobs=1)]: Using backend SequentialBackend with 1 concurrent workers.\n",
      "[Parallel(n_jobs=1)]: Done   1 out of   1 | elapsed:  5.9min remaining:    0.0s\n",
      "[Parallel(n_jobs=1)]: Done   1 out of   1 | elapsed:  5.9min finished\n"
     ]
    },
    {
     "name": "stdout",
     "output_type": "stream",
     "text": [
      "Training model '128_3' (#3 at 128 dimensions) with seed 839748\n",
      "Training model with n_components=128 and seed=839748.\n"
     ]
    },
    {
     "name": "stderr",
     "output_type": "stream",
     "text": [
      "[Parallel(n_jobs=1)]: Using backend SequentialBackend with 1 concurrent workers.\n",
      "[Parallel(n_jobs=1)]: Done   1 out of   1 | elapsed:  4.5min remaining:    0.0s\n",
      "[Parallel(n_jobs=1)]: Done   1 out of   1 | elapsed:  4.5min finished\n"
     ]
    },
    {
     "name": "stdout",
     "output_type": "stream",
     "text": [
      "Training model '128_4' (#4 at 128 dimensions) with seed 450385\n",
      "Training model with n_components=128 and seed=450385.\n"
     ]
    },
    {
     "name": "stderr",
     "output_type": "stream",
     "text": [
      "[Parallel(n_jobs=1)]: Using backend SequentialBackend with 1 concurrent workers.\n",
      "[Parallel(n_jobs=1)]: Done   1 out of   1 | elapsed:  5.4min remaining:    0.0s\n",
      "[Parallel(n_jobs=1)]: Done   1 out of   1 | elapsed:  5.4min finished\n"
     ]
    },
    {
     "name": "stdout",
     "output_type": "stream",
     "text": [
      "Training model '256_1' (#1 at 256 dimensions) with seed 781567\n",
      "Training model with n_components=256 and seed=781567.\n"
     ]
    },
    {
     "name": "stderr",
     "output_type": "stream",
     "text": [
      "[Parallel(n_jobs=1)]: Using backend SequentialBackend with 1 concurrent workers.\n",
      "[Parallel(n_jobs=1)]: Done   1 out of   1 | elapsed:  8.3min remaining:    0.0s\n",
      "[Parallel(n_jobs=1)]: Done   1 out of   1 | elapsed:  8.3min finished\n"
     ]
    },
    {
     "name": "stdout",
     "output_type": "stream",
     "text": [
      "Training model '256_2' (#2 at 256 dimensions) with seed 643865\n",
      "Training model with n_components=256 and seed=643865.\n"
     ]
    },
    {
     "name": "stderr",
     "output_type": "stream",
     "text": [
      "[Parallel(n_jobs=1)]: Using backend SequentialBackend with 1 concurrent workers.\n",
      "[Parallel(n_jobs=1)]: Done   1 out of   1 | elapsed:  8.5min remaining:    0.0s\n",
      "[Parallel(n_jobs=1)]: Done   1 out of   1 | elapsed:  8.5min finished\n"
     ]
    },
    {
     "name": "stdout",
     "output_type": "stream",
     "text": [
      "Training model '256_3' (#3 at 256 dimensions) with seed 402414\n",
      "Training model with n_components=256 and seed=402414.\n"
     ]
    },
    {
     "name": "stderr",
     "output_type": "stream",
     "text": [
      "[Parallel(n_jobs=1)]: Using backend SequentialBackend with 1 concurrent workers.\n",
      "[Parallel(n_jobs=1)]: Done   1 out of   1 | elapsed:  7.6min remaining:    0.0s\n",
      "[Parallel(n_jobs=1)]: Done   1 out of   1 | elapsed:  7.6min finished\n"
     ]
    },
    {
     "name": "stdout",
     "output_type": "stream",
     "text": [
      "Training model '256_4' (#4 at 256 dimensions) with seed 822761\n",
      "Training model with n_components=256 and seed=822761.\n"
     ]
    },
    {
     "name": "stderr",
     "output_type": "stream",
     "text": [
      "[Parallel(n_jobs=1)]: Using backend SequentialBackend with 1 concurrent workers.\n",
      "[Parallel(n_jobs=1)]: Done   1 out of   1 | elapsed:  8.6min remaining:    0.0s\n",
      "[Parallel(n_jobs=1)]: Done   1 out of   1 | elapsed:  8.6min finished\n"
     ]
    },
    {
     "name": "stdout",
     "output_type": "stream",
     "text": [
      "Training model using all of 768-dimension embeddings.\n"
     ]
    },
    {
     "name": "stderr",
     "output_type": "stream",
     "text": [
      "[Parallel(n_jobs=1)]: Using backend SequentialBackend with 1 concurrent workers.\n"
     ]
    },
    {
     "name": "stdout",
     "output_type": "stream",
     "text": [
      "Trained 17 models.\n"
     ]
    },
    {
     "name": "stderr",
     "output_type": "stream",
     "text": [
      "[Parallel(n_jobs=1)]: Done   1 out of   1 | elapsed: 25.9min remaining:    0.0s\n",
      "[Parallel(n_jobs=1)]: Done   1 out of   1 | elapsed: 25.9min finished\n"
     ]
    },
    {
     "data": {
      "application/vnd.jupyter.widget-view+json": {
       "model_id": "7f9b8fe8cf894f54bc8fcd779fc74d78",
       "version_major": 2,
       "version_minor": 0
      },
      "text/plain": [
       "IntProgress(value=0, description='Starting...', layout=Layout(width='100%'), max=17, style=ProgressStyle(descr…"
      ]
     },
     "metadata": {},
     "output_type": "display_data"
    },
    {
     "data": {
      "application/vnd.jupyter.widget-view+json": {
       "model_id": "a1a5b32eff114d93aea86f4978b2cc89",
       "version_major": 2,
       "version_minor": 0
      },
      "text/plain": [
       "IntProgress(value=0, description='Starting...', layout=Layout(width='100%'), max=139, style=ProgressStyle(desc…"
      ]
     },
     "metadata": {},
     "output_type": "display_data"
    },
    {
     "name": "stdout",
     "output_type": "stream",
     "text": [
      "Done with fold 6.\n",
      "Starting fold 7.\n",
      "Training model '32_1' (#1 at 32 dimensions) with seed 89250\n",
      "Training model with n_components=32 and seed=89250.\n"
     ]
    },
    {
     "name": "stderr",
     "output_type": "stream",
     "text": [
      "[Parallel(n_jobs=1)]: Using backend SequentialBackend with 1 concurrent workers.\n",
      "[Parallel(n_jobs=1)]: Done   1 out of   1 | elapsed:  1.9min remaining:    0.0s\n",
      "[Parallel(n_jobs=1)]: Done   1 out of   1 | elapsed:  1.9min finished\n"
     ]
    },
    {
     "name": "stdout",
     "output_type": "stream",
     "text": [
      "Training model '32_2' (#2 at 32 dimensions) with seed 773956\n",
      "Training model with n_components=32 and seed=773956.\n"
     ]
    },
    {
     "name": "stderr",
     "output_type": "stream",
     "text": [
      "[Parallel(n_jobs=1)]: Using backend SequentialBackend with 1 concurrent workers.\n",
      "[Parallel(n_jobs=1)]: Done   1 out of   1 | elapsed:  2.3min remaining:    0.0s\n",
      "[Parallel(n_jobs=1)]: Done   1 out of   1 | elapsed:  2.3min finished\n"
     ]
    },
    {
     "name": "stdout",
     "output_type": "stream",
     "text": [
      "Training model '32_3' (#3 at 32 dimensions) with seed 654571\n",
      "Training model with n_components=32 and seed=654571.\n"
     ]
    },
    {
     "name": "stderr",
     "output_type": "stream",
     "text": [
      "[Parallel(n_jobs=1)]: Using backend SequentialBackend with 1 concurrent workers.\n",
      "[Parallel(n_jobs=1)]: Done   1 out of   1 | elapsed:  2.0min remaining:    0.0s\n",
      "[Parallel(n_jobs=1)]: Done   1 out of   1 | elapsed:  2.0min finished\n"
     ]
    },
    {
     "name": "stdout",
     "output_type": "stream",
     "text": [
      "Training model '32_4' (#4 at 32 dimensions) with seed 438878\n",
      "Training model with n_components=32 and seed=438878.\n"
     ]
    },
    {
     "name": "stderr",
     "output_type": "stream",
     "text": [
      "[Parallel(n_jobs=1)]: Using backend SequentialBackend with 1 concurrent workers.\n",
      "[Parallel(n_jobs=1)]: Done   1 out of   1 | elapsed:  2.7min remaining:    0.0s\n",
      "[Parallel(n_jobs=1)]: Done   1 out of   1 | elapsed:  2.7min finished\n"
     ]
    },
    {
     "name": "stdout",
     "output_type": "stream",
     "text": [
      "Training model '64_1' (#1 at 64 dimensions) with seed 201469\n",
      "Training model with n_components=64 and seed=201469.\n"
     ]
    },
    {
     "name": "stderr",
     "output_type": "stream",
     "text": [
      "[Parallel(n_jobs=1)]: Using backend SequentialBackend with 1 concurrent workers.\n",
      "[Parallel(n_jobs=1)]: Done   1 out of   1 | elapsed:  3.4min remaining:    0.0s\n",
      "[Parallel(n_jobs=1)]: Done   1 out of   1 | elapsed:  3.4min finished\n"
     ]
    },
    {
     "name": "stdout",
     "output_type": "stream",
     "text": [
      "Training model '64_2' (#2 at 64 dimensions) with seed 94177\n",
      "Training model with n_components=64 and seed=94177.\n"
     ]
    },
    {
     "name": "stderr",
     "output_type": "stream",
     "text": [
      "[Parallel(n_jobs=1)]: Using backend SequentialBackend with 1 concurrent workers.\n",
      "[Parallel(n_jobs=1)]: Done   1 out of   1 | elapsed:  3.4min remaining:    0.0s\n",
      "[Parallel(n_jobs=1)]: Done   1 out of   1 | elapsed:  3.4min finished\n"
     ]
    },
    {
     "name": "stdout",
     "output_type": "stream",
     "text": [
      "Training model '64_3' (#3 at 64 dimensions) with seed 526478\n",
      "Training model with n_components=64 and seed=526478.\n"
     ]
    },
    {
     "name": "stderr",
     "output_type": "stream",
     "text": [
      "[Parallel(n_jobs=1)]: Using backend SequentialBackend with 1 concurrent workers.\n",
      "[Parallel(n_jobs=1)]: Done   1 out of   1 | elapsed:  2.8min remaining:    0.0s\n",
      "[Parallel(n_jobs=1)]: Done   1 out of   1 | elapsed:  2.8min finished\n"
     ]
    },
    {
     "name": "stdout",
     "output_type": "stream",
     "text": [
      "Training model '64_4' (#4 at 64 dimensions) with seed 975622\n",
      "Training model with n_components=64 and seed=975622.\n"
     ]
    },
    {
     "name": "stderr",
     "output_type": "stream",
     "text": [
      "[Parallel(n_jobs=1)]: Using backend SequentialBackend with 1 concurrent workers.\n",
      "[Parallel(n_jobs=1)]: Done   1 out of   1 | elapsed:  2.9min remaining:    0.0s\n",
      "[Parallel(n_jobs=1)]: Done   1 out of   1 | elapsed:  2.9min finished\n"
     ]
    },
    {
     "name": "stdout",
     "output_type": "stream",
     "text": [
      "Training model '128_1' (#1 at 128 dimensions) with seed 513226\n",
      "Training model with n_components=128 and seed=513226.\n"
     ]
    },
    {
     "name": "stderr",
     "output_type": "stream",
     "text": [
      "[Parallel(n_jobs=1)]: Using backend SequentialBackend with 1 concurrent workers.\n",
      "[Parallel(n_jobs=1)]: Done   1 out of   1 | elapsed:  5.3min remaining:    0.0s\n",
      "[Parallel(n_jobs=1)]: Done   1 out of   1 | elapsed:  5.3min finished\n"
     ]
    },
    {
     "name": "stdout",
     "output_type": "stream",
     "text": [
      "Training model '128_2' (#2 at 128 dimensions) with seed 128113\n",
      "Training model with n_components=128 and seed=128113.\n"
     ]
    },
    {
     "name": "stderr",
     "output_type": "stream",
     "text": [
      "[Parallel(n_jobs=1)]: Using backend SequentialBackend with 1 concurrent workers.\n",
      "[Parallel(n_jobs=1)]: Done   1 out of   1 | elapsed:  6.7min remaining:    0.0s\n",
      "[Parallel(n_jobs=1)]: Done   1 out of   1 | elapsed:  6.7min finished\n"
     ]
    },
    {
     "name": "stdout",
     "output_type": "stream",
     "text": [
      "Training model '128_3' (#3 at 128 dimensions) with seed 839748\n",
      "Training model with n_components=128 and seed=839748.\n"
     ]
    },
    {
     "name": "stderr",
     "output_type": "stream",
     "text": [
      "[Parallel(n_jobs=1)]: Using backend SequentialBackend with 1 concurrent workers.\n",
      "[Parallel(n_jobs=1)]: Done   1 out of   1 | elapsed:  5.3min remaining:    0.0s\n",
      "[Parallel(n_jobs=1)]: Done   1 out of   1 | elapsed:  5.3min finished\n"
     ]
    },
    {
     "name": "stdout",
     "output_type": "stream",
     "text": [
      "Training model '128_4' (#4 at 128 dimensions) with seed 450385\n",
      "Training model with n_components=128 and seed=450385.\n"
     ]
    },
    {
     "name": "stderr",
     "output_type": "stream",
     "text": [
      "[Parallel(n_jobs=1)]: Using backend SequentialBackend with 1 concurrent workers.\n",
      "[Parallel(n_jobs=1)]: Done   1 out of   1 | elapsed:  5.2min remaining:    0.0s\n",
      "[Parallel(n_jobs=1)]: Done   1 out of   1 | elapsed:  5.2min finished\n"
     ]
    },
    {
     "name": "stdout",
     "output_type": "stream",
     "text": [
      "Training model '256_1' (#1 at 256 dimensions) with seed 781567\n",
      "Training model with n_components=256 and seed=781567.\n"
     ]
    },
    {
     "name": "stderr",
     "output_type": "stream",
     "text": [
      "[Parallel(n_jobs=1)]: Using backend SequentialBackend with 1 concurrent workers.\n",
      "[Parallel(n_jobs=1)]: Done   1 out of   1 | elapsed:  7.7min remaining:    0.0s\n",
      "[Parallel(n_jobs=1)]: Done   1 out of   1 | elapsed:  7.7min finished\n"
     ]
    },
    {
     "name": "stdout",
     "output_type": "stream",
     "text": [
      "Training model '256_2' (#2 at 256 dimensions) with seed 643865\n",
      "Training model with n_components=256 and seed=643865.\n"
     ]
    },
    {
     "name": "stderr",
     "output_type": "stream",
     "text": [
      "[Parallel(n_jobs=1)]: Using backend SequentialBackend with 1 concurrent workers.\n",
      "[Parallel(n_jobs=1)]: Done   1 out of   1 | elapsed:  8.0min remaining:    0.0s\n",
      "[Parallel(n_jobs=1)]: Done   1 out of   1 | elapsed:  8.0min finished\n"
     ]
    },
    {
     "name": "stdout",
     "output_type": "stream",
     "text": [
      "Training model '256_3' (#3 at 256 dimensions) with seed 402414\n",
      "Training model with n_components=256 and seed=402414.\n"
     ]
    },
    {
     "name": "stderr",
     "output_type": "stream",
     "text": [
      "[Parallel(n_jobs=1)]: Using backend SequentialBackend with 1 concurrent workers.\n",
      "[Parallel(n_jobs=1)]: Done   1 out of   1 | elapsed:  8.0min remaining:    0.0s\n",
      "[Parallel(n_jobs=1)]: Done   1 out of   1 | elapsed:  8.0min finished\n"
     ]
    },
    {
     "name": "stdout",
     "output_type": "stream",
     "text": [
      "Training model '256_4' (#4 at 256 dimensions) with seed 822761\n",
      "Training model with n_components=256 and seed=822761.\n"
     ]
    },
    {
     "name": "stderr",
     "output_type": "stream",
     "text": [
      "[Parallel(n_jobs=1)]: Using backend SequentialBackend with 1 concurrent workers.\n",
      "[Parallel(n_jobs=1)]: Done   1 out of   1 | elapsed:  8.0min remaining:    0.0s\n",
      "[Parallel(n_jobs=1)]: Done   1 out of   1 | elapsed:  8.0min finished\n"
     ]
    },
    {
     "name": "stdout",
     "output_type": "stream",
     "text": [
      "Training model using all of 768-dimension embeddings.\n"
     ]
    },
    {
     "name": "stderr",
     "output_type": "stream",
     "text": [
      "[Parallel(n_jobs=1)]: Using backend SequentialBackend with 1 concurrent workers.\n"
     ]
    },
    {
     "name": "stdout",
     "output_type": "stream",
     "text": [
      "Trained 17 models.\n"
     ]
    },
    {
     "name": "stderr",
     "output_type": "stream",
     "text": [
      "[Parallel(n_jobs=1)]: Done   1 out of   1 | elapsed: 27.0min remaining:    0.0s\n",
      "[Parallel(n_jobs=1)]: Done   1 out of   1 | elapsed: 27.0min finished\n"
     ]
    },
    {
     "data": {
      "application/vnd.jupyter.widget-view+json": {
       "model_id": "f24dc19decb44a9ca7ddeb318a07756c",
       "version_major": 2,
       "version_minor": 0
      },
      "text/plain": [
       "IntProgress(value=0, description='Starting...', layout=Layout(width='100%'), max=17, style=ProgressStyle(descr…"
      ]
     },
     "metadata": {},
     "output_type": "display_data"
    },
    {
     "data": {
      "application/vnd.jupyter.widget-view+json": {
       "model_id": "bc635dafb9834c70a573bda31234a435",
       "version_major": 2,
       "version_minor": 0
      },
      "text/plain": [
       "IntProgress(value=0, description='Starting...', layout=Layout(width='100%'), max=139, style=ProgressStyle(desc…"
      ]
     },
     "metadata": {},
     "output_type": "display_data"
    },
    {
     "name": "stdout",
     "output_type": "stream",
     "text": [
      "Done with fold 7.\n",
      "Starting fold 8.\n",
      "Training model '32_1' (#1 at 32 dimensions) with seed 89250\n",
      "Training model with n_components=32 and seed=89250.\n"
     ]
    },
    {
     "name": "stderr",
     "output_type": "stream",
     "text": [
      "[Parallel(n_jobs=1)]: Using backend SequentialBackend with 1 concurrent workers.\n",
      "[Parallel(n_jobs=1)]: Done   1 out of   1 | elapsed:  1.9min remaining:    0.0s\n",
      "[Parallel(n_jobs=1)]: Done   1 out of   1 | elapsed:  1.9min finished\n"
     ]
    },
    {
     "name": "stdout",
     "output_type": "stream",
     "text": [
      "Training model '32_2' (#2 at 32 dimensions) with seed 773956\n",
      "Training model with n_components=32 and seed=773956.\n"
     ]
    },
    {
     "name": "stderr",
     "output_type": "stream",
     "text": [
      "[Parallel(n_jobs=1)]: Using backend SequentialBackend with 1 concurrent workers.\n",
      "[Parallel(n_jobs=1)]: Done   1 out of   1 | elapsed:  2.0min remaining:    0.0s\n",
      "[Parallel(n_jobs=1)]: Done   1 out of   1 | elapsed:  2.0min finished\n"
     ]
    },
    {
     "name": "stdout",
     "output_type": "stream",
     "text": [
      "Training model '32_3' (#3 at 32 dimensions) with seed 654571\n",
      "Training model with n_components=32 and seed=654571.\n"
     ]
    },
    {
     "name": "stderr",
     "output_type": "stream",
     "text": [
      "[Parallel(n_jobs=1)]: Using backend SequentialBackend with 1 concurrent workers.\n",
      "[Parallel(n_jobs=1)]: Done   1 out of   1 | elapsed:  1.8min remaining:    0.0s\n",
      "[Parallel(n_jobs=1)]: Done   1 out of   1 | elapsed:  1.8min finished\n"
     ]
    },
    {
     "name": "stdout",
     "output_type": "stream",
     "text": [
      "Training model '32_4' (#4 at 32 dimensions) with seed 438878\n",
      "Training model with n_components=32 and seed=438878.\n"
     ]
    },
    {
     "name": "stderr",
     "output_type": "stream",
     "text": [
      "[Parallel(n_jobs=1)]: Using backend SequentialBackend with 1 concurrent workers.\n",
      "[Parallel(n_jobs=1)]: Done   1 out of   1 | elapsed:  2.2min remaining:    0.0s\n",
      "[Parallel(n_jobs=1)]: Done   1 out of   1 | elapsed:  2.2min finished\n"
     ]
    },
    {
     "name": "stdout",
     "output_type": "stream",
     "text": [
      "Training model '64_1' (#1 at 64 dimensions) with seed 201469\n",
      "Training model with n_components=64 and seed=201469.\n"
     ]
    },
    {
     "name": "stderr",
     "output_type": "stream",
     "text": [
      "[Parallel(n_jobs=1)]: Using backend SequentialBackend with 1 concurrent workers.\n",
      "[Parallel(n_jobs=1)]: Done   1 out of   1 | elapsed:  3.0min remaining:    0.0s\n",
      "[Parallel(n_jobs=1)]: Done   1 out of   1 | elapsed:  3.0min finished\n"
     ]
    },
    {
     "name": "stdout",
     "output_type": "stream",
     "text": [
      "Training model '64_2' (#2 at 64 dimensions) with seed 94177\n",
      "Training model with n_components=64 and seed=94177.\n"
     ]
    },
    {
     "name": "stderr",
     "output_type": "stream",
     "text": [
      "[Parallel(n_jobs=1)]: Using backend SequentialBackend with 1 concurrent workers.\n",
      "[Parallel(n_jobs=1)]: Done   1 out of   1 | elapsed:  3.3min remaining:    0.0s\n",
      "[Parallel(n_jobs=1)]: Done   1 out of   1 | elapsed:  3.3min finished\n"
     ]
    },
    {
     "name": "stdout",
     "output_type": "stream",
     "text": [
      "Training model '64_3' (#3 at 64 dimensions) with seed 526478\n",
      "Training model with n_components=64 and seed=526478.\n"
     ]
    },
    {
     "name": "stderr",
     "output_type": "stream",
     "text": [
      "[Parallel(n_jobs=1)]: Using backend SequentialBackend with 1 concurrent workers.\n",
      "[Parallel(n_jobs=1)]: Done   1 out of   1 | elapsed:  3.0min remaining:    0.0s\n",
      "[Parallel(n_jobs=1)]: Done   1 out of   1 | elapsed:  3.0min finished\n"
     ]
    },
    {
     "name": "stdout",
     "output_type": "stream",
     "text": [
      "Training model '64_4' (#4 at 64 dimensions) with seed 975622\n",
      "Training model with n_components=64 and seed=975622.\n"
     ]
    },
    {
     "name": "stderr",
     "output_type": "stream",
     "text": [
      "[Parallel(n_jobs=1)]: Using backend SequentialBackend with 1 concurrent workers.\n",
      "[Parallel(n_jobs=1)]: Done   1 out of   1 | elapsed:  3.2min remaining:    0.0s\n",
      "[Parallel(n_jobs=1)]: Done   1 out of   1 | elapsed:  3.2min finished\n"
     ]
    },
    {
     "name": "stdout",
     "output_type": "stream",
     "text": [
      "Training model '128_1' (#1 at 128 dimensions) with seed 513226\n",
      "Training model with n_components=128 and seed=513226.\n"
     ]
    },
    {
     "name": "stderr",
     "output_type": "stream",
     "text": [
      "[Parallel(n_jobs=1)]: Using backend SequentialBackend with 1 concurrent workers.\n",
      "[Parallel(n_jobs=1)]: Done   1 out of   1 | elapsed:  5.1min remaining:    0.0s\n",
      "[Parallel(n_jobs=1)]: Done   1 out of   1 | elapsed:  5.1min finished\n"
     ]
    },
    {
     "name": "stdout",
     "output_type": "stream",
     "text": [
      "Training model '128_2' (#2 at 128 dimensions) with seed 128113\n",
      "Training model with n_components=128 and seed=128113.\n"
     ]
    },
    {
     "name": "stderr",
     "output_type": "stream",
     "text": [
      "[Parallel(n_jobs=1)]: Using backend SequentialBackend with 1 concurrent workers.\n",
      "[Parallel(n_jobs=1)]: Done   1 out of   1 | elapsed:  5.8min remaining:    0.0s\n",
      "[Parallel(n_jobs=1)]: Done   1 out of   1 | elapsed:  5.8min finished\n"
     ]
    },
    {
     "name": "stdout",
     "output_type": "stream",
     "text": [
      "Training model '128_3' (#3 at 128 dimensions) with seed 839748\n",
      "Training model with n_components=128 and seed=839748.\n"
     ]
    },
    {
     "name": "stderr",
     "output_type": "stream",
     "text": [
      "[Parallel(n_jobs=1)]: Using backend SequentialBackend with 1 concurrent workers.\n",
      "[Parallel(n_jobs=1)]: Done   1 out of   1 | elapsed:  5.1min remaining:    0.0s\n",
      "[Parallel(n_jobs=1)]: Done   1 out of   1 | elapsed:  5.1min finished\n"
     ]
    },
    {
     "name": "stdout",
     "output_type": "stream",
     "text": [
      "Training model '128_4' (#4 at 128 dimensions) with seed 450385\n",
      "Training model with n_components=128 and seed=450385.\n"
     ]
    },
    {
     "name": "stderr",
     "output_type": "stream",
     "text": [
      "[Parallel(n_jobs=1)]: Using backend SequentialBackend with 1 concurrent workers.\n",
      "[Parallel(n_jobs=1)]: Done   1 out of   1 | elapsed:  6.4min remaining:    0.0s\n",
      "[Parallel(n_jobs=1)]: Done   1 out of   1 | elapsed:  6.4min finished\n"
     ]
    },
    {
     "name": "stdout",
     "output_type": "stream",
     "text": [
      "Training model '256_1' (#1 at 256 dimensions) with seed 781567\n",
      "Training model with n_components=256 and seed=781567.\n"
     ]
    },
    {
     "name": "stderr",
     "output_type": "stream",
     "text": [
      "[Parallel(n_jobs=1)]: Using backend SequentialBackend with 1 concurrent workers.\n",
      "[Parallel(n_jobs=1)]: Done   1 out of   1 | elapsed:  8.3min remaining:    0.0s\n",
      "[Parallel(n_jobs=1)]: Done   1 out of   1 | elapsed:  8.3min finished\n"
     ]
    },
    {
     "name": "stdout",
     "output_type": "stream",
     "text": [
      "Training model '256_2' (#2 at 256 dimensions) with seed 643865\n",
      "Training model with n_components=256 and seed=643865.\n"
     ]
    },
    {
     "name": "stderr",
     "output_type": "stream",
     "text": [
      "[Parallel(n_jobs=1)]: Using backend SequentialBackend with 1 concurrent workers.\n",
      "[Parallel(n_jobs=1)]: Done   1 out of   1 | elapsed:  8.4min remaining:    0.0s\n",
      "[Parallel(n_jobs=1)]: Done   1 out of   1 | elapsed:  8.4min finished\n"
     ]
    },
    {
     "name": "stdout",
     "output_type": "stream",
     "text": [
      "Training model '256_3' (#3 at 256 dimensions) with seed 402414\n",
      "Training model with n_components=256 and seed=402414.\n"
     ]
    },
    {
     "name": "stderr",
     "output_type": "stream",
     "text": [
      "[Parallel(n_jobs=1)]: Using backend SequentialBackend with 1 concurrent workers.\n",
      "[Parallel(n_jobs=1)]: Done   1 out of   1 | elapsed:  8.1min remaining:    0.0s\n",
      "[Parallel(n_jobs=1)]: Done   1 out of   1 | elapsed:  8.1min finished\n"
     ]
    },
    {
     "name": "stdout",
     "output_type": "stream",
     "text": [
      "Training model '256_4' (#4 at 256 dimensions) with seed 822761\n",
      "Training model with n_components=256 and seed=822761.\n"
     ]
    },
    {
     "name": "stderr",
     "output_type": "stream",
     "text": [
      "[Parallel(n_jobs=1)]: Using backend SequentialBackend with 1 concurrent workers.\n",
      "[Parallel(n_jobs=1)]: Done   1 out of   1 | elapsed:  9.0min remaining:    0.0s\n",
      "[Parallel(n_jobs=1)]: Done   1 out of   1 | elapsed:  9.0min finished\n"
     ]
    },
    {
     "name": "stdout",
     "output_type": "stream",
     "text": [
      "Training model using all of 768-dimension embeddings.\n"
     ]
    },
    {
     "name": "stderr",
     "output_type": "stream",
     "text": [
      "[Parallel(n_jobs=1)]: Using backend SequentialBackend with 1 concurrent workers.\n"
     ]
    },
    {
     "name": "stdout",
     "output_type": "stream",
     "text": [
      "Trained 17 models.\n"
     ]
    },
    {
     "name": "stderr",
     "output_type": "stream",
     "text": [
      "[Parallel(n_jobs=1)]: Done   1 out of   1 | elapsed: 29.4min remaining:    0.0s\n",
      "[Parallel(n_jobs=1)]: Done   1 out of   1 | elapsed: 29.4min finished\n"
     ]
    },
    {
     "data": {
      "application/vnd.jupyter.widget-view+json": {
       "model_id": "38528e3a5f0542f6bf1fbe3574ed13cf",
       "version_major": 2,
       "version_minor": 0
      },
      "text/plain": [
       "IntProgress(value=0, description='Starting...', layout=Layout(width='100%'), max=17, style=ProgressStyle(descr…"
      ]
     },
     "metadata": {},
     "output_type": "display_data"
    },
    {
     "data": {
      "application/vnd.jupyter.widget-view+json": {
       "model_id": "f55918fb41604a0195ff9fddf92912a2",
       "version_major": 2,
       "version_minor": 0
      },
      "text/plain": [
       "IntProgress(value=0, description='Starting...', layout=Layout(width='100%'), max=139, style=ProgressStyle(desc…"
      ]
     },
     "metadata": {},
     "output_type": "display_data"
    },
    {
     "name": "stdout",
     "output_type": "stream",
     "text": [
      "Done with fold 8.\n",
      "Starting fold 9.\n",
      "Training model '32_1' (#1 at 32 dimensions) with seed 89250\n",
      "Training model with n_components=32 and seed=89250.\n"
     ]
    },
    {
     "name": "stderr",
     "output_type": "stream",
     "text": [
      "[Parallel(n_jobs=1)]: Using backend SequentialBackend with 1 concurrent workers.\n",
      "[Parallel(n_jobs=1)]: Done   1 out of   1 | elapsed:  2.5min remaining:    0.0s\n",
      "[Parallel(n_jobs=1)]: Done   1 out of   1 | elapsed:  2.5min finished\n"
     ]
    },
    {
     "name": "stdout",
     "output_type": "stream",
     "text": [
      "Training model '32_2' (#2 at 32 dimensions) with seed 773956\n",
      "Training model with n_components=32 and seed=773956.\n"
     ]
    },
    {
     "name": "stderr",
     "output_type": "stream",
     "text": [
      "[Parallel(n_jobs=1)]: Using backend SequentialBackend with 1 concurrent workers.\n",
      "[Parallel(n_jobs=1)]: Done   1 out of   1 | elapsed:  3.1min remaining:    0.0s\n",
      "[Parallel(n_jobs=1)]: Done   1 out of   1 | elapsed:  3.1min finished\n"
     ]
    },
    {
     "name": "stdout",
     "output_type": "stream",
     "text": [
      "Training model '32_3' (#3 at 32 dimensions) with seed 654571\n",
      "Training model with n_components=32 and seed=654571.\n"
     ]
    },
    {
     "name": "stderr",
     "output_type": "stream",
     "text": [
      "[Parallel(n_jobs=1)]: Using backend SequentialBackend with 1 concurrent workers.\n",
      "[Parallel(n_jobs=1)]: Done   1 out of   1 | elapsed:  2.4min remaining:    0.0s\n",
      "[Parallel(n_jobs=1)]: Done   1 out of   1 | elapsed:  2.4min finished\n"
     ]
    },
    {
     "name": "stdout",
     "output_type": "stream",
     "text": [
      "Training model '32_4' (#4 at 32 dimensions) with seed 438878\n",
      "Training model with n_components=32 and seed=438878.\n"
     ]
    },
    {
     "name": "stderr",
     "output_type": "stream",
     "text": [
      "[Parallel(n_jobs=1)]: Using backend SequentialBackend with 1 concurrent workers.\n",
      "[Parallel(n_jobs=1)]: Done   1 out of   1 | elapsed:  1.9min remaining:    0.0s\n",
      "[Parallel(n_jobs=1)]: Done   1 out of   1 | elapsed:  1.9min finished\n"
     ]
    },
    {
     "name": "stdout",
     "output_type": "stream",
     "text": [
      "Training model '64_1' (#1 at 64 dimensions) with seed 201469\n",
      "Training model with n_components=64 and seed=201469.\n"
     ]
    },
    {
     "name": "stderr",
     "output_type": "stream",
     "text": [
      "[Parallel(n_jobs=1)]: Using backend SequentialBackend with 1 concurrent workers.\n",
      "[Parallel(n_jobs=1)]: Done   1 out of   1 | elapsed:  3.4min remaining:    0.0s\n",
      "[Parallel(n_jobs=1)]: Done   1 out of   1 | elapsed:  3.4min finished\n"
     ]
    },
    {
     "name": "stdout",
     "output_type": "stream",
     "text": [
      "Training model '64_2' (#2 at 64 dimensions) with seed 94177\n",
      "Training model with n_components=64 and seed=94177.\n"
     ]
    },
    {
     "name": "stderr",
     "output_type": "stream",
     "text": [
      "[Parallel(n_jobs=1)]: Using backend SequentialBackend with 1 concurrent workers.\n",
      "[Parallel(n_jobs=1)]: Done   1 out of   1 | elapsed:  3.6min remaining:    0.0s\n",
      "[Parallel(n_jobs=1)]: Done   1 out of   1 | elapsed:  3.6min finished\n"
     ]
    },
    {
     "name": "stdout",
     "output_type": "stream",
     "text": [
      "Training model '64_3' (#3 at 64 dimensions) with seed 526478\n",
      "Training model with n_components=64 and seed=526478.\n"
     ]
    },
    {
     "name": "stderr",
     "output_type": "stream",
     "text": [
      "[Parallel(n_jobs=1)]: Using backend SequentialBackend with 1 concurrent workers.\n",
      "[Parallel(n_jobs=1)]: Done   1 out of   1 | elapsed:  3.3min remaining:    0.0s\n",
      "[Parallel(n_jobs=1)]: Done   1 out of   1 | elapsed:  3.3min finished\n"
     ]
    },
    {
     "name": "stdout",
     "output_type": "stream",
     "text": [
      "Training model '64_4' (#4 at 64 dimensions) with seed 975622\n",
      "Training model with n_components=64 and seed=975622.\n"
     ]
    },
    {
     "name": "stderr",
     "output_type": "stream",
     "text": [
      "[Parallel(n_jobs=1)]: Using backend SequentialBackend with 1 concurrent workers.\n",
      "[Parallel(n_jobs=1)]: Done   1 out of   1 | elapsed:  3.2min remaining:    0.0s\n",
      "[Parallel(n_jobs=1)]: Done   1 out of   1 | elapsed:  3.2min finished\n"
     ]
    },
    {
     "name": "stdout",
     "output_type": "stream",
     "text": [
      "Training model '128_1' (#1 at 128 dimensions) with seed 513226\n",
      "Training model with n_components=128 and seed=513226.\n"
     ]
    },
    {
     "name": "stderr",
     "output_type": "stream",
     "text": [
      "[Parallel(n_jobs=1)]: Using backend SequentialBackend with 1 concurrent workers.\n",
      "[Parallel(n_jobs=1)]: Done   1 out of   1 | elapsed:  5.3min remaining:    0.0s\n",
      "[Parallel(n_jobs=1)]: Done   1 out of   1 | elapsed:  5.3min finished\n"
     ]
    },
    {
     "name": "stdout",
     "output_type": "stream",
     "text": [
      "Training model '128_2' (#2 at 128 dimensions) with seed 128113\n",
      "Training model with n_components=128 and seed=128113.\n"
     ]
    },
    {
     "name": "stderr",
     "output_type": "stream",
     "text": [
      "[Parallel(n_jobs=1)]: Using backend SequentialBackend with 1 concurrent workers.\n",
      "[Parallel(n_jobs=1)]: Done   1 out of   1 | elapsed:  6.1min remaining:    0.0s\n",
      "[Parallel(n_jobs=1)]: Done   1 out of   1 | elapsed:  6.1min finished\n"
     ]
    },
    {
     "name": "stdout",
     "output_type": "stream",
     "text": [
      "Training model '128_3' (#3 at 128 dimensions) with seed 839748\n",
      "Training model with n_components=128 and seed=839748.\n"
     ]
    },
    {
     "name": "stderr",
     "output_type": "stream",
     "text": [
      "[Parallel(n_jobs=1)]: Using backend SequentialBackend with 1 concurrent workers.\n",
      "[Parallel(n_jobs=1)]: Done   1 out of   1 | elapsed:  4.7min remaining:    0.0s\n",
      "[Parallel(n_jobs=1)]: Done   1 out of   1 | elapsed:  4.7min finished\n"
     ]
    },
    {
     "name": "stdout",
     "output_type": "stream",
     "text": [
      "Training model '128_4' (#4 at 128 dimensions) with seed 450385\n",
      "Training model with n_components=128 and seed=450385.\n"
     ]
    },
    {
     "name": "stderr",
     "output_type": "stream",
     "text": [
      "[Parallel(n_jobs=1)]: Using backend SequentialBackend with 1 concurrent workers.\n",
      "[Parallel(n_jobs=1)]: Done   1 out of   1 | elapsed:  5.4min remaining:    0.0s\n",
      "[Parallel(n_jobs=1)]: Done   1 out of   1 | elapsed:  5.4min finished\n"
     ]
    },
    {
     "name": "stdout",
     "output_type": "stream",
     "text": [
      "Training model '256_1' (#1 at 256 dimensions) with seed 781567\n",
      "Training model with n_components=256 and seed=781567.\n"
     ]
    },
    {
     "name": "stderr",
     "output_type": "stream",
     "text": [
      "[Parallel(n_jobs=1)]: Using backend SequentialBackend with 1 concurrent workers.\n",
      "[Parallel(n_jobs=1)]: Done   1 out of   1 | elapsed:  8.0min remaining:    0.0s\n",
      "[Parallel(n_jobs=1)]: Done   1 out of   1 | elapsed:  8.0min finished\n"
     ]
    },
    {
     "name": "stdout",
     "output_type": "stream",
     "text": [
      "Training model '256_2' (#2 at 256 dimensions) with seed 643865\n",
      "Training model with n_components=256 and seed=643865.\n"
     ]
    },
    {
     "name": "stderr",
     "output_type": "stream",
     "text": [
      "[Parallel(n_jobs=1)]: Using backend SequentialBackend with 1 concurrent workers.\n",
      "[Parallel(n_jobs=1)]: Done   1 out of   1 | elapsed:  8.2min remaining:    0.0s\n",
      "[Parallel(n_jobs=1)]: Done   1 out of   1 | elapsed:  8.2min finished\n"
     ]
    },
    {
     "name": "stdout",
     "output_type": "stream",
     "text": [
      "Training model '256_3' (#3 at 256 dimensions) with seed 402414\n",
      "Training model with n_components=256 and seed=402414.\n"
     ]
    },
    {
     "name": "stderr",
     "output_type": "stream",
     "text": [
      "[Parallel(n_jobs=1)]: Using backend SequentialBackend with 1 concurrent workers.\n",
      "[Parallel(n_jobs=1)]: Done   1 out of   1 | elapsed:  7.5min remaining:    0.0s\n",
      "[Parallel(n_jobs=1)]: Done   1 out of   1 | elapsed:  7.5min finished\n"
     ]
    },
    {
     "name": "stdout",
     "output_type": "stream",
     "text": [
      "Training model '256_4' (#4 at 256 dimensions) with seed 822761\n",
      "Training model with n_components=256 and seed=822761.\n"
     ]
    },
    {
     "name": "stderr",
     "output_type": "stream",
     "text": [
      "[Parallel(n_jobs=1)]: Using backend SequentialBackend with 1 concurrent workers.\n",
      "[Parallel(n_jobs=1)]: Done   1 out of   1 | elapsed:  7.9min remaining:    0.0s\n",
      "[Parallel(n_jobs=1)]: Done   1 out of   1 | elapsed:  7.9min finished\n"
     ]
    },
    {
     "name": "stdout",
     "output_type": "stream",
     "text": [
      "Training model using all of 768-dimension embeddings.\n"
     ]
    },
    {
     "name": "stderr",
     "output_type": "stream",
     "text": [
      "[Parallel(n_jobs=1)]: Using backend SequentialBackend with 1 concurrent workers.\n"
     ]
    },
    {
     "name": "stdout",
     "output_type": "stream",
     "text": [
      "Trained 17 models.\n"
     ]
    },
    {
     "name": "stderr",
     "output_type": "stream",
     "text": [
      "[Parallel(n_jobs=1)]: Done   1 out of   1 | elapsed: 26.1min remaining:    0.0s\n",
      "[Parallel(n_jobs=1)]: Done   1 out of   1 | elapsed: 26.1min finished\n"
     ]
    },
    {
     "data": {
      "application/vnd.jupyter.widget-view+json": {
       "model_id": "024aa02aa830443785264fea8900cc82",
       "version_major": 2,
       "version_minor": 0
      },
      "text/plain": [
       "IntProgress(value=0, description='Starting...', layout=Layout(width='100%'), max=17, style=ProgressStyle(descr…"
      ]
     },
     "metadata": {},
     "output_type": "display_data"
    },
    {
     "data": {
      "application/vnd.jupyter.widget-view+json": {
       "model_id": "8f2eda937d8b4bc38a26330563a00710",
       "version_major": 2,
       "version_minor": 0
      },
      "text/plain": [
       "IntProgress(value=0, description='Starting...', layout=Layout(width='100%'), max=139, style=ProgressStyle(desc…"
      ]
     },
     "metadata": {},
     "output_type": "display_data"
    },
    {
     "name": "stdout",
     "output_type": "stream",
     "text": [
      "Done with fold 9.\n"
     ]
    }
   ],
   "source": [
    "def handle_fold(fold_ix: int) -> Dict[str, Any]:\n",
    "    \"\"\"\n",
    "    The per-fold processing of the previous section's cells, collapsed into \n",
    "    a single function.\n",
    "    \n",
    "    :param fold_ix: 0-based index of fold\n",
    "    \n",
    "    :returns: a dictionary that maps data structure name to data structure\n",
    "    \"\"\"\n",
    "    # To avoid accidentally picking up leftover data from a previous cell,\n",
    "    # local to this function are named with a leading underscore\n",
    "    _train_inputs_df = corpus_df.merge(train_keys[fold_ix])\n",
    "    _test_inputs_df = corpus_df.merge(test_keys[fold_ix])\n",
    "    _models = maybe_train_models(_train_inputs_df, fold_ix)\n",
    "    _evals = eval_models(_models, _test_inputs_df)\n",
    "    _summary_df = make_summary_df(_evals)\n",
    "    _full_results = util.merge_model_results(_evals)\n",
    "    _results = _full_results[[\"fold\", \"doc_offset\", \"token_span\", \n",
    "                              \"ent_type\", \"gold\", \"num_models\"]]\n",
    "    return {\n",
    "        \"models\": _models,\n",
    "        \"summary_df\": _summary_df,\n",
    "        \"full_results\": _full_results,\n",
    "        \"results\": _results\n",
    "    }\n",
    "\n",
    "# Start with the (already computed) results for fold 0\n",
    "results_by_fold = [\n",
    "    {\n",
    "        \"models\": models,\n",
    "        \"summary_df\": summary_df,\n",
    "        \"full_results\": full_results,\n",
    "        \"results\": results\n",
    "    }\n",
    "]\n",
    "\n",
    "for fold in range(1, _KFOLD_NUM_FOLDS):\n",
    "    print(f\"Starting fold {fold}.\")\n",
    "    results_by_fold.append(handle_fold(fold))\n",
    "    print(f\"Done with fold {fold}.\")\n",
    "    "
   ]
  },
  {
   "cell_type": "code",
   "execution_count": 25,
   "metadata": {},
   "outputs": [
    {
     "data": {
      "text/html": [
       "<div>\n",
       "<style scoped>\n",
       "    .dataframe tbody tr th:only-of-type {\n",
       "        vertical-align: middle;\n",
       "    }\n",
       "\n",
       "    .dataframe tbody tr th {\n",
       "        vertical-align: top;\n",
       "    }\n",
       "\n",
       "    .dataframe thead th {\n",
       "        text-align: right;\n",
       "    }\n",
       "</style>\n",
       "<table border=\"1\" class=\"dataframe\">\n",
       "  <thead>\n",
       "    <tr style=\"text-align: right;\">\n",
       "      <th></th>\n",
       "      <th>fold</th>\n",
       "      <th>doc_offset</th>\n",
       "      <th>token_span</th>\n",
       "      <th>ent_type</th>\n",
       "      <th>gold</th>\n",
       "      <th>num_models</th>\n",
       "    </tr>\n",
       "  </thead>\n",
       "  <tbody>\n",
       "    <tr>\n",
       "      <th>0</th>\n",
       "      <td>train</td>\n",
       "      <td>12</td>\n",
       "      <td>[11, 16): 'Saudi'</td>\n",
       "      <td>MISC</td>\n",
       "      <td>True</td>\n",
       "      <td>17</td>\n",
       "    </tr>\n",
       "    <tr>\n",
       "      <th>1</th>\n",
       "      <td>train</td>\n",
       "      <td>12</td>\n",
       "      <td>[59, 65): 'MANAMA'</td>\n",
       "      <td>LOC</td>\n",
       "      <td>True</td>\n",
       "      <td>17</td>\n",
       "    </tr>\n",
       "    <tr>\n",
       "      <th>2</th>\n",
       "      <td>train</td>\n",
       "      <td>12</td>\n",
       "      <td>[86, 91): 'Saudi'</td>\n",
       "      <td>MISC</td>\n",
       "      <td>True</td>\n",
       "      <td>14</td>\n",
       "    </tr>\n",
       "    <tr>\n",
       "      <th>3</th>\n",
       "      <td>train</td>\n",
       "      <td>12</td>\n",
       "      <td>[259, 264): 'Saudi'</td>\n",
       "      <td>MISC</td>\n",
       "      <td>True</td>\n",
       "      <td>13</td>\n",
       "    </tr>\n",
       "    <tr>\n",
       "      <th>4</th>\n",
       "      <td>train</td>\n",
       "      <td>12</td>\n",
       "      <td>[402, 411): 'One-month'</td>\n",
       "      <td>MISC</td>\n",
       "      <td>True</td>\n",
       "      <td>9</td>\n",
       "    </tr>\n",
       "    <tr>\n",
       "      <th>...</th>\n",
       "      <td>...</td>\n",
       "      <td>...</td>\n",
       "      <td>...</td>\n",
       "      <td>...</td>\n",
       "      <td>...</td>\n",
       "      <td>...</td>\n",
       "    </tr>\n",
       "    <tr>\n",
       "      <th>13</th>\n",
       "      <td>validation</td>\n",
       "      <td>216</td>\n",
       "      <td>[20, 29): 'SHEFFIELD'</td>\n",
       "      <td>PER</td>\n",
       "      <td>False</td>\n",
       "      <td>12</td>\n",
       "    </tr>\n",
       "    <tr>\n",
       "      <th>14</th>\n",
       "      <td>validation</td>\n",
       "      <td>216</td>\n",
       "      <td>[166, 174): 'Tasmania'</td>\n",
       "      <td>LOC</td>\n",
       "      <td>False</td>\n",
       "      <td>14</td>\n",
       "    </tr>\n",
       "    <tr>\n",
       "      <th>15</th>\n",
       "      <td>validation</td>\n",
       "      <td>216</td>\n",
       "      <td>[179, 187): 'Victoria'</td>\n",
       "      <td>LOC</td>\n",
       "      <td>False</td>\n",
       "      <td>14</td>\n",
       "    </tr>\n",
       "    <tr>\n",
       "      <th>16</th>\n",
       "      <td>validation</td>\n",
       "      <td>216</td>\n",
       "      <td>[20, 29): 'SHEFFIELD'</td>\n",
       "      <td>LOC</td>\n",
       "      <td>False</td>\n",
       "      <td>1</td>\n",
       "    </tr>\n",
       "    <tr>\n",
       "      <th>17</th>\n",
       "      <td>validation</td>\n",
       "      <td>216</td>\n",
       "      <td>[127, 143): 'Sheffield Shield'</td>\n",
       "      <td>ORG</td>\n",
       "      <td>False</td>\n",
       "      <td>3</td>\n",
       "    </tr>\n",
       "  </tbody>\n",
       "</table>\n",
       "<p>44802 rows × 6 columns</p>\n",
       "</div>"
      ],
      "text/plain": [
       "          fold  doc_offset                      token_span ent_type   gold  \\\n",
       "0        train          12               [11, 16): 'Saudi'     MISC   True   \n",
       "1        train          12              [59, 65): 'MANAMA'      LOC   True   \n",
       "2        train          12               [86, 91): 'Saudi'     MISC   True   \n",
       "3        train          12             [259, 264): 'Saudi'     MISC   True   \n",
       "4        train          12         [402, 411): 'One-month'     MISC   True   \n",
       "..         ...         ...                             ...      ...    ...   \n",
       "13  validation         216           [20, 29): 'SHEFFIELD'      PER  False   \n",
       "14  validation         216          [166, 174): 'Tasmania'      LOC  False   \n",
       "15  validation         216          [179, 187): 'Victoria'      LOC  False   \n",
       "16  validation         216           [20, 29): 'SHEFFIELD'      LOC  False   \n",
       "17  validation         216  [127, 143): 'Sheffield Shield'      ORG  False   \n",
       "\n",
       "    num_models  \n",
       "0           17  \n",
       "1           17  \n",
       "2           14  \n",
       "3           13  \n",
       "4            9  \n",
       "..         ...  \n",
       "13          12  \n",
       "14          14  \n",
       "15          14  \n",
       "16           1  \n",
       "17           3  \n",
       "\n",
       "[44802 rows x 6 columns]"
      ]
     },
     "execution_count": 25,
     "metadata": {},
     "output_type": "execute_result"
    }
   ],
   "source": [
    "# Combine all the results into a single dataframe for the entire corpus\n",
    "all_results = pd.concat([r[\"results\"] for r in results_by_fold])\n",
    "all_results"
   ]
  },
  {
   "cell_type": "markdown",
   "metadata": {},
   "source": [
    "# Generate CSV files for manual labeling"
   ]
  },
  {
   "cell_type": "code",
   "execution_count": 27,
   "metadata": {},
   "outputs": [
    {
     "data": {
      "text/html": [
       "<div>\n",
       "<style scoped>\n",
       "    .dataframe tbody tr th:only-of-type {\n",
       "        vertical-align: middle;\n",
       "    }\n",
       "\n",
       "    .dataframe tbody tr th {\n",
       "        vertical-align: top;\n",
       "    }\n",
       "\n",
       "    .dataframe thead th {\n",
       "        text-align: right;\n",
       "    }\n",
       "</style>\n",
       "<table border=\"1\" class=\"dataframe\">\n",
       "  <thead>\n",
       "    <tr style=\"text-align: right;\">\n",
       "      <th></th>\n",
       "      <th>num_models</th>\n",
       "      <th>fold</th>\n",
       "      <th>doc_offset</th>\n",
       "      <th>corpus_span</th>\n",
       "      <th>corpus_ent_type</th>\n",
       "      <th>error_type</th>\n",
       "      <th>correct_span</th>\n",
       "      <th>correct_ent_type</th>\n",
       "      <th>notes</th>\n",
       "      <th>time_started</th>\n",
       "      <th>time_stopped</th>\n",
       "      <th>time_elapsed</th>\n",
       "    </tr>\n",
       "  </thead>\n",
       "  <tbody>\n",
       "    <tr>\n",
       "      <th>0</th>\n",
       "      <td>0</td>\n",
       "      <td>test</td>\n",
       "      <td>0</td>\n",
       "      <td>[20, 34): 'LEICESTERSHIRE'</td>\n",
       "      <td>ORG</td>\n",
       "      <td></td>\n",
       "      <td></td>\n",
       "      <td></td>\n",
       "      <td></td>\n",
       "      <td></td>\n",
       "      <td></td>\n",
       "      <td></td>\n",
       "    </tr>\n",
       "    <tr>\n",
       "      <th>0</th>\n",
       "      <td>0</td>\n",
       "      <td>test</td>\n",
       "      <td>2</td>\n",
       "      <td>[25, 30): 'ASHES'</td>\n",
       "      <td>MISC</td>\n",
       "      <td></td>\n",
       "      <td></td>\n",
       "      <td></td>\n",
       "      <td></td>\n",
       "      <td></td>\n",
       "      <td></td>\n",
       "      <td></td>\n",
       "    </tr>\n",
       "    <tr>\n",
       "      <th>3</th>\n",
       "      <td>0</td>\n",
       "      <td>test</td>\n",
       "      <td>2</td>\n",
       "      <td>[87, 92): 'Ashes'</td>\n",
       "      <td>MISC</td>\n",
       "      <td></td>\n",
       "      <td></td>\n",
       "      <td></td>\n",
       "      <td></td>\n",
       "      <td></td>\n",
       "      <td></td>\n",
       "      <td></td>\n",
       "    </tr>\n",
       "    <tr>\n",
       "      <th>5</th>\n",
       "      <td>0</td>\n",
       "      <td>test</td>\n",
       "      <td>2</td>\n",
       "      <td>[189, 218): 'Test and County Cricket Board'</td>\n",
       "      <td>ORG</td>\n",
       "      <td></td>\n",
       "      <td></td>\n",
       "      <td></td>\n",
       "      <td></td>\n",
       "      <td></td>\n",
       "      <td></td>\n",
       "      <td></td>\n",
       "    </tr>\n",
       "    <tr>\n",
       "      <th>13</th>\n",
       "      <td>0</td>\n",
       "      <td>test</td>\n",
       "      <td>2</td>\n",
       "      <td>[615, 636): 'Duke of Norfolk 's XI'</td>\n",
       "      <td>ORG</td>\n",
       "      <td></td>\n",
       "      <td></td>\n",
       "      <td></td>\n",
       "      <td></td>\n",
       "      <td></td>\n",
       "      <td></td>\n",
       "      <td></td>\n",
       "    </tr>\n",
       "    <tr>\n",
       "      <th>...</th>\n",
       "      <td>...</td>\n",
       "      <td>...</td>\n",
       "      <td>...</td>\n",
       "      <td>...</td>\n",
       "      <td>...</td>\n",
       "      <td>...</td>\n",
       "      <td>...</td>\n",
       "      <td>...</td>\n",
       "      <td>...</td>\n",
       "      <td>...</td>\n",
       "      <td>...</td>\n",
       "      <td>...</td>\n",
       "    </tr>\n",
       "    <tr>\n",
       "      <th>21</th>\n",
       "      <td>17</td>\n",
       "      <td>validation</td>\n",
       "      <td>230</td>\n",
       "      <td>[1108, 1115): 'Germany'</td>\n",
       "      <td>LOC</td>\n",
       "      <td></td>\n",
       "      <td></td>\n",
       "      <td></td>\n",
       "      <td></td>\n",
       "      <td></td>\n",
       "      <td></td>\n",
       "      <td></td>\n",
       "    </tr>\n",
       "    <tr>\n",
       "      <th>23</th>\n",
       "      <td>17</td>\n",
       "      <td>validation</td>\n",
       "      <td>230</td>\n",
       "      <td>[1153, 1160): 'England'</td>\n",
       "      <td>LOC</td>\n",
       "      <td></td>\n",
       "      <td></td>\n",
       "      <td></td>\n",
       "      <td></td>\n",
       "      <td></td>\n",
       "      <td></td>\n",
       "      <td></td>\n",
       "    </tr>\n",
       "    <tr>\n",
       "      <th>24</th>\n",
       "      <td>17</td>\n",
       "      <td>validation</td>\n",
       "      <td>230</td>\n",
       "      <td>[1213, 1225): 'Leeds United'</td>\n",
       "      <td>ORG</td>\n",
       "      <td></td>\n",
       "      <td></td>\n",
       "      <td></td>\n",
       "      <td></td>\n",
       "      <td></td>\n",
       "      <td></td>\n",
       "      <td></td>\n",
       "    </tr>\n",
       "    <tr>\n",
       "      <th>25</th>\n",
       "      <td>17</td>\n",
       "      <td>validation</td>\n",
       "      <td>230</td>\n",
       "      <td>[1252, 1259): 'England'</td>\n",
       "      <td>LOC</td>\n",
       "      <td></td>\n",
       "      <td></td>\n",
       "      <td></td>\n",
       "      <td></td>\n",
       "      <td></td>\n",
       "      <td></td>\n",
       "      <td></td>\n",
       "    </tr>\n",
       "    <tr>\n",
       "      <th>27</th>\n",
       "      <td>17</td>\n",
       "      <td>validation</td>\n",
       "      <td>230</td>\n",
       "      <td>[1395, 1400): 'Bobby'</td>\n",
       "      <td>PER</td>\n",
       "      <td></td>\n",
       "      <td></td>\n",
       "      <td></td>\n",
       "      <td></td>\n",
       "      <td></td>\n",
       "      <td></td>\n",
       "      <td></td>\n",
       "    </tr>\n",
       "  </tbody>\n",
       "</table>\n",
       "<p>11590 rows × 12 columns</p>\n",
       "</div>"
      ],
      "text/plain": [
       "    num_models        fold  doc_offset  \\\n",
       "0            0        test           0   \n",
       "0            0        test           2   \n",
       "3            0        test           2   \n",
       "5            0        test           2   \n",
       "13           0        test           2   \n",
       "..         ...         ...         ...   \n",
       "21          17  validation         230   \n",
       "23          17  validation         230   \n",
       "24          17  validation         230   \n",
       "25          17  validation         230   \n",
       "27          17  validation         230   \n",
       "\n",
       "                                    corpus_span corpus_ent_type error_type  \\\n",
       "0                    [20, 34): 'LEICESTERSHIRE'             ORG              \n",
       "0                             [25, 30): 'ASHES'            MISC              \n",
       "3                             [87, 92): 'Ashes'            MISC              \n",
       "5   [189, 218): 'Test and County Cricket Board'             ORG              \n",
       "13          [615, 636): 'Duke of Norfolk 's XI'             ORG              \n",
       "..                                          ...             ...        ...   \n",
       "21                      [1108, 1115): 'Germany'             LOC              \n",
       "23                      [1153, 1160): 'England'             LOC              \n",
       "24                 [1213, 1225): 'Leeds United'             ORG              \n",
       "25                      [1252, 1259): 'England'             LOC              \n",
       "27                        [1395, 1400): 'Bobby'             PER              \n",
       "\n",
       "   correct_span correct_ent_type notes time_started time_stopped time_elapsed  \n",
       "0                                                                              \n",
       "0                                                                              \n",
       "3                                                                              \n",
       "5                                                                              \n",
       "13                                                                             \n",
       "..          ...              ...   ...          ...          ...          ...  \n",
       "21                                                                             \n",
       "23                                                                             \n",
       "24                                                                             \n",
       "25                                                                             \n",
       "27                                                                             \n",
       "\n",
       "[11590 rows x 12 columns]"
      ]
     },
     "execution_count": 27,
     "metadata": {},
     "output_type": "execute_result"
    }
   ],
   "source": [
    "# Reformat for output\n",
    "test_and_validation_results = all_results[all_results[\"fold\"].isin([\"test\", \"validation\"])]\n",
    "in_gold_to_write, not_in_gold_to_write = util.csv_prep(test_and_validation_results, \"num_models\")\n",
    "in_gold_to_write"
   ]
  },
  {
   "cell_type": "code",
   "execution_count": 28,
   "metadata": {},
   "outputs": [
    {
     "data": {
      "text/html": [
       "<div>\n",
       "<style scoped>\n",
       "    .dataframe tbody tr th:only-of-type {\n",
       "        vertical-align: middle;\n",
       "    }\n",
       "\n",
       "    .dataframe tbody tr th {\n",
       "        vertical-align: top;\n",
       "    }\n",
       "\n",
       "    .dataframe thead th {\n",
       "        text-align: right;\n",
       "    }\n",
       "</style>\n",
       "<table border=\"1\" class=\"dataframe\">\n",
       "  <thead>\n",
       "    <tr style=\"text-align: right;\">\n",
       "      <th></th>\n",
       "      <th>num_models</th>\n",
       "      <th>fold</th>\n",
       "      <th>doc_offset</th>\n",
       "      <th>model_span</th>\n",
       "      <th>model_ent_type</th>\n",
       "      <th>error_type</th>\n",
       "      <th>corpus_span</th>\n",
       "      <th>corpus_ent_type</th>\n",
       "      <th>correct_span</th>\n",
       "      <th>correct_ent_type</th>\n",
       "      <th>notes</th>\n",
       "      <th>time_started</th>\n",
       "      <th>time_stopped</th>\n",
       "      <th>time_elapsed</th>\n",
       "    </tr>\n",
       "  </thead>\n",
       "  <tbody>\n",
       "    <tr>\n",
       "      <th>51</th>\n",
       "      <td>17</td>\n",
       "      <td>test</td>\n",
       "      <td>2</td>\n",
       "      <td>[762, 767): 'Leeds'</td>\n",
       "      <td>LOC</td>\n",
       "      <td></td>\n",
       "      <td></td>\n",
       "      <td></td>\n",
       "      <td></td>\n",
       "      <td></td>\n",
       "      <td></td>\n",
       "      <td></td>\n",
       "      <td></td>\n",
       "      <td></td>\n",
       "    </tr>\n",
       "    <tr>\n",
       "      <th>19</th>\n",
       "      <td>17</td>\n",
       "      <td>test</td>\n",
       "      <td>6</td>\n",
       "      <td>[262, 267): 'Rotor'</td>\n",
       "      <td>PER</td>\n",
       "      <td></td>\n",
       "      <td></td>\n",
       "      <td></td>\n",
       "      <td></td>\n",
       "      <td></td>\n",
       "      <td></td>\n",
       "      <td></td>\n",
       "      <td></td>\n",
       "      <td></td>\n",
       "    </tr>\n",
       "    <tr>\n",
       "      <th>20</th>\n",
       "      <td>17</td>\n",
       "      <td>test</td>\n",
       "      <td>6</td>\n",
       "      <td>[401, 406): 'Rotor'</td>\n",
       "      <td>PER</td>\n",
       "      <td></td>\n",
       "      <td></td>\n",
       "      <td></td>\n",
       "      <td></td>\n",
       "      <td></td>\n",
       "      <td></td>\n",
       "      <td></td>\n",
       "      <td></td>\n",
       "      <td></td>\n",
       "    </tr>\n",
       "    <tr>\n",
       "      <th>21</th>\n",
       "      <td>17</td>\n",
       "      <td>test</td>\n",
       "      <td>6</td>\n",
       "      <td>[570, 575): 'Rotor'</td>\n",
       "      <td>PER</td>\n",
       "      <td></td>\n",
       "      <td></td>\n",
       "      <td></td>\n",
       "      <td></td>\n",
       "      <td></td>\n",
       "      <td></td>\n",
       "      <td></td>\n",
       "      <td></td>\n",
       "      <td></td>\n",
       "    </tr>\n",
       "    <tr>\n",
       "      <th>101</th>\n",
       "      <td>17</td>\n",
       "      <td>test</td>\n",
       "      <td>11</td>\n",
       "      <td>[1971, 1985): 'Czech Republic'</td>\n",
       "      <td>LOC</td>\n",
       "      <td></td>\n",
       "      <td></td>\n",
       "      <td></td>\n",
       "      <td></td>\n",
       "      <td></td>\n",
       "      <td></td>\n",
       "      <td></td>\n",
       "      <td></td>\n",
       "      <td></td>\n",
       "    </tr>\n",
       "    <tr>\n",
       "      <th>...</th>\n",
       "      <td>...</td>\n",
       "      <td>...</td>\n",
       "      <td>...</td>\n",
       "      <td>...</td>\n",
       "      <td>...</td>\n",
       "      <td>...</td>\n",
       "      <td>...</td>\n",
       "      <td>...</td>\n",
       "      <td>...</td>\n",
       "      <td>...</td>\n",
       "      <td>...</td>\n",
       "      <td>...</td>\n",
       "      <td>...</td>\n",
       "      <td>...</td>\n",
       "    </tr>\n",
       "    <tr>\n",
       "      <th>41</th>\n",
       "      <td>1</td>\n",
       "      <td>validation</td>\n",
       "      <td>228</td>\n",
       "      <td>[40, 43): 'SIX'</td>\n",
       "      <td>ORG</td>\n",
       "      <td></td>\n",
       "      <td></td>\n",
       "      <td></td>\n",
       "      <td></td>\n",
       "      <td></td>\n",
       "      <td></td>\n",
       "      <td></td>\n",
       "      <td></td>\n",
       "      <td></td>\n",
       "    </tr>\n",
       "    <tr>\n",
       "      <th>44</th>\n",
       "      <td>1</td>\n",
       "      <td>validation</td>\n",
       "      <td>228</td>\n",
       "      <td>[831, 845): 'Super Peasants'</td>\n",
       "      <td>MISC</td>\n",
       "      <td></td>\n",
       "      <td></td>\n",
       "      <td></td>\n",
       "      <td></td>\n",
       "      <td></td>\n",
       "      <td></td>\n",
       "      <td></td>\n",
       "      <td></td>\n",
       "      <td></td>\n",
       "    </tr>\n",
       "    <tr>\n",
       "      <th>49</th>\n",
       "      <td>1</td>\n",
       "      <td>validation</td>\n",
       "      <td>228</td>\n",
       "      <td>[802, 812): 'Doetinchem'</td>\n",
       "      <td>MISC</td>\n",
       "      <td></td>\n",
       "      <td></td>\n",
       "      <td></td>\n",
       "      <td></td>\n",
       "      <td></td>\n",
       "      <td></td>\n",
       "      <td></td>\n",
       "      <td></td>\n",
       "      <td></td>\n",
       "    </tr>\n",
       "    <tr>\n",
       "      <th>28</th>\n",
       "      <td>1</td>\n",
       "      <td>validation</td>\n",
       "      <td>230</td>\n",
       "      <td>[19, 29): 'ENGLISHMAN'</td>\n",
       "      <td>LOC</td>\n",
       "      <td></td>\n",
       "      <td></td>\n",
       "      <td></td>\n",
       "      <td></td>\n",
       "      <td></td>\n",
       "      <td></td>\n",
       "      <td></td>\n",
       "      <td></td>\n",
       "      <td></td>\n",
       "    </tr>\n",
       "    <tr>\n",
       "      <th>30</th>\n",
       "      <td>1</td>\n",
       "      <td>validation</td>\n",
       "      <td>230</td>\n",
       "      <td>[19, 38): 'ENGLISHMAN CHARLTON'</td>\n",
       "      <td>PER</td>\n",
       "      <td></td>\n",
       "      <td></td>\n",
       "      <td></td>\n",
       "      <td></td>\n",
       "      <td></td>\n",
       "      <td></td>\n",
       "      <td></td>\n",
       "      <td></td>\n",
       "      <td></td>\n",
       "    </tr>\n",
       "  </tbody>\n",
       "</table>\n",
       "<p>4361 rows × 14 columns</p>\n",
       "</div>"
      ],
      "text/plain": [
       "     num_models        fold  doc_offset                       model_span  \\\n",
       "51           17        test           2              [762, 767): 'Leeds'   \n",
       "19           17        test           6              [262, 267): 'Rotor'   \n",
       "20           17        test           6              [401, 406): 'Rotor'   \n",
       "21           17        test           6              [570, 575): 'Rotor'   \n",
       "101          17        test          11   [1971, 1985): 'Czech Republic'   \n",
       "..          ...         ...         ...                              ...   \n",
       "41            1  validation         228                  [40, 43): 'SIX'   \n",
       "44            1  validation         228     [831, 845): 'Super Peasants'   \n",
       "49            1  validation         228         [802, 812): 'Doetinchem'   \n",
       "28            1  validation         230           [19, 29): 'ENGLISHMAN'   \n",
       "30            1  validation         230  [19, 38): 'ENGLISHMAN CHARLTON'   \n",
       "\n",
       "    model_ent_type error_type corpus_span corpus_ent_type correct_span  \\\n",
       "51             LOC                                                       \n",
       "19             PER                                                       \n",
       "20             PER                                                       \n",
       "21             PER                                                       \n",
       "101            LOC                                                       \n",
       "..             ...        ...         ...             ...          ...   \n",
       "41             ORG                                                       \n",
       "44            MISC                                                       \n",
       "49            MISC                                                       \n",
       "28             LOC                                                       \n",
       "30             PER                                                       \n",
       "\n",
       "    correct_ent_type notes time_started time_stopped time_elapsed  \n",
       "51                                                                 \n",
       "19                                                                 \n",
       "20                                                                 \n",
       "21                                                                 \n",
       "101                                                                \n",
       "..               ...   ...          ...          ...          ...  \n",
       "41                                                                 \n",
       "44                                                                 \n",
       "49                                                                 \n",
       "28                                                                 \n",
       "30                                                                 \n",
       "\n",
       "[4361 rows x 14 columns]"
      ]
     },
     "execution_count": 28,
     "metadata": {},
     "output_type": "execute_result"
    }
   ],
   "source": [
    "not_in_gold_to_write"
   ]
  },
  {
   "cell_type": "code",
   "execution_count": 29,
   "metadata": {},
   "outputs": [],
   "source": [
    "in_gold_to_write.to_csv(\"outputs/CoNLL_4_in_gold.csv\", index=False)\n",
    "not_in_gold_to_write.to_csv(\"outputs/CoNLL_4_not_in_gold.csv\", index=False)"
   ]
  },
  {
   "cell_type": "code",
   "execution_count": 30,
   "metadata": {},
   "outputs": [
    {
     "data": {
      "text/html": [
       "<div>\n",
       "<style scoped>\n",
       "    .dataframe tbody tr th:only-of-type {\n",
       "        vertical-align: middle;\n",
       "    }\n",
       "\n",
       "    .dataframe tbody tr th {\n",
       "        vertical-align: top;\n",
       "    }\n",
       "\n",
       "    .dataframe thead th {\n",
       "        text-align: right;\n",
       "    }\n",
       "</style>\n",
       "<table border=\"1\" class=\"dataframe\">\n",
       "  <thead>\n",
       "    <tr style=\"text-align: right;\">\n",
       "      <th></th>\n",
       "      <th>num_models</th>\n",
       "      <th>fold</th>\n",
       "      <th>doc_offset</th>\n",
       "      <th>corpus_span</th>\n",
       "      <th>corpus_ent_type</th>\n",
       "      <th>error_type</th>\n",
       "      <th>correct_span</th>\n",
       "      <th>correct_ent_type</th>\n",
       "      <th>notes</th>\n",
       "      <th>time_started</th>\n",
       "      <th>time_stopped</th>\n",
       "      <th>time_elapsed</th>\n",
       "    </tr>\n",
       "  </thead>\n",
       "  <tbody>\n",
       "    <tr>\n",
       "      <th>3</th>\n",
       "      <td>0</td>\n",
       "      <td>train</td>\n",
       "      <td>6</td>\n",
       "      <td>[121, 137): 'Toronto Dominion'</td>\n",
       "      <td>PER</td>\n",
       "      <td></td>\n",
       "      <td></td>\n",
       "      <td></td>\n",
       "      <td></td>\n",
       "      <td></td>\n",
       "      <td></td>\n",
       "      <td></td>\n",
       "    </tr>\n",
       "    <tr>\n",
       "      <th>4</th>\n",
       "      <td>0</td>\n",
       "      <td>train</td>\n",
       "      <td>24</td>\n",
       "      <td>[162, 170): 'Africans'</td>\n",
       "      <td>MISC</td>\n",
       "      <td></td>\n",
       "      <td></td>\n",
       "      <td></td>\n",
       "      <td></td>\n",
       "      <td></td>\n",
       "      <td></td>\n",
       "      <td></td>\n",
       "    </tr>\n",
       "    <tr>\n",
       "      <th>7</th>\n",
       "      <td>0</td>\n",
       "      <td>train</td>\n",
       "      <td>24</td>\n",
       "      <td>[386, 390): 'FLNC'</td>\n",
       "      <td>ORG</td>\n",
       "      <td></td>\n",
       "      <td></td>\n",
       "      <td></td>\n",
       "      <td></td>\n",
       "      <td></td>\n",
       "      <td></td>\n",
       "      <td></td>\n",
       "    </tr>\n",
       "    <tr>\n",
       "      <th>4</th>\n",
       "      <td>0</td>\n",
       "      <td>train</td>\n",
       "      <td>25</td>\n",
       "      <td>[141, 151): 'mid-Norway'</td>\n",
       "      <td>MISC</td>\n",
       "      <td></td>\n",
       "      <td></td>\n",
       "      <td></td>\n",
       "      <td></td>\n",
       "      <td></td>\n",
       "      <td></td>\n",
       "      <td></td>\n",
       "    </tr>\n",
       "    <tr>\n",
       "      <th>13</th>\n",
       "      <td>0</td>\n",
       "      <td>train</td>\n",
       "      <td>28</td>\n",
       "      <td>[1129, 1131): 'EU'</td>\n",
       "      <td>ORG</td>\n",
       "      <td></td>\n",
       "      <td></td>\n",
       "      <td></td>\n",
       "      <td></td>\n",
       "      <td></td>\n",
       "      <td></td>\n",
       "      <td></td>\n",
       "    </tr>\n",
       "    <tr>\n",
       "      <th>...</th>\n",
       "      <td>...</td>\n",
       "      <td>...</td>\n",
       "      <td>...</td>\n",
       "      <td>...</td>\n",
       "      <td>...</td>\n",
       "      <td>...</td>\n",
       "      <td>...</td>\n",
       "      <td>...</td>\n",
       "      <td>...</td>\n",
       "      <td>...</td>\n",
       "      <td>...</td>\n",
       "      <td>...</td>\n",
       "    </tr>\n",
       "    <tr>\n",
       "      <th>2</th>\n",
       "      <td>17</td>\n",
       "      <td>train</td>\n",
       "      <td>945</td>\n",
       "      <td>[72, 79): 'English'</td>\n",
       "      <td>MISC</td>\n",
       "      <td></td>\n",
       "      <td></td>\n",
       "      <td></td>\n",
       "      <td></td>\n",
       "      <td></td>\n",
       "      <td></td>\n",
       "      <td></td>\n",
       "    </tr>\n",
       "    <tr>\n",
       "      <th>3</th>\n",
       "      <td>17</td>\n",
       "      <td>train</td>\n",
       "      <td>945</td>\n",
       "      <td>[119, 127): 'Plymouth'</td>\n",
       "      <td>ORG</td>\n",
       "      <td></td>\n",
       "      <td></td>\n",
       "      <td></td>\n",
       "      <td></td>\n",
       "      <td></td>\n",
       "      <td></td>\n",
       "      <td></td>\n",
       "    </tr>\n",
       "    <tr>\n",
       "      <th>4</th>\n",
       "      <td>17</td>\n",
       "      <td>train</td>\n",
       "      <td>945</td>\n",
       "      <td>[130, 137): 'Preston'</td>\n",
       "      <td>ORG</td>\n",
       "      <td></td>\n",
       "      <td></td>\n",
       "      <td></td>\n",
       "      <td></td>\n",
       "      <td></td>\n",
       "      <td></td>\n",
       "      <td></td>\n",
       "    </tr>\n",
       "    <tr>\n",
       "      <th>5</th>\n",
       "      <td>17</td>\n",
       "      <td>train</td>\n",
       "      <td>945</td>\n",
       "      <td>[155, 162): 'Swansea'</td>\n",
       "      <td>ORG</td>\n",
       "      <td></td>\n",
       "      <td></td>\n",
       "      <td></td>\n",
       "      <td></td>\n",
       "      <td></td>\n",
       "      <td></td>\n",
       "      <td></td>\n",
       "    </tr>\n",
       "    <tr>\n",
       "      <th>6</th>\n",
       "      <td>17</td>\n",
       "      <td>train</td>\n",
       "      <td>945</td>\n",
       "      <td>[165, 172): 'Lincoln'</td>\n",
       "      <td>ORG</td>\n",
       "      <td></td>\n",
       "      <td></td>\n",
       "      <td></td>\n",
       "      <td></td>\n",
       "      <td></td>\n",
       "      <td></td>\n",
       "      <td></td>\n",
       "    </tr>\n",
       "  </tbody>\n",
       "</table>\n",
       "<p>23499 rows × 12 columns</p>\n",
       "</div>"
      ],
      "text/plain": [
       "    num_models   fold  doc_offset                     corpus_span  \\\n",
       "3            0  train           6  [121, 137): 'Toronto Dominion'   \n",
       "4            0  train          24          [162, 170): 'Africans'   \n",
       "7            0  train          24              [386, 390): 'FLNC'   \n",
       "4            0  train          25        [141, 151): 'mid-Norway'   \n",
       "13           0  train          28              [1129, 1131): 'EU'   \n",
       "..         ...    ...         ...                             ...   \n",
       "2           17  train         945             [72, 79): 'English'   \n",
       "3           17  train         945          [119, 127): 'Plymouth'   \n",
       "4           17  train         945           [130, 137): 'Preston'   \n",
       "5           17  train         945           [155, 162): 'Swansea'   \n",
       "6           17  train         945           [165, 172): 'Lincoln'   \n",
       "\n",
       "   corpus_ent_type error_type correct_span correct_ent_type notes  \\\n",
       "3              PER                                                  \n",
       "4             MISC                                                  \n",
       "7              ORG                                                  \n",
       "4             MISC                                                  \n",
       "13             ORG                                                  \n",
       "..             ...        ...          ...              ...   ...   \n",
       "2             MISC                                                  \n",
       "3              ORG                                                  \n",
       "4              ORG                                                  \n",
       "5              ORG                                                  \n",
       "6              ORG                                                  \n",
       "\n",
       "   time_started time_stopped time_elapsed  \n",
       "3                                          \n",
       "4                                          \n",
       "7                                          \n",
       "4                                          \n",
       "13                                         \n",
       "..          ...          ...          ...  \n",
       "2                                          \n",
       "3                                          \n",
       "4                                          \n",
       "5                                          \n",
       "6                                          \n",
       "\n",
       "[23499 rows x 12 columns]"
      ]
     },
     "execution_count": 30,
     "metadata": {},
     "output_type": "execute_result"
    }
   ],
   "source": [
    "# Repeat for the contents of the original training set\n",
    "train_results = all_results[all_results[\"fold\"] == \"train\"]\n",
    "in_gold_to_write, not_in_gold_to_write = util.csv_prep(train_results, \"num_models\")\n",
    "in_gold_to_write"
   ]
  },
  {
   "cell_type": "code",
   "execution_count": 31,
   "metadata": {},
   "outputs": [
    {
     "data": {
      "text/html": [
       "<div>\n",
       "<style scoped>\n",
       "    .dataframe tbody tr th:only-of-type {\n",
       "        vertical-align: middle;\n",
       "    }\n",
       "\n",
       "    .dataframe tbody tr th {\n",
       "        vertical-align: top;\n",
       "    }\n",
       "\n",
       "    .dataframe thead th {\n",
       "        text-align: right;\n",
       "    }\n",
       "</style>\n",
       "<table border=\"1\" class=\"dataframe\">\n",
       "  <thead>\n",
       "    <tr style=\"text-align: right;\">\n",
       "      <th></th>\n",
       "      <th>num_models</th>\n",
       "      <th>fold</th>\n",
       "      <th>doc_offset</th>\n",
       "      <th>model_span</th>\n",
       "      <th>model_ent_type</th>\n",
       "      <th>error_type</th>\n",
       "      <th>corpus_span</th>\n",
       "      <th>corpus_ent_type</th>\n",
       "      <th>correct_span</th>\n",
       "      <th>correct_ent_type</th>\n",
       "      <th>notes</th>\n",
       "      <th>time_started</th>\n",
       "      <th>time_stopped</th>\n",
       "      <th>time_elapsed</th>\n",
       "    </tr>\n",
       "  </thead>\n",
       "  <tbody>\n",
       "    <tr>\n",
       "      <th>8</th>\n",
       "      <td>17</td>\n",
       "      <td>train</td>\n",
       "      <td>3</td>\n",
       "      <td>[0, 10): '-DOCSTART-'</td>\n",
       "      <td>LOC</td>\n",
       "      <td></td>\n",
       "      <td></td>\n",
       "      <td></td>\n",
       "      <td></td>\n",
       "      <td></td>\n",
       "      <td></td>\n",
       "      <td></td>\n",
       "      <td></td>\n",
       "      <td></td>\n",
       "    </tr>\n",
       "    <tr>\n",
       "      <th>13</th>\n",
       "      <td>17</td>\n",
       "      <td>train</td>\n",
       "      <td>6</td>\n",
       "      <td>[121, 137): 'Toronto Dominion'</td>\n",
       "      <td>LOC</td>\n",
       "      <td></td>\n",
       "      <td></td>\n",
       "      <td></td>\n",
       "      <td></td>\n",
       "      <td></td>\n",
       "      <td></td>\n",
       "      <td></td>\n",
       "      <td></td>\n",
       "      <td></td>\n",
       "    </tr>\n",
       "    <tr>\n",
       "      <th>10</th>\n",
       "      <td>17</td>\n",
       "      <td>train</td>\n",
       "      <td>25</td>\n",
       "      <td>[141, 151): 'mid-Norway'</td>\n",
       "      <td>LOC</td>\n",
       "      <td></td>\n",
       "      <td></td>\n",
       "      <td></td>\n",
       "      <td></td>\n",
       "      <td></td>\n",
       "      <td></td>\n",
       "      <td></td>\n",
       "      <td></td>\n",
       "      <td></td>\n",
       "    </tr>\n",
       "    <tr>\n",
       "      <th>66</th>\n",
       "      <td>17</td>\n",
       "      <td>train</td>\n",
       "      <td>29</td>\n",
       "      <td>[456, 470): 'Phil Mickelson'</td>\n",
       "      <td>PER</td>\n",
       "      <td></td>\n",
       "      <td></td>\n",
       "      <td></td>\n",
       "      <td></td>\n",
       "      <td></td>\n",
       "      <td></td>\n",
       "      <td></td>\n",
       "      <td></td>\n",
       "      <td></td>\n",
       "    </tr>\n",
       "    <tr>\n",
       "      <th>67</th>\n",
       "      <td>17</td>\n",
       "      <td>train</td>\n",
       "      <td>29</td>\n",
       "      <td>[765, 777): 'Mark O'Meara'</td>\n",
       "      <td>PER</td>\n",
       "      <td></td>\n",
       "      <td></td>\n",
       "      <td></td>\n",
       "      <td></td>\n",
       "      <td></td>\n",
       "      <td></td>\n",
       "      <td></td>\n",
       "      <td></td>\n",
       "      <td></td>\n",
       "    </tr>\n",
       "    <tr>\n",
       "      <th>...</th>\n",
       "      <td>...</td>\n",
       "      <td>...</td>\n",
       "      <td>...</td>\n",
       "      <td>...</td>\n",
       "      <td>...</td>\n",
       "      <td>...</td>\n",
       "      <td>...</td>\n",
       "      <td>...</td>\n",
       "      <td>...</td>\n",
       "      <td>...</td>\n",
       "      <td>...</td>\n",
       "      <td>...</td>\n",
       "      <td>...</td>\n",
       "      <td>...</td>\n",
       "    </tr>\n",
       "    <tr>\n",
       "      <th>42</th>\n",
       "      <td>1</td>\n",
       "      <td>train</td>\n",
       "      <td>943</td>\n",
       "      <td>[25, 41): 'SAN MARINO GRAND'</td>\n",
       "      <td>LOC</td>\n",
       "      <td></td>\n",
       "      <td></td>\n",
       "      <td></td>\n",
       "      <td></td>\n",
       "      <td></td>\n",
       "      <td></td>\n",
       "      <td></td>\n",
       "      <td></td>\n",
       "      <td></td>\n",
       "    </tr>\n",
       "    <tr>\n",
       "      <th>60</th>\n",
       "      <td>1</td>\n",
       "      <td>train</td>\n",
       "      <td>944</td>\n",
       "      <td>[11, 15): 'GOLF'</td>\n",
       "      <td>LOC</td>\n",
       "      <td></td>\n",
       "      <td></td>\n",
       "      <td></td>\n",
       "      <td></td>\n",
       "      <td></td>\n",
       "      <td></td>\n",
       "      <td></td>\n",
       "      <td></td>\n",
       "      <td></td>\n",
       "    </tr>\n",
       "    <tr>\n",
       "      <th>62</th>\n",
       "      <td>1</td>\n",
       "      <td>train</td>\n",
       "      <td>944</td>\n",
       "      <td>[25, 32): 'MASTERS'</td>\n",
       "      <td>PER</td>\n",
       "      <td></td>\n",
       "      <td></td>\n",
       "      <td></td>\n",
       "      <td></td>\n",
       "      <td></td>\n",
       "      <td></td>\n",
       "      <td></td>\n",
       "      <td></td>\n",
       "      <td></td>\n",
       "    </tr>\n",
       "    <tr>\n",
       "      <th>63</th>\n",
       "      <td>1</td>\n",
       "      <td>train</td>\n",
       "      <td>944</td>\n",
       "      <td>[17, 32): 'BRITISH MASTERS'</td>\n",
       "      <td>LOC</td>\n",
       "      <td></td>\n",
       "      <td></td>\n",
       "      <td></td>\n",
       "      <td></td>\n",
       "      <td></td>\n",
       "      <td></td>\n",
       "      <td></td>\n",
       "      <td></td>\n",
       "      <td></td>\n",
       "    </tr>\n",
       "    <tr>\n",
       "      <th>64</th>\n",
       "      <td>1</td>\n",
       "      <td>train</td>\n",
       "      <td>944</td>\n",
       "      <td>[25, 32): 'MASTERS'</td>\n",
       "      <td>MISC</td>\n",
       "      <td></td>\n",
       "      <td></td>\n",
       "      <td></td>\n",
       "      <td></td>\n",
       "      <td></td>\n",
       "      <td></td>\n",
       "      <td></td>\n",
       "      <td></td>\n",
       "      <td></td>\n",
       "    </tr>\n",
       "  </tbody>\n",
       "</table>\n",
       "<p>5352 rows × 14 columns</p>\n",
       "</div>"
      ],
      "text/plain": [
       "    num_models   fold  doc_offset                      model_span  \\\n",
       "8           17  train           3           [0, 10): '-DOCSTART-'   \n",
       "13          17  train           6  [121, 137): 'Toronto Dominion'   \n",
       "10          17  train          25        [141, 151): 'mid-Norway'   \n",
       "66          17  train          29    [456, 470): 'Phil Mickelson'   \n",
       "67          17  train          29      [765, 777): 'Mark O'Meara'   \n",
       "..         ...    ...         ...                             ...   \n",
       "42           1  train         943    [25, 41): 'SAN MARINO GRAND'   \n",
       "60           1  train         944                [11, 15): 'GOLF'   \n",
       "62           1  train         944             [25, 32): 'MASTERS'   \n",
       "63           1  train         944     [17, 32): 'BRITISH MASTERS'   \n",
       "64           1  train         944             [25, 32): 'MASTERS'   \n",
       "\n",
       "   model_ent_type error_type corpus_span corpus_ent_type correct_span  \\\n",
       "8             LOC                                                       \n",
       "13            LOC                                                       \n",
       "10            LOC                                                       \n",
       "66            PER                                                       \n",
       "67            PER                                                       \n",
       "..            ...        ...         ...             ...          ...   \n",
       "42            LOC                                                       \n",
       "60            LOC                                                       \n",
       "62            PER                                                       \n",
       "63            LOC                                                       \n",
       "64           MISC                                                       \n",
       "\n",
       "   correct_ent_type notes time_started time_stopped time_elapsed  \n",
       "8                                                                 \n",
       "13                                                                \n",
       "10                                                                \n",
       "66                                                                \n",
       "67                                                                \n",
       "..              ...   ...          ...          ...          ...  \n",
       "42                                                                \n",
       "60                                                                \n",
       "62                                                                \n",
       "63                                                                \n",
       "64                                                                \n",
       "\n",
       "[5352 rows x 14 columns]"
      ]
     },
     "execution_count": 31,
     "metadata": {},
     "output_type": "execute_result"
    }
   ],
   "source": [
    "not_in_gold_to_write"
   ]
  },
  {
   "cell_type": "code",
   "execution_count": 32,
   "metadata": {},
   "outputs": [],
   "source": [
    "in_gold_to_write.to_csv(\"outputs/CoNLL_4_train_in_gold.csv\", index=False)\n",
    "not_in_gold_to_write.to_csv(\"outputs/CoNLL_4_train_not_in_gold.csv\", index=False)"
   ]
  },
  {
   "cell_type": "code",
   "execution_count": null,
   "metadata": {},
   "outputs": [],
   "source": []
  }
 ],
 "metadata": {
  "kernelspec": {
   "display_name": "Python 3",
   "language": "python",
   "name": "python3"
  },
  "language_info": {
   "codemirror_mode": {
    "name": "ipython",
    "version": 3
   },
   "file_extension": ".py",
   "mimetype": "text/x-python",
   "name": "python",
   "nbconvert_exporter": "python",
   "pygments_lexer": "ipython3",
   "version": "3.7.7"
  }
 },
 "nbformat": 4,
 "nbformat_minor": 4
}
